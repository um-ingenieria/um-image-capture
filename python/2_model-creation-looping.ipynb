{
 "cells": [
  {
   "cell_type": "markdown",
   "metadata": {},
   "source": [
    "## Este notebook es encargado utilizar el CSV con las prruebas consolidadas para crear y entrenar un modelo"
   ]
  },
  {
   "cell_type": "code",
   "execution_count": 1,
   "metadata": {},
   "outputs": [],
   "source": [
    "import numpy as np\n",
    "import pandas as pd\n",
    "import matplotlib.pyplot as plt\n",
    "%matplotlib inline\n",
    "import seaborn as sns\n",
    "import sklearn\n",
    "from sklearn import preprocessing\n",
    "import math\n",
    "from sklearn.model_selection import cross_val_score\n",
    "from sklearn.model_selection import cross_val_predict\n",
    "from sklearn.metrics import confusion_matrix\n",
    "from sklearn.metrics import precision_score, recall_score, f1_score\n",
    "from sklearn import svm\n",
    "from sklearn.model_selection import train_test_split\n",
    "from sklearn.metrics import confusion_matrix\n",
    "from sklearn import preprocessing\n",
    "from sklearn.model_selection import cross_val_score, cross_val_predict\n",
    "from sklearn.metrics import accuracy_score, classification_report\n",
    "from sklearn.metrics import confusion_matrix, roc_auc_score\n",
    "from sklearn.model_selection import cross_val_score\n",
    "from sklearn.model_selection import cross_val_predict\n",
    "from sklearn.metrics import confusion_matrix\n",
    "from sklearn.metrics import precision_score, recall_score, f1_score\n",
    "from sklearn import svm\n",
    "from sklearn.model_selection import train_test_split\n",
    "from sklearn.metrics import confusion_matrix\n",
    "from sklearn.pipeline import Pipeline\n",
    "from sklearn.model_selection import train_test_split, GridSearchCV\n",
    "from sklearn.ensemble import AdaBoostClassifier\n",
    "from sklearn.ensemble import RandomForestClassifier\n",
    "from sklearn.neighbors import KNeighborsClassifier\n",
    "from collections import namedtuple\n",
    "import sys\n",
    "import pickle"
   ]
  },
  {
   "cell_type": "code",
   "execution_count": 2,
   "metadata": {},
   "outputs": [
    {
     "data": {
      "text/html": [
       "<div>\n",
       "<style scoped>\n",
       "    .dataframe tbody tr th:only-of-type {\n",
       "        vertical-align: middle;\n",
       "    }\n",
       "\n",
       "    .dataframe tbody tr th {\n",
       "        vertical-align: top;\n",
       "    }\n",
       "\n",
       "    .dataframe thead th {\n",
       "        text-align: right;\n",
       "    }\n",
       "</style>\n",
       "<table border=\"1\" class=\"dataframe\">\n",
       "  <thead>\n",
       "    <tr style=\"text-align: right;\">\n",
       "      <th></th>\n",
       "      <th>HR</th>\n",
       "      <th>RR</th>\n",
       "      <th>HRV</th>\n",
       "      <th>MicroSiemens</th>\n",
       "      <th>SCR</th>\n",
       "      <th>SCR_MIN</th>\n",
       "      <th>PhaseName</th>\n",
       "      <th>ArousalMean</th>\n",
       "      <th>Aroused</th>\n",
       "      <th>TimeStamp</th>\n",
       "      <th>...</th>\n",
       "      <th>HR-2</th>\n",
       "      <th>HR-1</th>\n",
       "      <th>HRV-4</th>\n",
       "      <th>HRV-3</th>\n",
       "      <th>HRV-2</th>\n",
       "      <th>HRV-1</th>\n",
       "      <th>MicroSiemens-4</th>\n",
       "      <th>MicroSiemens-3</th>\n",
       "      <th>MicroSiemens-2</th>\n",
       "      <th>MicroSiemens-1</th>\n",
       "    </tr>\n",
       "  </thead>\n",
       "  <tbody>\n",
       "    <tr>\n",
       "      <th>0</th>\n",
       "      <td>0.180957</td>\n",
       "      <td>-0.246737</td>\n",
       "      <td>-0.638383</td>\n",
       "      <td>1.604263</td>\n",
       "      <td>0</td>\n",
       "      <td>0</td>\n",
       "      <td>HA_PV</td>\n",
       "      <td>6.07</td>\n",
       "      <td>1</td>\n",
       "      <td>2020-10-25 19:03:44</td>\n",
       "      <td>...</td>\n",
       "      <td>0.180957</td>\n",
       "      <td>0.180957</td>\n",
       "      <td>-0.638383</td>\n",
       "      <td>-0.638383</td>\n",
       "      <td>-0.638383</td>\n",
       "      <td>-0.638383</td>\n",
       "      <td>1.604263</td>\n",
       "      <td>1.604263</td>\n",
       "      <td>1.604263</td>\n",
       "      <td>1.604263</td>\n",
       "    </tr>\n",
       "    <tr>\n",
       "      <th>1</th>\n",
       "      <td>0.463350</td>\n",
       "      <td>-0.508771</td>\n",
       "      <td>-0.930989</td>\n",
       "      <td>1.357679</td>\n",
       "      <td>0</td>\n",
       "      <td>0</td>\n",
       "      <td>HA_PV</td>\n",
       "      <td>6.07</td>\n",
       "      <td>1</td>\n",
       "      <td>2020-10-25 19:03:44</td>\n",
       "      <td>...</td>\n",
       "      <td>0.463350</td>\n",
       "      <td>0.463350</td>\n",
       "      <td>-0.930989</td>\n",
       "      <td>-0.930989</td>\n",
       "      <td>-0.930989</td>\n",
       "      <td>-0.930989</td>\n",
       "      <td>1.357679</td>\n",
       "      <td>1.357679</td>\n",
       "      <td>1.357679</td>\n",
       "      <td>1.357679</td>\n",
       "    </tr>\n",
       "    <tr>\n",
       "      <th>2</th>\n",
       "      <td>0.419905</td>\n",
       "      <td>-0.468458</td>\n",
       "      <td>-1.085573</td>\n",
       "      <td>1.357679</td>\n",
       "      <td>0</td>\n",
       "      <td>0</td>\n",
       "      <td>HA_PV</td>\n",
       "      <td>6.07</td>\n",
       "      <td>1</td>\n",
       "      <td>2020-10-25 19:03:45</td>\n",
       "      <td>...</td>\n",
       "      <td>0.419905</td>\n",
       "      <td>0.419905</td>\n",
       "      <td>-1.085573</td>\n",
       "      <td>-1.085573</td>\n",
       "      <td>-1.085573</td>\n",
       "      <td>-1.085573</td>\n",
       "      <td>1.357679</td>\n",
       "      <td>1.357679</td>\n",
       "      <td>1.357679</td>\n",
       "      <td>1.357679</td>\n",
       "    </tr>\n",
       "    <tr>\n",
       "      <th>3</th>\n",
       "      <td>0.419905</td>\n",
       "      <td>-0.468458</td>\n",
       "      <td>-1.121459</td>\n",
       "      <td>1.111095</td>\n",
       "      <td>0</td>\n",
       "      <td>0</td>\n",
       "      <td>HA_PV</td>\n",
       "      <td>7.31</td>\n",
       "      <td>1</td>\n",
       "      <td>2020-10-25 19:03:46</td>\n",
       "      <td>...</td>\n",
       "      <td>0.419905</td>\n",
       "      <td>0.419905</td>\n",
       "      <td>-1.121459</td>\n",
       "      <td>-1.121459</td>\n",
       "      <td>-1.121459</td>\n",
       "      <td>-1.121459</td>\n",
       "      <td>1.111095</td>\n",
       "      <td>1.111095</td>\n",
       "      <td>1.111095</td>\n",
       "      <td>1.111095</td>\n",
       "    </tr>\n",
       "    <tr>\n",
       "      <th>4</th>\n",
       "      <td>0.506795</td>\n",
       "      <td>-0.549084</td>\n",
       "      <td>-1.088333</td>\n",
       "      <td>1.111095</td>\n",
       "      <td>0</td>\n",
       "      <td>0</td>\n",
       "      <td>HA_PV</td>\n",
       "      <td>7.31</td>\n",
       "      <td>1</td>\n",
       "      <td>2020-10-25 19:03:46</td>\n",
       "      <td>...</td>\n",
       "      <td>0.419905</td>\n",
       "      <td>0.419905</td>\n",
       "      <td>-0.638383</td>\n",
       "      <td>-0.930989</td>\n",
       "      <td>-1.085573</td>\n",
       "      <td>-1.121459</td>\n",
       "      <td>1.604263</td>\n",
       "      <td>1.357679</td>\n",
       "      <td>1.357679</td>\n",
       "      <td>1.111095</td>\n",
       "    </tr>\n",
       "  </tbody>\n",
       "</table>\n",
       "<p>5 rows × 22 columns</p>\n",
       "</div>"
      ],
      "text/plain": [
       "         HR        RR       HRV  MicroSiemens  SCR  SCR_MIN PhaseName  \\\n",
       "0  0.180957 -0.246737 -0.638383      1.604263    0        0     HA_PV   \n",
       "1  0.463350 -0.508771 -0.930989      1.357679    0        0     HA_PV   \n",
       "2  0.419905 -0.468458 -1.085573      1.357679    0        0     HA_PV   \n",
       "3  0.419905 -0.468458 -1.121459      1.111095    0        0     HA_PV   \n",
       "4  0.506795 -0.549084 -1.088333      1.111095    0        0     HA_PV   \n",
       "\n",
       "   ArousalMean  Aroused            TimeStamp  ...      HR-2      HR-1  \\\n",
       "0         6.07        1  2020-10-25 19:03:44  ...  0.180957  0.180957   \n",
       "1         6.07        1  2020-10-25 19:03:44  ...  0.463350  0.463350   \n",
       "2         6.07        1  2020-10-25 19:03:45  ...  0.419905  0.419905   \n",
       "3         7.31        1  2020-10-25 19:03:46  ...  0.419905  0.419905   \n",
       "4         7.31        1  2020-10-25 19:03:46  ...  0.419905  0.419905   \n",
       "\n",
       "      HRV-4     HRV-3     HRV-2     HRV-1  MicroSiemens-4  MicroSiemens-3  \\\n",
       "0 -0.638383 -0.638383 -0.638383 -0.638383        1.604263        1.604263   \n",
       "1 -0.930989 -0.930989 -0.930989 -0.930989        1.357679        1.357679   \n",
       "2 -1.085573 -1.085573 -1.085573 -1.085573        1.357679        1.357679   \n",
       "3 -1.121459 -1.121459 -1.121459 -1.121459        1.111095        1.111095   \n",
       "4 -0.638383 -0.930989 -1.085573 -1.121459        1.604263        1.357679   \n",
       "\n",
       "   MicroSiemens-2  MicroSiemens-1  \n",
       "0        1.604263        1.604263  \n",
       "1        1.357679        1.357679  \n",
       "2        1.357679        1.357679  \n",
       "3        1.111095        1.111095  \n",
       "4        1.357679        1.111095  \n",
       "\n",
       "[5 rows x 22 columns]"
      ]
     },
     "execution_count": 2,
     "metadata": {},
     "output_type": "execute_result"
    }
   ],
   "source": [
    "biometrics_df = pd.read_csv(\"./1_standarized_biometrics.csv\")\n",
    "biometrics_df.head()"
   ]
  },
  {
   "cell_type": "code",
   "execution_count": 3,
   "metadata": {},
   "outputs": [],
   "source": [
    "# X = biometrics_df[['MicroSiemens', 'HR', 'HRV']].values\n",
    "X = biometrics_df[['MicroSiemens', 'HR', 'HRV', 'MicroSiemens-4', 'MicroSiemens-3', 'MicroSiemens-2', 'MicroSiemens-1', 'HR-4', 'HR-3', 'HR-2', 'HR-1', 'HRV-4','HRV-3','HRV-2','HRV-1']].values\n",
    "y = biometrics_df['Aroused'].values"
   ]
  },
  {
   "cell_type": "code",
   "execution_count": 4,
   "metadata": {},
   "outputs": [
    {
     "data": {
      "text/plain": [
       "array([[ 1.60426292,  0.18095678, -0.63838286, ..., -0.63838286,\n",
       "        -0.63838286, -0.63838286],\n",
       "       [ 1.35767905,  0.46335022, -0.93098869, ..., -0.93098869,\n",
       "        -0.93098869, -0.93098869],\n",
       "       [ 1.35767905,  0.41990507, -1.08557291, ..., -1.08557291,\n",
       "        -1.08557291, -1.08557291],\n",
       "       ...,\n",
       "       [ 0.92410292, -1.00764835, -1.10377383, ..., -1.0792364 ,\n",
       "        -1.10868131, -1.12585751],\n",
       "       [ 1.11904139, -0.46657089, -1.00562414, ..., -1.10868131,\n",
       "        -1.12585751, -1.10377383],\n",
       "       [ 1.21651063,  0.73582348, -0.90011322, ..., -1.12585751,\n",
       "        -1.10377383, -1.00562414]])"
      ]
     },
     "execution_count": 4,
     "metadata": {},
     "output_type": "execute_result"
    }
   ],
   "source": [
    "X"
   ]
  },
  {
   "cell_type": "code",
   "execution_count": 5,
   "metadata": {},
   "outputs": [],
   "source": [
    "X_train, X_test, y_train, y_test = train_test_split(X, y, test_size=0.2, shuffle=False, random_state=42)"
   ]
  },
  {
   "cell_type": "markdown",
   "metadata": {},
   "source": [
    "# Models Creation"
   ]
  },
  {
   "cell_type": "code",
   "execution_count": 6,
   "metadata": {},
   "outputs": [],
   "source": [
    "adaboost = \"adaboost\"\n",
    "knn = \"knn\"\n",
    "rf = \"random-forest\"\n",
    "rbf = \"svm-rbf\"\n",
    "poly = \"svm-poly\"\n",
    "\n",
    "modelsToRun = [adaboost, knn, rf]\n",
    "Model = namedtuple('Model',['name','clf'])\n",
    "models = []"
   ]
  },
  {
   "cell_type": "markdown",
   "metadata": {},
   "source": [
    "### Adaboost"
   ]
  },
  {
   "cell_type": "code",
   "execution_count": 7,
   "metadata": {},
   "outputs": [
    {
     "name": "stdout",
     "output_type": "stream",
     "text": [
      "Usando adaboost\n"
     ]
    }
   ],
   "source": [
    "if \"adaboost\" in modelsToRun:\n",
    "    clf = AdaBoostClassifier(n_estimators=100, random_state=42)\n",
    "    #Adaboost with RandomForest\n",
    "    clf2 = AdaBoostClassifier(RandomForestClassifier(n_estimators=100), n_estimators=100)\n",
    "    print(\"Usando adaboost\")\n",
    "    adaboostModel = Model(\"adaboost\", clf)\n",
    "    adaboostModel2 = Model(\"adaboost-rf\", clf2)\n",
    "    models.append(adaboostModel)\n",
    "    models.append(adaboostModel2)"
   ]
  },
  {
   "cell_type": "markdown",
   "metadata": {},
   "source": [
    "### KNN"
   ]
  },
  {
   "cell_type": "code",
   "execution_count": 8,
   "metadata": {},
   "outputs": [
    {
     "name": "stdout",
     "output_type": "stream",
     "text": [
      "Usando knn\n"
     ]
    }
   ],
   "source": [
    "if \"knn\" in modelsToRun:\n",
    "    clf = KNeighborsClassifier(n_neighbors=5, p=2, metric='minkowski')\n",
    "\n",
    "    # Grid Search\n",
    "    clf.get_params()\n",
    "    params = {'n_neighbors': [1, 2, 3, 4, 5, 6, 7, 8, 9, 10]}\n",
    "    grid_search_cv = GridSearchCV(KNeighborsClassifier(), params, n_jobs=-1, verbose=1)\n",
    "    print(\"Usando knn\")\n",
    "    knnModel = Model(\"knn\", clf)\n",
    "    models.append(knnModel)\n",
    "    knnGridSearchModel = Model(\"knn-grid-search\", grid_search_cv)\n",
    "    models.append(knnGridSearchModel)"
   ]
  },
  {
   "cell_type": "markdown",
   "metadata": {},
   "source": [
    "### Random Forest"
   ]
  },
  {
   "cell_type": "code",
   "execution_count": 9,
   "metadata": {},
   "outputs": [
    {
     "name": "stdout",
     "output_type": "stream",
     "text": [
      "Usando random-forest\n"
     ]
    }
   ],
   "source": [
    "if \"random-forest\" in modelsToRun:\n",
    "    clf = RandomForestClassifier(random_state=42, n_estimators=100)\n",
    "\n",
    "    # Grid Search\n",
    "    rf_clf = RandomForestClassifier(random_state=42, n_estimators=100)\n",
    "    params_grid = {\"max_depth\": [3, None], \"min_samples_split\": [2, 3, 10], \"min_samples_leaf\": [1, 3, 10], \"bootstrap\": [True, False], \"criterion\": ['gini', 'entropy']}\n",
    "    grid_search_cv = GridSearchCV(rf_clf, params_grid, n_jobs=-1, cv=5, verbose=1, scoring='accuracy', iid=False)\n",
    "    print(\"Usando random-forest\")\n",
    "    rfModel = Model(\"random-forest\", clf)\n",
    "    models.append(rfModel)\n",
    "    rfGridSearchModel = Model(\"random-forest-grid-search\", grid_search_cv)\n",
    "    models.append(rfGridSearchModel)"
   ]
  },
  {
   "cell_type": "markdown",
   "metadata": {},
   "source": [
    "### SVM rbf"
   ]
  },
  {
   "cell_type": "code",
   "execution_count": 10,
   "metadata": {},
   "outputs": [],
   "source": [
    "if \"svm-rbf\" in models:\n",
    "    clf = svm.SVC(C=0.1, gamma=0.01, kernel='rbf')\n",
    "    \n",
    "    # Grid Search\n",
    "    pipeline = Pipeline([('clf', svm.SVC(kernel='rbf', C=1, gamma=0.1))])\n",
    "    params = {'clf__C':(0.1, 0.5, 1, 2, 5, 10, 20), 'clf__gamma':(0.001, 0.01, 0.1, 0.25, 0.5, 0.75, 1)}\n",
    "    grid_search_cv = GridSearchCV(pipeline, params, n_jobs=-1, cv=3, verbose=1, scoring='accuracy')\n",
    "    print(f\"Usando {model}\")\n",
    "    \n",
    "    rbfModel = Model(\"svm-rbf\", clf)\n",
    "    models.append(rfModel)\n",
    "    rbfGridSearchModel = Model(\"svm-rbf-grid-search\", grid_search_cv)\n",
    "    models.append(rfGridSearchModel)"
   ]
  },
  {
   "cell_type": "markdown",
   "metadata": {},
   "source": [
    "### SVM Poly"
   ]
  },
  {
   "cell_type": "code",
   "execution_count": 11,
   "metadata": {},
   "outputs": [],
   "source": [
    "if \"svm-poly\" in models:\n",
    "    clf = svm.SVC(kernel='poly', degree=3)\n",
    "    \n",
    "    # Grid Search\n",
    "    pipeline = Pipeline([('clf', svm.SVC(kernel='poly'))])\n",
    "    params = {'clf__C':(0.1, 0.5, 1, 2, 5, 10, 20), 'clf__gamma':(0.001, 0.01, 0.1, 0.25, 0.5, 0.75, 1), 'clf__degree': (3, 4, 5)}\n",
    "    grid_search_cv = GridSearchCV(pipeline, params, n_jobs=-1, cv=3, verbose=1, scoring='accuracy')\n",
    "    print(f\"Usando {model}\")\n",
    "    \n",
    "    polyModel = Model(\"svm-poly\", clf)\n",
    "    models.append(polyModel)\n",
    "    polyGridSearchModel = Model(\"svm-poly-grid-search\", grid_search_cv)\n",
    "    models.append(polyGridSearchModel)"
   ]
  },
  {
   "cell_type": "markdown",
   "metadata": {},
   "source": [
    "# Model Fit"
   ]
  },
  {
   "cell_type": "code",
   "execution_count": 12,
   "metadata": {},
   "outputs": [],
   "source": [
    "def print_score(clf, X_train, y_train, X_test, y_test, train=True):\n",
    "    if train:\n",
    "        print(\"Train Result:\\n\")\n",
    "        print(\"Confusion Matrix: \\n {}\\n\".format(confusion_matrix(y_train, clf.predict(X_train))))\n",
    "        print(\"Accuracy score: {0:.4f}\\n\".format(accuracy_score(y_train, clf.predict(X_train))))\n",
    "        print(\"Classification Report: \\n {}\\n\".format(classification_report(y_train, clf.predict(X_train))))\n",
    "\n",
    "        res = cross_val_score(clf, X_train, y_train, cv=4, scoring='accuracy')\n",
    "        print(\"Cross Validation \\t\")\n",
    "        print(\"Average Accuracy: \\t {0:.4f}\".format(np.mean(res)))\n",
    "        print(\"Accuracy SD: \\t\\t {0:.4f}\".format(np.std(res)))\n",
    "        \n",
    "    elif train==False:\n",
    "        print(\"Test Result:\\n\")        \n",
    "        print(\"Confusion Matrix: \\n {}\\n\".format(confusion_matrix(y_test, clf.predict(X_test))))        \n",
    "        print(\"accuracy score: {0:.4f}\\n\".format(accuracy_score(y_test, clf.predict(X_test))))\n",
    "        print(\"Classification Report: \\n {}\\n\".format(classification_report(y_test, clf.predict(X_test))))\n",
    "        \n",
    "        res = cross_val_score(clf, X_test, y_test, cv=4, scoring='accuracy')\n",
    "        print(\"Cross Validation \\t\")\n",
    "        print(\"Average Accuracy: \\t {0:.4f}\".format(np.mean(res)))\n",
    "        print(\"Accuracy SD: \\t\\t {0:.4f}\".format(np.std(res)))"
   ]
  },
  {
   "cell_type": "code",
   "execution_count": 13,
   "metadata": {},
   "outputs": [
    {
     "name": "stdout",
     "output_type": "stream",
     "text": [
      "\n",
      "***********************executing:adaboost***************************\n",
      "\n",
      "Train Result:\n",
      "\n",
      "Confusion Matrix: \n",
      " [[556 240]\n",
      " [172 902]]\n",
      "\n",
      "Accuracy score: 0.7797\n",
      "\n",
      "Classification Report: \n",
      "               precision    recall  f1-score   support\n",
      "\n",
      "           0       0.76      0.70      0.73       796\n",
      "           1       0.79      0.84      0.81      1074\n",
      "\n",
      "    accuracy                           0.78      1870\n",
      "   macro avg       0.78      0.77      0.77      1870\n",
      "weighted avg       0.78      0.78      0.78      1870\n",
      "\n",
      "\n",
      "Cross Validation \t\n",
      "Average Accuracy: \t 0.5460\n",
      "Accuracy SD: \t\t 0.0502\n",
      "\n",
      "******************************\n",
      "\n",
      "Test Result:\n",
      "\n",
      "Confusion Matrix: \n",
      " [[ 93  87]\n",
      " [ 75 213]]\n",
      "\n",
      "accuracy score: 0.6538\n",
      "\n",
      "Classification Report: \n",
      "               precision    recall  f1-score   support\n",
      "\n",
      "           0       0.55      0.52      0.53       180\n",
      "           1       0.71      0.74      0.72       288\n",
      "\n",
      "    accuracy                           0.65       468\n",
      "   macro avg       0.63      0.63      0.63       468\n",
      "weighted avg       0.65      0.65      0.65       468\n",
      "\n",
      "\n",
      "Cross Validation \t\n",
      "Average Accuracy: \t 0.5299\n",
      "Accuracy SD: \t\t 0.1853\n",
      "\n",
      "***********************Done with adaboost***********************\n",
      "\n",
      "\n",
      "***********************executing:adaboost-rf***************************\n",
      "\n",
      "Train Result:\n",
      "\n",
      "Confusion Matrix: \n",
      " [[ 796    0]\n",
      " [   0 1074]]\n",
      "\n",
      "Accuracy score: 1.0000\n",
      "\n",
      "Classification Report: \n",
      "               precision    recall  f1-score   support\n",
      "\n",
      "           0       1.00      1.00      1.00       796\n",
      "           1       1.00      1.00      1.00      1074\n",
      "\n",
      "    accuracy                           1.00      1870\n",
      "   macro avg       1.00      1.00      1.00      1870\n",
      "weighted avg       1.00      1.00      1.00      1870\n",
      "\n",
      "\n",
      "Cross Validation \t\n",
      "Average Accuracy: \t 0.5712\n",
      "Accuracy SD: \t\t 0.0584\n",
      "\n",
      "******************************\n",
      "\n",
      "Test Result:\n",
      "\n",
      "Confusion Matrix: \n",
      " [[104  76]\n",
      " [ 86 202]]\n",
      "\n",
      "accuracy score: 0.6538\n",
      "\n",
      "Classification Report: \n",
      "               precision    recall  f1-score   support\n",
      "\n",
      "           0       0.55      0.58      0.56       180\n",
      "           1       0.73      0.70      0.71       288\n",
      "\n",
      "    accuracy                           0.65       468\n",
      "   macro avg       0.64      0.64      0.64       468\n",
      "weighted avg       0.66      0.65      0.66       468\n",
      "\n",
      "\n",
      "Cross Validation \t\n",
      "Average Accuracy: \t 0.5855\n",
      "Accuracy SD: \t\t 0.2061\n",
      "\n",
      "***********************Done with adaboost-rf***********************\n",
      "\n",
      "\n",
      "***********************executing:knn***************************\n",
      "\n",
      "Train Result:\n",
      "\n",
      "Confusion Matrix: \n",
      " [[648 148]\n",
      " [118 956]]\n",
      "\n",
      "Accuracy score: 0.8578\n",
      "\n",
      "Classification Report: \n",
      "               precision    recall  f1-score   support\n",
      "\n",
      "           0       0.85      0.81      0.83       796\n",
      "           1       0.87      0.89      0.88      1074\n",
      "\n",
      "    accuracy                           0.86      1870\n",
      "   macro avg       0.86      0.85      0.85      1870\n",
      "weighted avg       0.86      0.86      0.86      1870\n",
      "\n",
      "\n",
      "Cross Validation \t\n",
      "Average Accuracy: \t 0.5861\n",
      "Accuracy SD: \t\t 0.0349\n",
      "\n",
      "******************************\n",
      "\n",
      "Test Result:\n",
      "\n",
      "Confusion Matrix: \n",
      " [[109  71]\n",
      " [ 99 189]]\n",
      "\n",
      "accuracy score: 0.6368\n",
      "\n",
      "Classification Report: \n",
      "               precision    recall  f1-score   support\n",
      "\n",
      "           0       0.52      0.61      0.56       180\n",
      "           1       0.73      0.66      0.69       288\n",
      "\n",
      "    accuracy                           0.64       468\n",
      "   macro avg       0.63      0.63      0.63       468\n",
      "weighted avg       0.65      0.64      0.64       468\n",
      "\n",
      "\n",
      "Cross Validation \t\n",
      "Average Accuracy: \t 0.6026\n",
      "Accuracy SD: \t\t 0.0994\n",
      "\n",
      "***********************Done with knn***********************\n",
      "\n",
      "\n",
      "***********************executing:knn-grid-search***************************\n",
      "\n",
      "Fitting 5 folds for each of 10 candidates, totalling 50 fits\n"
     ]
    },
    {
     "name": "stderr",
     "output_type": "stream",
     "text": [
      "[Parallel(n_jobs=-1)]: Using backend LokyBackend with 12 concurrent workers.\n",
      "[Parallel(n_jobs=-1)]: Done  26 tasks      | elapsed:    2.0s\n",
      "[Parallel(n_jobs=-1)]: Done  50 out of  50 | elapsed:    2.1s finished\n"
     ]
    },
    {
     "name": "stdout",
     "output_type": "stream",
     "text": [
      "Train Result:\n",
      "\n",
      "Confusion Matrix: \n",
      " [[608 188]\n",
      " [144 930]]\n",
      "\n",
      "Accuracy score: 0.8225\n",
      "\n",
      "Classification Report: \n",
      "               precision    recall  f1-score   support\n",
      "\n",
      "           0       0.81      0.76      0.79       796\n",
      "           1       0.83      0.87      0.85      1074\n",
      "\n",
      "    accuracy                           0.82      1870\n",
      "   macro avg       0.82      0.81      0.82      1870\n",
      "weighted avg       0.82      0.82      0.82      1870\n",
      "\n",
      "\n",
      "Fitting 5 folds for each of 10 candidates, totalling 50 fits\n"
     ]
    },
    {
     "name": "stderr",
     "output_type": "stream",
     "text": [
      "[Parallel(n_jobs=-1)]: Using backend LokyBackend with 12 concurrent workers.\n",
      "[Parallel(n_jobs=-1)]: Done  50 out of  50 | elapsed:    0.2s finished\n"
     ]
    },
    {
     "name": "stdout",
     "output_type": "stream",
     "text": [
      "Fitting 5 folds for each of 10 candidates, totalling 50 fits\n"
     ]
    },
    {
     "name": "stderr",
     "output_type": "stream",
     "text": [
      "[Parallel(n_jobs=-1)]: Using backend LokyBackend with 12 concurrent workers.\n",
      "[Parallel(n_jobs=-1)]: Done  50 out of  50 | elapsed:    0.2s finished\n"
     ]
    },
    {
     "name": "stdout",
     "output_type": "stream",
     "text": [
      "Fitting 5 folds for each of 10 candidates, totalling 50 fits\n",
      "Fitting 5 folds for each of 10 candidates, totalling 50 fits\n"
     ]
    },
    {
     "name": "stderr",
     "output_type": "stream",
     "text": [
      "[Parallel(n_jobs=-1)]: Using backend LokyBackend with 12 concurrent workers.\n",
      "[Parallel(n_jobs=-1)]: Done  50 out of  50 | elapsed:    0.2s finished\n",
      "[Parallel(n_jobs=-1)]: Using backend LokyBackend with 12 concurrent workers.\n",
      "[Parallel(n_jobs=-1)]: Done  50 out of  50 | elapsed:    0.2s finished\n",
      "[Parallel(n_jobs=-1)]: Using backend LokyBackend with 12 concurrent workers.\n",
      "[Parallel(n_jobs=-1)]: Done  50 out of  50 | elapsed:    0.1s finished\n",
      "[Parallel(n_jobs=-1)]: Using backend LokyBackend with 12 concurrent workers.\n"
     ]
    },
    {
     "name": "stdout",
     "output_type": "stream",
     "text": [
      "Cross Validation \t\n",
      "Average Accuracy: \t 0.5792\n",
      "Accuracy SD: \t\t 0.0412\n",
      "\n",
      "******************************\n",
      "\n",
      "Test Result:\n",
      "\n",
      "Confusion Matrix: \n",
      " [[106  74]\n",
      " [100 188]]\n",
      "\n",
      "accuracy score: 0.6282\n",
      "\n",
      "Classification Report: \n",
      "               precision    recall  f1-score   support\n",
      "\n",
      "           0       0.51      0.59      0.55       180\n",
      "           1       0.72      0.65      0.68       288\n",
      "\n",
      "    accuracy                           0.63       468\n",
      "   macro avg       0.62      0.62      0.62       468\n",
      "weighted avg       0.64      0.63      0.63       468\n",
      "\n",
      "\n",
      "Fitting 5 folds for each of 10 candidates, totalling 50 fits\n",
      "Fitting 5 folds for each of 10 candidates, totalling 50 fits\n"
     ]
    },
    {
     "name": "stderr",
     "output_type": "stream",
     "text": [
      "[Parallel(n_jobs=-1)]: Done  50 out of  50 | elapsed:    0.1s finished\n",
      "[Parallel(n_jobs=-1)]: Using backend LokyBackend with 12 concurrent workers.\n",
      "[Parallel(n_jobs=-1)]: Done  50 out of  50 | elapsed:    0.1s finished\n",
      "[Parallel(n_jobs=-1)]: Using backend LokyBackend with 12 concurrent workers.\n",
      "[Parallel(n_jobs=-1)]: Done  27 out of  50 | elapsed:    0.0s remaining:    0.0s\n",
      "[Parallel(n_jobs=-1)]: Done  50 out of  50 | elapsed:    0.1s finished\n"
     ]
    },
    {
     "name": "stdout",
     "output_type": "stream",
     "text": [
      "Fitting 5 folds for each of 10 candidates, totalling 50 fits\n",
      "Fitting 5 folds for each of 10 candidates, totalling 50 fits\n",
      "Cross Validation \t\n",
      "Average Accuracy: \t 0.6090\n",
      "Accuracy SD: \t\t 0.1271\n",
      "\n",
      "***********************Done with knn-grid-search***********************\n",
      "\n",
      "\n",
      "***********************executing:random-forest***************************\n",
      "\n",
      "Train Result:\n",
      "\n",
      "Confusion Matrix: \n",
      " [[ 796    0]\n",
      " [   0 1074]]\n",
      "\n",
      "Accuracy score: 1.0000\n",
      "\n",
      "Classification Report: \n",
      "               precision    recall  f1-score   support\n",
      "\n",
      "           0       1.00      1.00      1.00       796\n",
      "           1       1.00      1.00      1.00      1074\n",
      "\n",
      "    accuracy                           1.00      1870\n",
      "   macro avg       1.00      1.00      1.00      1870\n",
      "weighted avg       1.00      1.00      1.00      1870\n",
      "\n",
      "\n",
      "Cross Validation \t\n",
      "Average Accuracy: \t 0.5727\n",
      "Accuracy SD: \t\t 0.0538\n",
      "\n",
      "******************************\n",
      "\n",
      "Test Result:\n",
      "\n",
      "Confusion Matrix: \n",
      " [[102  78]\n",
      " [ 86 202]]\n",
      "\n",
      "accuracy score: 0.6496\n",
      "\n",
      "Classification Report: \n",
      "               precision    recall  f1-score   support\n",
      "\n",
      "           0       0.54      0.57      0.55       180\n",
      "           1       0.72      0.70      0.71       288\n",
      "\n",
      "    accuracy                           0.65       468\n",
      "   macro avg       0.63      0.63      0.63       468\n",
      "weighted avg       0.65      0.65      0.65       468\n",
      "\n",
      "\n",
      "Cross Validation \t\n",
      "Average Accuracy: \t 0.5897\n",
      "Accuracy SD: \t\t 0.2066\n",
      "\n",
      "***********************Done with random-forest***********************\n",
      "\n",
      "\n",
      "***********************executing:random-forest-grid-search***************************\n",
      "\n",
      "Fitting 5 folds for each of 72 candidates, totalling 360 fits\n"
     ]
    },
    {
     "name": "stderr",
     "output_type": "stream",
     "text": [
      "[Parallel(n_jobs=-1)]: Using backend LokyBackend with 12 concurrent workers.\n",
      "[Parallel(n_jobs=-1)]: Done  26 tasks      | elapsed:    1.5s\n",
      "[Parallel(n_jobs=-1)]: Done 176 tasks      | elapsed:   10.0s\n",
      "[Parallel(n_jobs=-1)]: Done 360 out of 360 | elapsed:   20.9s finished\n",
      "/Users/s.gonzalez/opt/anaconda3/lib/python3.8/site-packages/sklearn/model_selection/_search.py:847: FutureWarning: The parameter 'iid' is deprecated in 0.22 and will be removed in 0.24.\n",
      "  warnings.warn(\n"
     ]
    },
    {
     "name": "stdout",
     "output_type": "stream",
     "text": [
      "Train Result:\n",
      "\n",
      "Confusion Matrix: \n",
      " [[ 796    0]\n",
      " [   0 1074]]\n",
      "\n",
      "Accuracy score: 1.0000\n",
      "\n",
      "Classification Report: \n",
      "               precision    recall  f1-score   support\n",
      "\n",
      "           0       1.00      1.00      1.00       796\n",
      "           1       1.00      1.00      1.00      1074\n",
      "\n",
      "    accuracy                           1.00      1870\n",
      "   macro avg       1.00      1.00      1.00      1870\n",
      "weighted avg       1.00      1.00      1.00      1870\n",
      "\n",
      "\n",
      "Fitting 5 folds for each of 72 candidates, totalling 360 fits\n"
     ]
    },
    {
     "name": "stderr",
     "output_type": "stream",
     "text": [
      "[Parallel(n_jobs=-1)]: Using backend LokyBackend with 12 concurrent workers.\n",
      "[Parallel(n_jobs=-1)]: Done  26 tasks      | elapsed:    1.3s\n",
      "[Parallel(n_jobs=-1)]: Done 176 tasks      | elapsed:    7.9s\n",
      "[Parallel(n_jobs=-1)]: Done 360 out of 360 | elapsed:   16.6s finished\n",
      "/Users/s.gonzalez/opt/anaconda3/lib/python3.8/site-packages/sklearn/model_selection/_search.py:847: FutureWarning: The parameter 'iid' is deprecated in 0.22 and will be removed in 0.24.\n",
      "  warnings.warn(\n"
     ]
    },
    {
     "name": "stdout",
     "output_type": "stream",
     "text": [
      "Fitting 5 folds for each of 72 candidates, totalling 360 fits\n"
     ]
    },
    {
     "name": "stderr",
     "output_type": "stream",
     "text": [
      "[Parallel(n_jobs=-1)]: Using backend LokyBackend with 12 concurrent workers.\n",
      "[Parallel(n_jobs=-1)]: Done  26 tasks      | elapsed:    1.4s\n",
      "[Parallel(n_jobs=-1)]: Done 176 tasks      | elapsed:    8.4s\n",
      "[Parallel(n_jobs=-1)]: Done 360 out of 360 | elapsed:   17.2s finished\n",
      "/Users/s.gonzalez/opt/anaconda3/lib/python3.8/site-packages/sklearn/model_selection/_search.py:847: FutureWarning: The parameter 'iid' is deprecated in 0.22 and will be removed in 0.24.\n",
      "  warnings.warn(\n"
     ]
    },
    {
     "name": "stdout",
     "output_type": "stream",
     "text": [
      "Fitting 5 folds for each of 72 candidates, totalling 360 fits\n"
     ]
    },
    {
     "name": "stderr",
     "output_type": "stream",
     "text": [
      "[Parallel(n_jobs=-1)]: Using backend LokyBackend with 12 concurrent workers.\n",
      "[Parallel(n_jobs=-1)]: Done  26 tasks      | elapsed:    1.4s\n",
      "[Parallel(n_jobs=-1)]: Done 176 tasks      | elapsed:    8.7s\n",
      "[Parallel(n_jobs=-1)]: Done 360 out of 360 | elapsed:   17.7s finished\n",
      "/Users/s.gonzalez/opt/anaconda3/lib/python3.8/site-packages/sklearn/model_selection/_search.py:847: FutureWarning: The parameter 'iid' is deprecated in 0.22 and will be removed in 0.24.\n",
      "  warnings.warn(\n"
     ]
    },
    {
     "name": "stdout",
     "output_type": "stream",
     "text": [
      "Fitting 5 folds for each of 72 candidates, totalling 360 fits\n"
     ]
    },
    {
     "name": "stderr",
     "output_type": "stream",
     "text": [
      "[Parallel(n_jobs=-1)]: Using backend LokyBackend with 12 concurrent workers.\n",
      "[Parallel(n_jobs=-1)]: Done  26 tasks      | elapsed:    1.5s\n",
      "[Parallel(n_jobs=-1)]: Done 176 tasks      | elapsed:    9.5s\n",
      "[Parallel(n_jobs=-1)]: Done 360 out of 360 | elapsed:   19.6s finished\n",
      "/Users/s.gonzalez/opt/anaconda3/lib/python3.8/site-packages/sklearn/model_selection/_search.py:847: FutureWarning: The parameter 'iid' is deprecated in 0.22 and will be removed in 0.24.\n",
      "  warnings.warn(\n"
     ]
    },
    {
     "name": "stdout",
     "output_type": "stream",
     "text": [
      "Cross Validation \t\n",
      "Average Accuracy: \t 0.5915\n",
      "Accuracy SD: \t\t 0.0385\n",
      "\n",
      "******************************\n",
      "\n",
      "Test Result:\n",
      "\n",
      "Confusion Matrix: \n",
      " [[ 93  87]\n",
      " [ 80 208]]\n",
      "\n",
      "accuracy score: 0.6432\n",
      "\n",
      "Classification Report: \n",
      "               precision    recall  f1-score   support\n",
      "\n",
      "           0       0.54      0.52      0.53       180\n",
      "           1       0.71      0.72      0.71       288\n",
      "\n",
      "    accuracy                           0.64       468\n",
      "   macro avg       0.62      0.62      0.62       468\n",
      "weighted avg       0.64      0.64      0.64       468\n",
      "\n",
      "\n",
      "Fitting 5 folds for each of 72 candidates, totalling 360 fits\n"
     ]
    },
    {
     "name": "stderr",
     "output_type": "stream",
     "text": [
      "[Parallel(n_jobs=-1)]: Using backend LokyBackend with 12 concurrent workers.\n",
      "[Parallel(n_jobs=-1)]: Done  26 tasks      | elapsed:    1.3s\n",
      "[Parallel(n_jobs=-1)]: Done 176 tasks      | elapsed:    6.6s\n",
      "[Parallel(n_jobs=-1)]: Done 360 out of 360 | elapsed:   12.1s finished\n",
      "/Users/s.gonzalez/opt/anaconda3/lib/python3.8/site-packages/sklearn/model_selection/_search.py:847: FutureWarning: The parameter 'iid' is deprecated in 0.22 and will be removed in 0.24.\n",
      "  warnings.warn(\n"
     ]
    },
    {
     "name": "stdout",
     "output_type": "stream",
     "text": [
      "Fitting 5 folds for each of 72 candidates, totalling 360 fits\n"
     ]
    },
    {
     "name": "stderr",
     "output_type": "stream",
     "text": [
      "[Parallel(n_jobs=-1)]: Using backend LokyBackend with 12 concurrent workers.\n",
      "[Parallel(n_jobs=-1)]: Done  26 tasks      | elapsed:    1.3s\n",
      "[Parallel(n_jobs=-1)]: Done 176 tasks      | elapsed:    7.5s\n",
      "[Parallel(n_jobs=-1)]: Done 360 out of 360 | elapsed:   12.5s finished\n",
      "/Users/s.gonzalez/opt/anaconda3/lib/python3.8/site-packages/sklearn/model_selection/_search.py:847: FutureWarning: The parameter 'iid' is deprecated in 0.22 and will be removed in 0.24.\n",
      "  warnings.warn(\n",
      "[Parallel(n_jobs=-1)]: Using backend LokyBackend with 12 concurrent workers.\n"
     ]
    },
    {
     "name": "stdout",
     "output_type": "stream",
     "text": [
      "Fitting 5 folds for each of 72 candidates, totalling 360 fits\n"
     ]
    },
    {
     "name": "stderr",
     "output_type": "stream",
     "text": [
      "[Parallel(n_jobs=-1)]: Done  26 tasks      | elapsed:    1.1s\n",
      "[Parallel(n_jobs=-1)]: Done 176 tasks      | elapsed:    6.0s\n",
      "[Parallel(n_jobs=-1)]: Done 360 out of 360 | elapsed:   10.7s finished\n",
      "/Users/s.gonzalez/opt/anaconda3/lib/python3.8/site-packages/sklearn/model_selection/_search.py:847: FutureWarning: The parameter 'iid' is deprecated in 0.22 and will be removed in 0.24.\n",
      "  warnings.warn(\n",
      "[Parallel(n_jobs=-1)]: Using backend LokyBackend with 12 concurrent workers.\n"
     ]
    },
    {
     "name": "stdout",
     "output_type": "stream",
     "text": [
      "Fitting 5 folds for each of 72 candidates, totalling 360 fits\n"
     ]
    },
    {
     "name": "stderr",
     "output_type": "stream",
     "text": [
      "[Parallel(n_jobs=-1)]: Done  26 tasks      | elapsed:    1.2s\n",
      "[Parallel(n_jobs=-1)]: Done 176 tasks      | elapsed:    6.1s\n",
      "[Parallel(n_jobs=-1)]: Done 360 out of 360 | elapsed:   11.2s finished\n",
      "/Users/s.gonzalez/opt/anaconda3/lib/python3.8/site-packages/sklearn/model_selection/_search.py:847: FutureWarning: The parameter 'iid' is deprecated in 0.22 and will be removed in 0.24.\n",
      "  warnings.warn(\n"
     ]
    },
    {
     "name": "stdout",
     "output_type": "stream",
     "text": [
      "Cross Validation \t\n",
      "Average Accuracy: \t 0.5876\n",
      "Accuracy SD: \t\t 0.1373\n",
      "\n",
      "***********************Done with random-forest-grid-search***********************\n",
      "\n"
     ]
    }
   ],
   "source": [
    "for model in models:\n",
    "    print(f\"\\n***********************executing:{model.name}***************************\\n\")\n",
    "    model.clf.fit(X_train, y_train)\n",
    "    print_score(model.clf, X_train, y_train, X_test, y_test, train=True)\n",
    "    print(\"\\n******************************\\n\")\n",
    "    print_score(model.clf, X_train, y_train, X_test, y_test, train=False)\n",
    "    pickle.dump(model.clf, open(f'./models/model-{model.name}', 'wb'))\n",
    "    print(f'\\n***********************Done with {model.name}***********************\\n')"
   ]
  },
  {
   "cell_type": "code",
   "execution_count": 14,
   "metadata": {},
   "outputs": [
    {
     "ename": "SystemExit",
     "evalue": "",
     "output_type": "error",
     "traceback": [
      "An exception has occurred, use %tb to see the full traceback.\n",
      "\u001b[0;31mSystemExit\u001b[0m\n"
     ]
    },
    {
     "name": "stderr",
     "output_type": "stream",
     "text": [
      "/Users/s.gonzalez/opt/anaconda3/lib/python3.8/site-packages/IPython/core/interactiveshell.py:3351: UserWarning: To exit: use 'exit', 'quit', or Ctrl-D.\n",
      "  warn(\"To exit: use 'exit', 'quit', or Ctrl-D.\", stacklevel=1)\n"
     ]
    }
   ],
   "source": [
    "sys.exit()"
   ]
  },
  {
   "cell_type": "code",
   "execution_count": null,
   "metadata": {},
   "outputs": [],
   "source": [
    "clf.fit(X_train, y_train)\n",
    "grid_search_cv.fit(X_train, y_train)"
   ]
  },
  {
   "cell_type": "markdown",
   "metadata": {},
   "source": [
    "# Performance Measurement"
   ]
  },
  {
   "cell_type": "code",
   "execution_count": null,
   "metadata": {},
   "outputs": [],
   "source": [
    "def print_score(clf, X_train, y_train, X_test, y_test, train=True):\n",
    "    if train:\n",
    "        print(\"Train Result:\\n\")\n",
    "        print(\"Confusion Matrix: \\n {}\\n\".format(confusion_matrix(y_train, clf.predict(X_train))))\n",
    "        print(\"Accuracy score: {0:.4f}\\n\".format(accuracy_score(y_train, clf.predict(X_train))))\n",
    "        print(\"Classification Report: \\n {}\\n\".format(classification_report(y_train, clf.predict(X_train))))\n",
    "\n",
    "        res = cross_val_score(clf, X_train, y_train, cv=4, scoring='accuracy')\n",
    "        print(\"Cross Validation \\t\")\n",
    "        print(\"Average Accuracy: \\t {0:.4f}\".format(np.mean(res)))\n",
    "        print(\"Accuracy SD: \\t\\t {0:.4f}\".format(np.std(res)))\n",
    "        \n",
    "    elif train==False:\n",
    "        print(\"Test Result:\\n\")        \n",
    "        print(\"Confusion Matrix: \\n {}\\n\".format(confusion_matrix(y_test, clf.predict(X_test))))        \n",
    "        print(\"accuracy score: {0:.4f}\\n\".format(accuracy_score(y_test, clf.predict(X_test))))\n",
    "        print(\"Classification Report: \\n {}\\n\".format(classification_report(y_test, clf.predict(X_test))))\n",
    "        \n",
    "        res = cross_val_score(clf, X_test, y_test, cv=4, scoring='accuracy')\n",
    "        print(\"Cross Validation \\t\")\n",
    "        print(\"Average Accuracy: \\t {0:.4f}\".format(np.mean(res)))\n",
    "        print(\"Accuracy SD: \\t\\t {0:.4f}\".format(np.std(res)))"
   ]
  },
  {
   "cell_type": "markdown",
   "metadata": {},
   "source": [
    "## Model performance"
   ]
  },
  {
   "cell_type": "code",
   "execution_count": null,
   "metadata": {},
   "outputs": [],
   "source": [
    "print_score(clf, X_train, y_train, X_test, y_test, train=True)\n",
    "print(\"\\n******************************\\n\")\n",
    "print_score(clf, X_train, y_train, X_test, y_test, train=False)"
   ]
  },
  {
   "cell_type": "markdown",
   "metadata": {},
   "source": [
    "## Grid Search performance"
   ]
  },
  {
   "cell_type": "code",
   "execution_count": null,
   "metadata": {},
   "outputs": [],
   "source": [
    "y_test_pred_grid = grid_search_cv.predict(X_test)\n",
    "\n",
    "print_score(grid_search_cv, X_train, y_train, X_test, y_test, train=True)\n",
    "print(\"\\n******************************\\n\")\n",
    "print_score(grid_search_cv, X_train, y_train, X_test, y_test, train=False)\n",
    "\n",
    "grid_search_cv.best_estimator_\n",
    "grid_search_cv.best_estimator_.get_params()\n",
    "grid_search_cv.best_params_\n",
    "grid_search_cv.cv_results_"
   ]
  },
  {
   "cell_type": "markdown",
   "metadata": {},
   "source": [
    "# Save model to disk"
   ]
  },
  {
   "cell_type": "code",
   "execution_count": null,
   "metadata": {},
   "outputs": [],
   "source": [
    "import pickle\n",
    "# save the model to disk\n",
    "pickle.dump(grid_search_cv, open('./models/model', 'wb'))\n",
    "print('Done')"
   ]
  },
  {
   "cell_type": "code",
   "execution_count": null,
   "metadata": {},
   "outputs": [],
   "source": []
  }
 ],
 "metadata": {
  "kernelspec": {
   "display_name": "Python 3",
   "language": "python",
   "name": "python3"
  },
  "language_info": {
   "codemirror_mode": {
    "name": "ipython",
    "version": 3
   },
   "file_extension": ".py",
   "mimetype": "text/x-python",
   "name": "python",
   "nbconvert_exporter": "python",
   "pygments_lexer": "ipython3",
   "version": "3.8.3"
  }
 },
 "nbformat": 4,
 "nbformat_minor": 4
}
