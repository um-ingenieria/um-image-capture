{
 "cells": [
  {
   "cell_type": "code",
   "execution_count": 1,
   "metadata": {},
   "outputs": [],
   "source": [
    "import numpy as np\n",
    "import pandas as pd\n",
    "import matplotlib.pyplot as plt\n",
    "%matplotlib inline\n",
    "import seaborn as sns\n",
    "import sklearn"
   ]
  },
  {
   "cell_type": "code",
   "execution_count": 2,
   "metadata": {},
   "outputs": [
    {
     "name": "stdout",
     "output_type": "stream",
     "text": [
      "1.18.1\n",
      "1.0.1\n",
      "3.7.6 (default, Jan  8 2020, 20:23:39) [MSC v.1916 64 bit (AMD64)]\n",
      "0.22.1\n"
     ]
    }
   ],
   "source": [
    "print(np.__version__)\n",
    "print(pd.__version__)\n",
    "import sys\n",
    "print(sys.version)\n",
    "print(sklearn.__version__)"
   ]
  },
  {
   "cell_type": "code",
   "execution_count": 3,
   "metadata": {},
   "outputs": [],
   "source": [
    "df = pd.read_csv(\"..//resources//csv//data//biometrics.csv\")"
   ]
  },
  {
   "cell_type": "code",
   "execution_count": 4,
   "metadata": {},
   "outputs": [
    {
     "data": {
      "text/html": [
       "<div>\n",
       "<style scoped>\n",
       "    .dataframe tbody tr th:only-of-type {\n",
       "        vertical-align: middle;\n",
       "    }\n",
       "\n",
       "    .dataframe tbody tr th {\n",
       "        vertical-align: top;\n",
       "    }\n",
       "\n",
       "    .dataframe thead th {\n",
       "        text-align: right;\n",
       "    }\n",
       "</style>\n",
       "<table border=\"1\" class=\"dataframe\">\n",
       "  <thead>\n",
       "    <tr style=\"text-align: right;\">\n",
       "      <th></th>\n",
       "      <th>TimeStamp</th>\n",
       "      <th>HR</th>\n",
       "      <th>RR</th>\n",
       "      <th>HRV</th>\n",
       "      <th>MicroSiemens</th>\n",
       "      <th>SCR</th>\n",
       "      <th>SCR_MIN</th>\n",
       "      <th>ArousalMean</th>\n",
       "      <th>ValenceMean</th>\n",
       "      <th>ArousalSD</th>\n",
       "      <th>ValenceSD</th>\n",
       "      <th>PhaseName</th>\n",
       "      <th>MatchesSam</th>\n",
       "    </tr>\n",
       "  </thead>\n",
       "  <tbody>\n",
       "    <tr>\n",
       "      <th>0</th>\n",
       "      <td>2020-11-01 21:14:54</td>\n",
       "      <td>72.1</td>\n",
       "      <td>832</td>\n",
       "      <td>0.10</td>\n",
       "      <td>13.25</td>\n",
       "      <td>0</td>\n",
       "      <td>0</td>\n",
       "      <td>0.0</td>\n",
       "      <td>0.0</td>\n",
       "      <td>0.0</td>\n",
       "      <td>0.0</td>\n",
       "      <td>HA_PV</td>\n",
       "      <td>True</td>\n",
       "    </tr>\n",
       "    <tr>\n",
       "      <th>1</th>\n",
       "      <td>2020-11-01 21:14:56</td>\n",
       "      <td>78.6</td>\n",
       "      <td>763</td>\n",
       "      <td>28.34</td>\n",
       "      <td>13.25</td>\n",
       "      <td>0</td>\n",
       "      <td>0</td>\n",
       "      <td>0.0</td>\n",
       "      <td>0.0</td>\n",
       "      <td>0.0</td>\n",
       "      <td>0.0</td>\n",
       "      <td>HA_PV</td>\n",
       "      <td>True</td>\n",
       "    </tr>\n",
       "    <tr>\n",
       "      <th>2</th>\n",
       "      <td>2020-11-01 21:14:56</td>\n",
       "      <td>75.8</td>\n",
       "      <td>792</td>\n",
       "      <td>0.00</td>\n",
       "      <td>13.25</td>\n",
       "      <td>0</td>\n",
       "      <td>0</td>\n",
       "      <td>0.0</td>\n",
       "      <td>0.0</td>\n",
       "      <td>0.0</td>\n",
       "      <td>0.0</td>\n",
       "      <td>HA_PV</td>\n",
       "      <td>True</td>\n",
       "    </tr>\n",
       "    <tr>\n",
       "      <th>3</th>\n",
       "      <td>2020-11-01 21:14:58</td>\n",
       "      <td>71.4</td>\n",
       "      <td>840</td>\n",
       "      <td>0.00</td>\n",
       "      <td>13.25</td>\n",
       "      <td>0</td>\n",
       "      <td>0</td>\n",
       "      <td>0.0</td>\n",
       "      <td>0.0</td>\n",
       "      <td>0.0</td>\n",
       "      <td>0.0</td>\n",
       "      <td>HA_PV</td>\n",
       "      <td>True</td>\n",
       "    </tr>\n",
       "    <tr>\n",
       "      <th>4</th>\n",
       "      <td>2020-11-01 21:14:58</td>\n",
       "      <td>74.2</td>\n",
       "      <td>809</td>\n",
       "      <td>4.36</td>\n",
       "      <td>13.25</td>\n",
       "      <td>0</td>\n",
       "      <td>0</td>\n",
       "      <td>0.0</td>\n",
       "      <td>0.0</td>\n",
       "      <td>0.0</td>\n",
       "      <td>0.0</td>\n",
       "      <td>HA_PV</td>\n",
       "      <td>True</td>\n",
       "    </tr>\n",
       "  </tbody>\n",
       "</table>\n",
       "</div>"
      ],
      "text/plain": [
       "             TimeStamp    HR   RR    HRV  MicroSiemens  SCR  SCR_MIN  \\\n",
       "0  2020-11-01 21:14:54  72.1  832   0.10         13.25    0        0   \n",
       "1  2020-11-01 21:14:56  78.6  763  28.34         13.25    0        0   \n",
       "2  2020-11-01 21:14:56  75.8  792   0.00         13.25    0        0   \n",
       "3  2020-11-01 21:14:58  71.4  840   0.00         13.25    0        0   \n",
       "4  2020-11-01 21:14:58  74.2  809   4.36         13.25    0        0   \n",
       "\n",
       "   ArousalMean  ValenceMean  ArousalSD  ValenceSD PhaseName  MatchesSam  \n",
       "0          0.0          0.0        0.0        0.0     HA_PV        True  \n",
       "1          0.0          0.0        0.0        0.0     HA_PV        True  \n",
       "2          0.0          0.0        0.0        0.0     HA_PV        True  \n",
       "3          0.0          0.0        0.0        0.0     HA_PV        True  \n",
       "4          0.0          0.0        0.0        0.0     HA_PV        True  "
      ]
     },
     "execution_count": 4,
     "metadata": {},
     "output_type": "execute_result"
    }
   ],
   "source": [
    "df.head()"
   ]
  },
  {
   "cell_type": "code",
   "execution_count": 5,
   "metadata": {},
   "outputs": [
    {
     "data": {
      "text/html": [
       "<div>\n",
       "<style scoped>\n",
       "    .dataframe tbody tr th:only-of-type {\n",
       "        vertical-align: middle;\n",
       "    }\n",
       "\n",
       "    .dataframe tbody tr th {\n",
       "        vertical-align: top;\n",
       "    }\n",
       "\n",
       "    .dataframe thead th {\n",
       "        text-align: right;\n",
       "    }\n",
       "</style>\n",
       "<table border=\"1\" class=\"dataframe\">\n",
       "  <thead>\n",
       "    <tr style=\"text-align: right;\">\n",
       "      <th></th>\n",
       "      <th>HR</th>\n",
       "      <th>RR</th>\n",
       "      <th>HRV</th>\n",
       "      <th>MicroSiemens</th>\n",
       "      <th>SCR</th>\n",
       "      <th>SCR_MIN</th>\n",
       "      <th>ArousalMean</th>\n",
       "      <th>ValenceMean</th>\n",
       "      <th>ArousalSD</th>\n",
       "      <th>ValenceSD</th>\n",
       "    </tr>\n",
       "  </thead>\n",
       "  <tbody>\n",
       "    <tr>\n",
       "      <th>count</th>\n",
       "      <td>523.000000</td>\n",
       "      <td>523.000000</td>\n",
       "      <td>523.000000</td>\n",
       "      <td>523.000000</td>\n",
       "      <td>523.000000</td>\n",
       "      <td>523.000000</td>\n",
       "      <td>523.000000</td>\n",
       "      <td>523.000000</td>\n",
       "      <td>523.000000</td>\n",
       "      <td>523.000000</td>\n",
       "    </tr>\n",
       "    <tr>\n",
       "      <th>mean</th>\n",
       "      <td>77.127533</td>\n",
       "      <td>783.393881</td>\n",
       "      <td>10.431033</td>\n",
       "      <td>9.780516</td>\n",
       "      <td>0.164436</td>\n",
       "      <td>2.338432</td>\n",
       "      <td>3.691902</td>\n",
       "      <td>3.258190</td>\n",
       "      <td>1.406755</td>\n",
       "      <td>0.992700</td>\n",
       "    </tr>\n",
       "    <tr>\n",
       "      <th>std</th>\n",
       "      <td>6.722177</td>\n",
       "      <td>63.245506</td>\n",
       "      <td>7.252355</td>\n",
       "      <td>2.119985</td>\n",
       "      <td>0.371026</td>\n",
       "      <td>1.967698</td>\n",
       "      <td>2.918476</td>\n",
       "      <td>2.971955</td>\n",
       "      <td>1.052176</td>\n",
       "      <td>0.761395</td>\n",
       "    </tr>\n",
       "    <tr>\n",
       "      <th>min</th>\n",
       "      <td>64.000000</td>\n",
       "      <td>602.000000</td>\n",
       "      <td>0.000000</td>\n",
       "      <td>6.810000</td>\n",
       "      <td>0.000000</td>\n",
       "      <td>0.000000</td>\n",
       "      <td>0.000000</td>\n",
       "      <td>0.000000</td>\n",
       "      <td>0.000000</td>\n",
       "      <td>0.000000</td>\n",
       "    </tr>\n",
       "    <tr>\n",
       "      <th>25%</th>\n",
       "      <td>72.950000</td>\n",
       "      <td>750.000000</td>\n",
       "      <td>4.955000</td>\n",
       "      <td>8.035000</td>\n",
       "      <td>0.000000</td>\n",
       "      <td>1.000000</td>\n",
       "      <td>0.000000</td>\n",
       "      <td>0.000000</td>\n",
       "      <td>0.000000</td>\n",
       "      <td>0.000000</td>\n",
       "    </tr>\n",
       "    <tr>\n",
       "      <th>50%</th>\n",
       "      <td>75.300000</td>\n",
       "      <td>797.000000</td>\n",
       "      <td>8.500000</td>\n",
       "      <td>9.140000</td>\n",
       "      <td>0.000000</td>\n",
       "      <td>2.000000</td>\n",
       "      <td>4.510000</td>\n",
       "      <td>2.490000</td>\n",
       "      <td>1.930000</td>\n",
       "      <td>1.336709</td>\n",
       "    </tr>\n",
       "    <tr>\n",
       "      <th>75%</th>\n",
       "      <td>80.000000</td>\n",
       "      <td>822.500000</td>\n",
       "      <td>13.440000</td>\n",
       "      <td>11.435000</td>\n",
       "      <td>0.000000</td>\n",
       "      <td>4.000000</td>\n",
       "      <td>6.173077</td>\n",
       "      <td>6.083333</td>\n",
       "      <td>2.109377</td>\n",
       "      <td>1.570000</td>\n",
       "    </tr>\n",
       "    <tr>\n",
       "      <th>max</th>\n",
       "      <td>99.700000</td>\n",
       "      <td>937.000000</td>\n",
       "      <td>31.070000</td>\n",
       "      <td>15.570000</td>\n",
       "      <td>1.000000</td>\n",
       "      <td>8.000000</td>\n",
       "      <td>7.461538</td>\n",
       "      <td>8.100000</td>\n",
       "      <td>2.850000</td>\n",
       "      <td>2.380000</td>\n",
       "    </tr>\n",
       "  </tbody>\n",
       "</table>\n",
       "</div>"
      ],
      "text/plain": [
       "               HR          RR         HRV  MicroSiemens         SCR  \\\n",
       "count  523.000000  523.000000  523.000000    523.000000  523.000000   \n",
       "mean    77.127533  783.393881   10.431033      9.780516    0.164436   \n",
       "std      6.722177   63.245506    7.252355      2.119985    0.371026   \n",
       "min     64.000000  602.000000    0.000000      6.810000    0.000000   \n",
       "25%     72.950000  750.000000    4.955000      8.035000    0.000000   \n",
       "50%     75.300000  797.000000    8.500000      9.140000    0.000000   \n",
       "75%     80.000000  822.500000   13.440000     11.435000    0.000000   \n",
       "max     99.700000  937.000000   31.070000     15.570000    1.000000   \n",
       "\n",
       "          SCR_MIN  ArousalMean  ValenceMean   ArousalSD   ValenceSD  \n",
       "count  523.000000   523.000000   523.000000  523.000000  523.000000  \n",
       "mean     2.338432     3.691902     3.258190    1.406755    0.992700  \n",
       "std      1.967698     2.918476     2.971955    1.052176    0.761395  \n",
       "min      0.000000     0.000000     0.000000    0.000000    0.000000  \n",
       "25%      1.000000     0.000000     0.000000    0.000000    0.000000  \n",
       "50%      2.000000     4.510000     2.490000    1.930000    1.336709  \n",
       "75%      4.000000     6.173077     6.083333    2.109377    1.570000  \n",
       "max      8.000000     7.461538     8.100000    2.850000    2.380000  "
      ]
     },
     "execution_count": 5,
     "metadata": {},
     "output_type": "execute_result"
    }
   ],
   "source": [
    "df.describe()"
   ]
  },
  {
   "cell_type": "code",
   "execution_count": 6,
   "metadata": {},
   "outputs": [],
   "source": [
    "#sns.pairplot(df, height=4, aspect=1);"
   ]
  },
  {
   "cell_type": "code",
   "execution_count": 7,
   "metadata": {},
   "outputs": [
    {
     "data": {
      "image/png": "[encoded data removed]",
      "text/plain": [
       "<Figure size 864x576 with 2 Axes>"
      ]
     },
     "metadata": {
      "needs_background": "light"
     },
     "output_type": "display_data"
    }
   ],
   "source": [
    "plt.figure(figsize=(12,8))\n",
    "sns.heatmap(df.corr(), annot=True, fmt=\".2f\", cmap='YlGnBu')\n",
    "plt.show()"
   ]
  },
  {
   "cell_type": "code",
   "execution_count": 8,
   "metadata": {},
   "outputs": [
    {
     "data": {
      "text/html": [
       "<div>\n",
       "<style scoped>\n",
       "    .dataframe tbody tr th:only-of-type {\n",
       "        vertical-align: middle;\n",
       "    }\n",
       "\n",
       "    .dataframe tbody tr th {\n",
       "        vertical-align: top;\n",
       "    }\n",
       "\n",
       "    .dataframe thead th {\n",
       "        text-align: right;\n",
       "    }\n",
       "</style>\n",
       "<table border=\"1\" class=\"dataframe\">\n",
       "  <thead>\n",
       "    <tr style=\"text-align: right;\">\n",
       "      <th></th>\n",
       "      <th>TimeStamp</th>\n",
       "      <th>HR</th>\n",
       "      <th>RR</th>\n",
       "      <th>HRV</th>\n",
       "      <th>MicroSiemens</th>\n",
       "      <th>SCR</th>\n",
       "      <th>SCR_MIN</th>\n",
       "      <th>ArousalMean</th>\n",
       "      <th>ValenceMean</th>\n",
       "      <th>ArousalSD</th>\n",
       "      <th>ValenceSD</th>\n",
       "      <th>PhaseName</th>\n",
       "      <th>MatchesSam</th>\n",
       "    </tr>\n",
       "  </thead>\n",
       "  <tbody>\n",
       "    <tr>\n",
       "      <th>62</th>\n",
       "      <td>2020-11-01 21:15:42</td>\n",
       "      <td>82.2</td>\n",
       "      <td>730</td>\n",
       "      <td>23.02</td>\n",
       "      <td>11.14</td>\n",
       "      <td>0</td>\n",
       "      <td>4</td>\n",
       "      <td>6.07</td>\n",
       "      <td>7.63</td>\n",
       "      <td>2.31</td>\n",
       "      <td>1.41</td>\n",
       "      <td>HA_PV</td>\n",
       "      <td>True</td>\n",
       "    </tr>\n",
       "    <tr>\n",
       "      <th>63</th>\n",
       "      <td>2020-11-01 21:15:42</td>\n",
       "      <td>90.2</td>\n",
       "      <td>665</td>\n",
       "      <td>22.11</td>\n",
       "      <td>11.53</td>\n",
       "      <td>0</td>\n",
       "      <td>4</td>\n",
       "      <td>6.07</td>\n",
       "      <td>7.63</td>\n",
       "      <td>2.31</td>\n",
       "      <td>1.41</td>\n",
       "      <td>HA_PV</td>\n",
       "      <td>True</td>\n",
       "    </tr>\n",
       "    <tr>\n",
       "      <th>65</th>\n",
       "      <td>2020-11-01 21:15:43</td>\n",
       "      <td>96.8</td>\n",
       "      <td>620</td>\n",
       "      <td>20.62</td>\n",
       "      <td>12.27</td>\n",
       "      <td>1</td>\n",
       "      <td>5</td>\n",
       "      <td>7.31</td>\n",
       "      <td>7.21</td>\n",
       "      <td>1.64</td>\n",
       "      <td>2.26</td>\n",
       "      <td>HA_PV</td>\n",
       "      <td>True</td>\n",
       "    </tr>\n",
       "    <tr>\n",
       "      <th>66</th>\n",
       "      <td>2020-11-01 21:15:45</td>\n",
       "      <td>96.8</td>\n",
       "      <td>620</td>\n",
       "      <td>19.91</td>\n",
       "      <td>11.43</td>\n",
       "      <td>0</td>\n",
       "      <td>5</td>\n",
       "      <td>6.68</td>\n",
       "      <td>7.20</td>\n",
       "      <td>1.97</td>\n",
       "      <td>2.35</td>\n",
       "      <td>HA_PV</td>\n",
       "      <td>True</td>\n",
       "    </tr>\n",
       "    <tr>\n",
       "      <th>67</th>\n",
       "      <td>2020-11-01 21:15:45</td>\n",
       "      <td>74.9</td>\n",
       "      <td>801</td>\n",
       "      <td>18.88</td>\n",
       "      <td>11.29</td>\n",
       "      <td>0</td>\n",
       "      <td>5</td>\n",
       "      <td>6.68</td>\n",
       "      <td>7.20</td>\n",
       "      <td>1.97</td>\n",
       "      <td>2.35</td>\n",
       "      <td>HA_PV</td>\n",
       "      <td>True</td>\n",
       "    </tr>\n",
       "  </tbody>\n",
       "</table>\n",
       "</div>"
      ],
      "text/plain": [
       "              TimeStamp    HR   RR    HRV  MicroSiemens  SCR  SCR_MIN  \\\n",
       "62  2020-11-01 21:15:42  82.2  730  23.02         11.14    0        4   \n",
       "63  2020-11-01 21:15:42  90.2  665  22.11         11.53    0        4   \n",
       "65  2020-11-01 21:15:43  96.8  620  20.62         12.27    1        5   \n",
       "66  2020-11-01 21:15:45  96.8  620  19.91         11.43    0        5   \n",
       "67  2020-11-01 21:15:45  74.9  801  18.88         11.29    0        5   \n",
       "\n",
       "    ArousalMean  ValenceMean  ArousalSD  ValenceSD PhaseName  MatchesSam  \n",
       "62         6.07         7.63       2.31       1.41     HA_PV        True  \n",
       "63         6.07         7.63       2.31       1.41     HA_PV        True  \n",
       "65         7.31         7.21       1.64       2.26     HA_PV        True  \n",
       "66         6.68         7.20       1.97       2.35     HA_PV        True  \n",
       "67         6.68         7.20       1.97       2.35     HA_PV        True  "
      ]
     },
     "execution_count": 8,
     "metadata": {},
     "output_type": "execute_result"
    }
   ],
   "source": [
    "# Filter outliers (arousal - valence = 0)\n",
    "filterArousal = df['ArousalMean'] > 0\n",
    "filtered1 = df[filterArousal]\n",
    "filterSam = filtered1['MatchesSam'] == True\n",
    "filtered = filtered1[filterSam]\n",
    "filtered.head()"
   ]
  },
  {
   "cell_type": "code",
   "execution_count": 9,
   "metadata": {},
   "outputs": [
    {
     "data": {
      "image/png": "[encoded data removed]",
      "text/plain": [
       "<Figure size 864x576 with 2 Axes>"
      ]
     },
     "metadata": {
      "needs_background": "light"
     },
     "output_type": "display_data"
    }
   ],
   "source": [
    "plt.figure(figsize=(12,8))\n",
    "sns.heatmap(filtered.corr(), annot=True, fmt=\".2f\", cmap='YlGnBu')\n",
    "plt.show()"
   ]
  },
  {
   "cell_type": "code",
   "execution_count": 10,
   "metadata": {},
   "outputs": [
    {
     "data": {
      "text/plain": [
       "array([[ 82.2 , 730.  ,  23.02],\n",
       "       [ 90.2 , 665.  ,  22.11],\n",
       "       [ 96.8 , 620.  ,  20.62],\n",
       "       [ 96.8 , 620.  ,  19.91],\n",
       "       [ 74.9 , 801.  ,  18.88],\n",
       "       [ 67.5 , 889.  ,  17.38],\n",
       "       [ 67.  , 896.  ,  16.35],\n",
       "       [ 67.  , 895.  ,  16.12],\n",
       "       [ 66.2 , 907.  ,  16.61],\n",
       "       [ 67.  , 896.  ,  17.95],\n",
       "       [ 71.2 , 843.  ,  19.4 ],\n",
       "       [ 70.5 , 851.  ,  21.12],\n",
       "       [ 72.7 , 825.  ,  22.73],\n",
       "       [ 70.3 , 854.  ,  25.61],\n",
       "       [ 71.5 , 839.  ,  26.55],\n",
       "       [ 67.6 , 888.  ,  27.27],\n",
       "       [ 64.7 , 927.  ,  27.85],\n",
       "       [ 64.2 , 935.  ,  28.06],\n",
       "       [ 64.  , 937.  ,  28.06],\n",
       "       [ 68.3 , 879.  ,  28.06],\n",
       "       [ 67.6 , 888.  ,  28.09],\n",
       "       [ 68.9 , 871.  ,  28.19],\n",
       "       [ 69.  , 869.  ,  28.43],\n",
       "       [ 74.1 , 810.  ,  28.71],\n",
       "       [ 72.  , 833.  ,  29.06],\n",
       "       [ 71.6 , 838.  ,  29.45],\n",
       "       [ 71.3 , 842.  ,  29.85],\n",
       "       [ 76.2 , 787.  ,  30.25],\n",
       "       [ 73.3 , 819.  ,  30.65],\n",
       "       [ 70.9 , 846.  ,  31.07],\n",
       "       [ 69.  , 870.  ,  30.98],\n",
       "       [ 70.1 , 856.  ,  30.7 ],\n",
       "       [ 73.4 , 817.  ,  30.34],\n",
       "       [ 72.3 , 830.  ,  29.8 ],\n",
       "       [ 72.6 , 826.  ,  29.32],\n",
       "       [ 77.7 , 772.  ,  27.97],\n",
       "       [ 77.  , 779.  ,  27.17],\n",
       "       [ 71.1 , 844.  ,  25.98],\n",
       "       [ 68.  , 882.  ,  23.77],\n",
       "       [ 67.9 , 884.  ,  21.74],\n",
       "       [ 71.5 , 839.  ,  19.58],\n",
       "       [ 69.8 , 860.  ,  17.17],\n",
       "       [ 70.1 , 856.  ,  13.82],\n",
       "       [ 70.9 , 846.  ,  10.94],\n",
       "       [ 72.6 , 826.  ,   8.64],\n",
       "       [ 75.9 , 791.  ,   7.85],\n",
       "       [ 74.8 , 802.  ,   8.12],\n",
       "       [ 76.5 , 784.  ,   8.5 ],\n",
       "       [ 74.3 , 807.  ,   8.87],\n",
       "       [ 74.1 , 810.  ,   9.14],\n",
       "       [ 74.  , 811.  ,   9.28],\n",
       "       [ 75.  , 800.  ,   9.35],\n",
       "       [ 74.  , 811.  ,   9.38],\n",
       "       [ 74.2 , 809.  ,   9.38],\n",
       "       [ 72.6 , 826.  ,   9.38],\n",
       "       [ 76.2 , 787.  ,   9.38],\n",
       "       [ 77.2 , 777.  ,   9.38],\n",
       "       [ 81.4 , 737.  ,   9.38],\n",
       "       [ 84.2 , 713.  ,   9.38],\n",
       "       [ 87.1 , 689.  ,   9.38],\n",
       "       [ 86.2 , 696.  ,   9.38],\n",
       "       [ 88.1 , 681.  ,   9.38],\n",
       "       [ 89.  , 674.  ,   9.38],\n",
       "       [ 91.5 , 656.  ,   9.38],\n",
       "       [ 93.3 , 643.  ,   9.38],\n",
       "       [ 95.7 , 627.  ,   9.38],\n",
       "       [ 96.9 , 619.  ,   9.38],\n",
       "       [ 98.5 , 609.  ,   9.38],\n",
       "       [ 96.9 , 619.  ,   9.41],\n",
       "       [ 92.4 , 649.  ,   9.62],\n",
       "       [ 83.7 , 717.  ,  10.05],\n",
       "       [ 75.1 , 799.  ,  10.7 ],\n",
       "       [ 70.2 , 855.  ,  11.24],\n",
       "       [ 68.1 , 881.  ,  11.78],\n",
       "       [ 69.8 , 859.  ,  12.42],\n",
       "       [ 68.6 , 875.  ,  12.91],\n",
       "       [ 69.4 , 865.  ,  13.38],\n",
       "       [ 70.4 , 852.  ,  13.82],\n",
       "       [ 72.5 , 828.  ,  14.43],\n",
       "       [ 73.6 , 815.  ,  15.18],\n",
       "       [ 72.5 , 828.  ,  15.96],\n",
       "       [ 74.6 , 804.  ,  16.76],\n",
       "       [ 75.1 , 799.  ,  17.58],\n",
       "       [ 74.7 , 803.  ,  18.38],\n",
       "       [ 72.4 , 829.  ,  19.36],\n",
       "       [ 73.5 , 816.  ,  20.26],\n",
       "       [ 77.  , 779.  ,  21.  ],\n",
       "       [ 78.5 , 764.  ,  21.48],\n",
       "       [ 81.  , 741.  ,  22.05],\n",
       "       [ 81.5 , 736.  ,  22.46],\n",
       "       [ 81.  , 741.  ,  22.57],\n",
       "       [ 81.4 , 737.  ,  22.38],\n",
       "       [ 77.  , 779.  ,  21.7 ],\n",
       "       [ 75.6 , 794.  ,   9.1 ],\n",
       "       [ 79.1 , 759.  ,   9.87],\n",
       "       [ 78.  , 769.  ,  11.1 ],\n",
       "       [ 82.6 , 726.  ,  11.82],\n",
       "       [ 87.5 , 686.  ,  12.33],\n",
       "       [ 92.6 , 648.  ,  13.18],\n",
       "       [ 92.  , 652.  ,  14.07],\n",
       "       [ 90.1 , 666.  ,  15.02],\n",
       "       [ 85.  , 706.  ,  15.62],\n",
       "       [ 88.5 , 678.  ,  15.98],\n",
       "       [ 84.9 , 707.  ,  16.12],\n",
       "       [ 80.  , 750.  ,  15.94],\n",
       "       [ 75.8 , 792.  ,  15.74],\n",
       "       [ 74.2 , 809.  ,  15.57],\n",
       "       [ 75.1 , 799.  ,  15.52],\n",
       "       [ 77.7 , 772.  ,  15.57],\n",
       "       [ 75.5 , 795.  ,  15.94],\n",
       "       [ 75.1 , 799.  ,  16.17],\n",
       "       [ 73.5 , 816.  ,  16.42],\n",
       "       [ 73.3 , 818.  ,  16.61],\n",
       "       [ 71.3 , 842.  ,  16.5 ],\n",
       "       [ 75.9 , 790.  ,  16.17],\n",
       "       [ 73.  , 822.  ,  15.83],\n",
       "       [ 71.9 , 834.  ,  15.38],\n",
       "       [ 70.3 , 853.  ,  14.77],\n",
       "       [ 70.5 , 851.  ,  13.55],\n",
       "       [ 74.8 , 802.  ,  12.19],\n",
       "       [ 72.1 , 832.  ,  10.65],\n",
       "       [ 71.9 , 834.  ,   8.2 ],\n",
       "       [ 71.6 , 838.  ,   5.3 ],\n",
       "       [ 73.1 , 821.  ,   3.94],\n",
       "       [ 75.4 , 796.  ,   3.46],\n",
       "       [ 73.  , 822.  ,   3.09],\n",
       "       [ 73.6 , 815.  ,   2.36],\n",
       "       [ 73.3 , 819.  ,   2.25],\n",
       "       [ 77.2 , 777.  ,   2.27],\n",
       "       [ 74.6 , 804.  ,   2.39],\n",
       "       [ 71.9 , 835.  ,   2.91],\n",
       "       [ 69.6 , 862.  ,   4.11],\n",
       "       [ 68.5 , 876.  ,   5.19],\n",
       "       [ 72.4 , 829.  ,   6.27],\n",
       "       [ 72.8 , 824.  ,   7.01],\n",
       "       [ 72.2 , 831.  ,   7.21],\n",
       "       [ 73.1 , 821.  ,   7.21],\n",
       "       [ 73.1 , 821.  ,   7.22],\n",
       "       [ 74.7 , 803.  ,   7.25],\n",
       "       [ 77.4 , 775.  ,   7.28],\n",
       "       [ 75.5 , 795.  ,   7.3 ],\n",
       "       [ 73.3 , 819.  ,   7.31],\n",
       "       [ 71.7 , 837.  ,   7.27],\n",
       "       [ 71.5 , 839.  ,   7.19],\n",
       "       [ 75.  , 800.  ,   6.89],\n",
       "       [ 75.8 , 792.  ,   6.74],\n",
       "       [ 75.5 , 795.  ,   6.55],\n",
       "       [ 77.9 , 770.  ,   6.35],\n",
       "       [ 80.  , 750.  ,   6.21],\n",
       "       [ 80.6 , 744.  ,   6.12],\n",
       "       [ 79.1 , 759.  ,   6.09],\n",
       "       [ 76.  , 789.  ,   6.14],\n",
       "       [ 74.1 , 810.  ,   6.34],\n",
       "       [ 70.8 , 848.  ,   6.59],\n",
       "       [ 75.2 , 798.  ,   6.79],\n",
       "       [ 74.3 , 807.  ,   6.65],\n",
       "       [ 72.5 , 828.  ,   6.07],\n",
       "       [ 72.7 , 825.  ,   4.73],\n",
       "       [ 72.3 , 830.  ,   3.4 ],\n",
       "       [ 75.9 , 790.  ,   2.61],\n",
       "       [ 82.1 , 731.  ,   6.64],\n",
       "       [ 77.5 , 774.  ,   7.24],\n",
       "       [ 79.1 , 759.  ,   7.71],\n",
       "       [ 75.7 , 793.  ,   8.16],\n",
       "       [ 76.8 , 781.  ,   8.62],\n",
       "       [ 75.3 , 797.  ,   9.07],\n",
       "       [ 76.5 , 784.  ,   9.46],\n",
       "       [ 74.1 , 810.  ,   9.66],\n",
       "       [ 74.5 , 805.  ,   9.75],\n",
       "       [ 77.7 , 772.  ,   9.49],\n",
       "       [ 79.6 , 754.  ,   9.26],\n",
       "       [ 79.8 , 752.  ,   8.92],\n",
       "       [ 79.4 , 756.  ,   8.55],\n",
       "       [ 78.3 , 766.  ,   8.17],\n",
       "       [ 77.1 , 778.  ,   7.79],\n",
       "       [ 79.1 , 759.  ,   7.39],\n",
       "       [ 75.9 , 791.  ,   6.83],\n",
       "       [ 76.1 , 788.  ,   5.5 ],\n",
       "       [ 74.5 , 805.  ,   4.92],\n",
       "       [ 76.  , 789.  ,   4.3 ],\n",
       "       [ 76.5 , 784.  ,   3.38],\n",
       "       [ 75.2 , 798.  ,   2.58],\n",
       "       [ 75.  , 800.  ,   2.52],\n",
       "       [ 75.9 , 790.  ,   3.2 ],\n",
       "       [ 80.  , 750.  ,   4.23],\n",
       "       [ 78.9 , 760.  ,   4.49],\n",
       "       [ 77.9 , 770.  ,   4.29],\n",
       "       [ 75.3 , 797.  ,   3.74],\n",
       "       [ 72.7 , 825.  ,   3.02],\n",
       "       [ 75.8 , 792.  ,   2.25],\n",
       "       [ 74.3 , 808.  ,   1.77],\n",
       "       [ 73.9 , 812.  ,   1.67],\n",
       "       [ 73.4 , 817.  ,   1.79],\n",
       "       [ 73.1 , 821.  ,   2.02],\n",
       "       [ 75.7 , 793.  ,   2.28],\n",
       "       [ 72.4 , 829.  ,   2.63],\n",
       "       [ 71.7 , 837.  ,   3.18],\n",
       "       [ 71.9 , 835.  ,   3.83],\n",
       "       [ 75.1 , 799.  ,   4.44],\n",
       "       [ 78.1 , 768.  ,   5.09],\n",
       "       [ 76.7 , 782.  ,   5.46],\n",
       "       [ 76.  , 789.  ,   5.71],\n",
       "       [ 72.6 , 827.  ,   5.92],\n",
       "       [ 69.9 , 858.  ,   6.22],\n",
       "       [ 72.4 , 829.  ,   6.57],\n",
       "       [ 70.2 , 855.  ,   6.69],\n",
       "       [ 69.6 , 862.  ,   6.75],\n",
       "       [ 71.4 , 840.  ,   6.85],\n",
       "       [ 73.3 , 818.  ,   6.94],\n",
       "       [ 77.4 , 775.  ,   6.86],\n",
       "       [ 76.1 , 788.  ,   6.52],\n",
       "       [ 74.4 , 806.  ,   5.6 ],\n",
       "       [ 73.4 , 817.  ,   4.42],\n",
       "       [ 71.8 , 836.  ,   3.23],\n",
       "       [ 74.7 , 803.  ,   2.34],\n",
       "       [ 71.8 , 836.  ,   2.15],\n",
       "       [ 71.2 , 843.  ,   2.35],\n",
       "       [ 70.7 , 849.  ,   2.55],\n",
       "       [ 74.3 , 808.  ,   2.65],\n",
       "       [ 76.1 , 788.  ,   2.68],\n",
       "       [ 74.9 , 801.  ,   2.73],\n",
       "       [ 76.1 , 788.  ,   2.92],\n",
       "       [ 73.7 , 814.  ,   3.49],\n",
       "       [ 76.  , 789.  ,   4.37],\n",
       "       [ 79.7 , 753.  ,   4.76],\n",
       "       [ 76.  , 789.  ,   4.72],\n",
       "       [ 75.5 , 795.  ,   4.38],\n",
       "       [ 72.3 , 830.  ,   3.99],\n",
       "       [ 72.1 , 832.  ,   3.61],\n",
       "       [ 75.6 , 794.  ,   3.08],\n",
       "       [ 73.1 , 821.  ,   2.75],\n",
       "       [ 72.9 , 823.  ,   2.68],\n",
       "       [ 71.9 , 835.  ,   2.94],\n",
       "       [ 73.5 , 816.  ,   3.28],\n",
       "       [ 77.1 , 778.  ,   3.61],\n",
       "       [ 76.2 , 787.  ,   3.95],\n",
       "       [ 75.4 , 796.  ,   4.25],\n",
       "       [ 74.1 , 810.  ,   4.13],\n",
       "       [ 75.4 , 796.  ,   4.01],\n",
       "       [ 74.9 , 801.  ,   3.85],\n",
       "       [ 73.4 , 817.  ,   3.69],\n",
       "       [ 73.  , 822.  ,   3.59],\n",
       "       [ 74.5 , 805.  ,   3.74],\n",
       "       [ 78.  , 769.  ,   3.95],\n",
       "       [ 77.7 , 772.  ,   4.18],\n",
       "       [ 80.  , 750.  ,   4.51],\n",
       "       [ 80.9 , 742.  ,   4.94],\n",
       "       [ 81.9 , 733.  ,   5.43],\n",
       "       [ 82.8 , 725.  ,   5.87],\n",
       "       [ 77.3 , 776.  ,   6.29],\n",
       "       [ 74.1 , 810.  ,   6.72],\n",
       "       [ 71.4 , 840.  ,   7.05],\n",
       "       [ 74.8 , 802.  ,   7.51],\n",
       "       [ 73.5 , 816.  ,   8.28],\n",
       "       [ 73.  , 822.  ,   8.81],\n",
       "       [ 74.2 , 809.  ,   9.21],\n",
       "       [ 76.5 , 784.  ,   9.33],\n",
       "       [ 80.8 , 743.  ,   9.32],\n",
       "       [ 80.  , 750.  ,   9.2 ],\n",
       "       [ 79.6 , 754.  ,   9.05],\n",
       "       [ 78.  , 769.  ,   8.88],\n",
       "       [ 75.  , 800.  ,   8.66],\n",
       "       [ 73.4 , 817.  ,   8.02],\n",
       "       [ 75.8 , 792.  ,   7.68],\n",
       "       [ 72.9 , 823.  ,   7.31],\n",
       "       [ 73.  , 822.  ,   6.93],\n",
       "       [ 73.6 , 815.  ,   6.59],\n",
       "       [ 75.4 , 796.  ,   6.33],\n",
       "       [ 79.1 , 759.  ,   5.99]])"
      ]
     },
     "execution_count": 10,
     "metadata": {},
     "output_type": "execute_result"
    }
   ],
   "source": [
    "X = filtered[['HR', 'RR', 'HRV']].values\n",
    "y = filtered['ArousalMean'].values\n",
    "X"
   ]
  },
  {
   "cell_type": "code",
   "execution_count": 11,
   "metadata": {},
   "outputs": [
    {
     "data": {
      "text/plain": [
       "array([ 82.2 , 730.  ,  23.02])"
      ]
     },
     "execution_count": 11,
     "metadata": {},
     "output_type": "execute_result"
    }
   ],
   "source": [
    "X[0]"
   ]
  },
  {
   "cell_type": "code",
   "execution_count": 12,
   "metadata": {},
   "outputs": [
    {
     "data": {
      "text/plain": [
       "array([6.07    , 6.07    , 7.31    , 6.68    , 6.68    , 6.68    ,\n",
       "       6.14    , 6.14    , 6.61    , 6.61    , 6.61    , 6.73    ,\n",
       "       6.73    , 6.35    , 6.28    , 6.28    , 6.28    , 6.84    ,\n",
       "       6.84    , 7.27    , 7.27    , 7.27    , 6.153846, 6.153846,\n",
       "       6.153846, 6.153846, 6.153846, 6.153846, 6.153846, 6.153846,\n",
       "       6.153846, 6.153846, 6.153846, 6.153846, 6.153846, 6.173077,\n",
       "       6.173077, 6.173077, 6.173077, 6.173077, 6.173077, 6.173077,\n",
       "       6.173077, 6.173077, 6.173077, 6.173077, 6.173077, 6.173077,\n",
       "       6.173077, 6.173077, 6.153846, 6.153846, 6.153846, 6.153846,\n",
       "       6.153846, 6.153846, 6.153846, 6.153846, 6.153846, 6.153846,\n",
       "       6.153846, 6.153846, 6.153846, 6.153846, 6.153846, 6.153846,\n",
       "       6.153846, 6.153846, 6.153846, 6.153846, 6.153846, 7.134615,\n",
       "       7.134615, 7.134615, 7.134615, 7.134615, 7.134615, 6.769231,\n",
       "       6.769231, 6.769231, 6.769231, 6.769231, 6.769231, 6.769231,\n",
       "       6.769231, 6.769231, 6.769231, 6.769231, 6.769231, 6.769231,\n",
       "       6.769231, 6.769231, 6.769231, 4.91    , 4.91    , 4.91    ,\n",
       "       4.87    , 4.87    , 4.87    , 4.51    , 4.51    , 4.92    ,\n",
       "       4.92    , 4.92    , 4.92    , 4.68    , 4.68    , 4.68    ,\n",
       "       4.6     , 4.6     , 4.44    , 4.44    , 4.68    , 4.68    ,\n",
       "       4.68    , 4.74    , 4.74    , 4.74    , 4.9     , 4.9     ,\n",
       "       3.115385, 3.115385, 3.115385, 3.115385, 3.115385, 3.115385,\n",
       "       3.115385, 3.115385, 3.942308, 3.942308, 3.942308, 3.942308,\n",
       "       3.942308, 3.942308, 3.942308, 3.673077, 3.673077, 3.673077,\n",
       "       3.673077, 3.673077, 3.673077, 3.673077, 3.673077, 3.673077,\n",
       "       3.326923, 3.326923, 3.326923, 3.326923, 3.326923, 3.326923,\n",
       "       3.326923, 3.326923, 3.326923, 3.326923, 3.269231, 3.269231,\n",
       "       3.269231, 3.269231, 3.269231, 3.269231, 7.15    , 7.15    ,\n",
       "       6.28    , 6.28    , 6.52    , 6.52    , 6.52    , 5.64    ,\n",
       "       5.64    , 7.09    , 7.09    , 6.96    , 6.96    , 6.96    ,\n",
       "       7.29    , 7.29    , 7.29    , 6.93    , 6.93    , 6.82    ,\n",
       "       6.82    , 6.82    , 7.35    , 7.35    , 7.35    , 7.461538,\n",
       "       7.461538, 7.461538, 7.461538, 7.461538, 7.461538, 7.461538,\n",
       "       7.461538, 7.461538, 7.461538, 7.461538, 7.461538, 7.461538,\n",
       "       7.461538, 7.461538, 7.461538, 7.461538, 7.461538, 5.576923,\n",
       "       5.576923, 5.576923, 5.576923, 5.576923, 5.576923, 5.576923,\n",
       "       5.576923, 5.576923, 5.576923, 5.576923, 5.576923, 5.576923,\n",
       "       5.576923, 5.576923, 5.576923, 5.576923, 5.576923, 7.365385,\n",
       "       7.365385, 7.365385, 7.365385, 7.365385, 7.365385, 7.365385,\n",
       "       7.365385, 7.365385, 7.365385, 7.365385, 7.365385, 7.365385,\n",
       "       7.365385, 7.365385, 7.365385, 7.365385, 7.211538, 7.211538,\n",
       "       7.211538, 7.211538, 7.211538, 7.211538, 7.211538, 7.211538,\n",
       "       7.211538, 7.211538, 7.211538, 7.211538, 7.211538, 7.211538,\n",
       "       7.211538, 7.211538, 7.211538, 7.211538, 7.211538, 7.211538,\n",
       "       7.211538, 7.211538, 7.211538, 7.      , 7.      , 7.      ,\n",
       "       7.      , 7.      , 7.      , 7.      , 7.      ])"
      ]
     },
     "execution_count": 12,
     "metadata": {},
     "output_type": "execute_result"
    }
   ],
   "source": [
    "y"
   ]
  },
  {
   "cell_type": "markdown",
   "metadata": {},
   "source": [
    "# Split data set into train and test"
   ]
  },
  {
   "cell_type": "code",
   "execution_count": 13,
   "metadata": {},
   "outputs": [],
   "source": [
    "from sklearn.model_selection import train_test_split"
   ]
  },
  {
   "cell_type": "code",
   "execution_count": 14,
   "metadata": {},
   "outputs": [
    {
     "data": {
      "text/plain": [
       "(array([6.07    , 6.07    , 7.31    , 6.68    , 6.68    , 6.68    ,\n",
       "        6.14    , 6.14    , 6.61    , 6.61    , 6.61    , 6.73    ,\n",
       "        6.73    , 6.35    , 6.28    , 6.28    , 6.28    , 6.84    ,\n",
       "        6.84    , 7.27    , 7.27    , 7.27    , 6.153846, 6.153846,\n",
       "        6.153846, 6.153846, 6.153846, 6.153846, 6.153846, 6.153846,\n",
       "        6.153846, 6.153846, 6.153846, 6.153846, 6.153846, 6.173077,\n",
       "        6.173077, 6.173077, 6.173077, 6.173077, 6.173077, 6.173077,\n",
       "        6.173077, 6.173077, 6.173077, 6.173077, 6.173077, 6.173077,\n",
       "        6.173077, 6.173077, 6.153846, 6.153846, 6.153846, 6.153846,\n",
       "        6.153846, 6.153846, 6.153846, 6.153846, 6.153846, 6.153846,\n",
       "        6.153846, 6.153846, 6.153846, 6.153846, 6.153846, 6.153846,\n",
       "        6.153846, 6.153846, 6.153846, 6.153846, 6.153846, 7.134615,\n",
       "        7.134615, 7.134615, 7.134615, 7.134615, 7.134615, 6.769231,\n",
       "        6.769231, 6.769231, 6.769231, 6.769231, 6.769231, 6.769231,\n",
       "        6.769231, 6.769231, 6.769231, 6.769231, 6.769231, 6.769231,\n",
       "        6.769231, 6.769231, 6.769231, 4.91    , 4.91    , 4.91    ,\n",
       "        4.87    , 4.87    , 4.87    , 4.51    , 4.51    , 4.92    ,\n",
       "        4.92    , 4.92    , 4.92    , 4.68    , 4.68    , 4.68    ,\n",
       "        4.6     , 4.6     , 4.44    , 4.44    , 4.68    , 4.68    ,\n",
       "        4.68    , 4.74    , 4.74    , 4.74    , 4.9     , 4.9     ,\n",
       "        3.115385, 3.115385, 3.115385, 3.115385, 3.115385, 3.115385,\n",
       "        3.115385, 3.115385, 3.942308, 3.942308, 3.942308, 3.942308,\n",
       "        3.942308, 3.942308, 3.942308, 3.673077, 3.673077, 3.673077,\n",
       "        3.673077, 3.673077, 3.673077, 3.673077, 3.673077, 3.673077,\n",
       "        3.326923, 3.326923, 3.326923, 3.326923, 3.326923, 3.326923,\n",
       "        3.326923, 3.326923, 3.326923, 3.326923, 3.269231, 3.269231,\n",
       "        3.269231, 3.269231, 3.269231, 3.269231, 7.15    , 7.15    ,\n",
       "        6.28    , 6.28    , 6.52    , 6.52    , 6.52    , 5.64    ,\n",
       "        5.64    , 7.09    , 7.09    , 6.96    , 6.96    , 6.96    ,\n",
       "        7.29    , 7.29    , 7.29    , 6.93    , 6.93    , 6.82    ,\n",
       "        6.82    , 6.82    , 7.35    , 7.35    , 7.35    , 7.461538,\n",
       "        7.461538, 7.461538, 7.461538, 7.461538, 7.461538, 7.461538,\n",
       "        7.461538, 7.461538, 7.461538, 7.461538, 7.461538, 7.461538,\n",
       "        7.461538, 7.461538, 7.461538, 7.461538, 7.461538, 5.576923,\n",
       "        5.576923, 5.576923, 5.576923, 5.576923, 5.576923, 5.576923,\n",
       "        5.576923, 5.576923, 5.576923, 5.576923, 5.576923]),\n",
       " array([5.576923, 5.576923, 5.576923, 5.576923, 5.576923, 5.576923,\n",
       "        7.365385, 7.365385, 7.365385, 7.365385, 7.365385, 7.365385,\n",
       "        7.365385, 7.365385, 7.365385, 7.365385, 7.365385, 7.365385,\n",
       "        7.365385, 7.365385, 7.365385, 7.365385, 7.365385, 7.211538,\n",
       "        7.211538, 7.211538, 7.211538, 7.211538, 7.211538, 7.211538,\n",
       "        7.211538, 7.211538, 7.211538, 7.211538, 7.211538, 7.211538,\n",
       "        7.211538, 7.211538, 7.211538, 7.211538, 7.211538, 7.211538,\n",
       "        7.211538, 7.211538, 7.211538, 7.211538, 7.      , 7.      ,\n",
       "        7.      , 7.      , 7.      , 7.      , 7.      , 7.      ]))"
      ]
     },
     "execution_count": 14,
     "metadata": {},
     "output_type": "execute_result"
    }
   ],
   "source": [
    "X_train, X_test, y_train, y_test = train_test_split(X, y, test_size=0.2, shuffle=False, random_state=42)\n",
    "\n",
    "y_train, y_test"
   ]
  },
  {
   "cell_type": "code",
   "execution_count": 15,
   "metadata": {},
   "outputs": [],
   "source": [
    "# Para poder usar un clasificador, los datos de la variable target deben ser discretos.\n",
    "#Los convertimos a True-False (Aroused-NotAroused) con el fin de poder entrear un clasificador binario\n",
    "y_train_aroused = (y_train > 5)"
   ]
  },
  {
   "cell_type": "code",
   "execution_count": 16,
   "metadata": {},
   "outputs": [
    {
     "data": {
      "text/plain": [
       "array([ True,  True,  True,  True,  True,  True,  True,  True,  True,\n",
       "        True,  True,  True,  True,  True,  True,  True,  True,  True,\n",
       "        True,  True,  True,  True,  True,  True,  True,  True,  True,\n",
       "        True,  True,  True,  True,  True,  True,  True,  True,  True,\n",
       "        True,  True,  True,  True,  True,  True,  True,  True,  True,\n",
       "        True,  True,  True,  True,  True,  True,  True,  True,  True,\n",
       "        True,  True,  True,  True,  True,  True,  True,  True,  True,\n",
       "        True,  True,  True,  True,  True,  True,  True,  True,  True,\n",
       "        True,  True,  True,  True,  True,  True,  True,  True,  True,\n",
       "        True,  True,  True,  True,  True,  True,  True,  True,  True,\n",
       "        True,  True,  True, False, False, False, False, False, False,\n",
       "       False, False, False, False, False, False, False, False, False,\n",
       "       False, False, False, False, False, False, False, False, False,\n",
       "       False, False, False, False, False, False, False, False, False,\n",
       "       False, False, False, False, False, False, False, False, False,\n",
       "       False, False, False, False, False, False, False, False, False,\n",
       "       False, False, False, False, False, False, False, False, False,\n",
       "       False, False, False, False, False, False, False,  True,  True,\n",
       "        True,  True,  True,  True,  True,  True,  True,  True,  True,\n",
       "        True,  True,  True,  True,  True,  True,  True,  True,  True,\n",
       "        True,  True,  True,  True,  True,  True,  True,  True,  True,\n",
       "        True,  True,  True,  True,  True,  True,  True,  True,  True,\n",
       "        True,  True,  True,  True,  True,  True,  True,  True,  True,\n",
       "        True,  True,  True,  True,  True,  True,  True,  True])"
      ]
     },
     "execution_count": 16,
     "metadata": {},
     "output_type": "execute_result"
    }
   ],
   "source": [
    "y_train_aroused"
   ]
  },
  {
   "cell_type": "markdown",
   "metadata": {},
   "source": [
    "# SGDClassifier\n",
    "[SGDClassifier](https://scikit-learn.org/stable/modules/generated/sklearn.linear_model.SGDClassifier.html) Linear classifiers (SVM, logistic regression) with SGD training.\n",
    "\n",
    "# Training"
   ]
  },
  {
   "cell_type": "code",
   "execution_count": 17,
   "metadata": {},
   "outputs": [
    {
     "data": {
      "text/plain": [
       "SGDClassifier(alpha=0.0001, average=False, class_weight=None,\n",
       "              early_stopping=False, epsilon=0.1, eta0=0.0, fit_intercept=True,\n",
       "              l1_ratio=0.15, learning_rate='optimal', loss='hinge',\n",
       "              max_iter=1000, n_iter_no_change=5, n_jobs=None, penalty='l2',\n",
       "              power_t=0.5, random_state=0, shuffle=True, tol=0.001,\n",
       "              validation_fraction=0.1, verbose=0, warm_start=False)"
      ]
     },
     "execution_count": 17,
     "metadata": {},
     "output_type": "execute_result"
    }
   ],
   "source": [
    "from sklearn.linear_model import SGDClassifier\n",
    "\n",
    "clf = SGDClassifier(random_state = 0)\n",
    "clf.fit(X_train, y_train_aroused)"
   ]
  },
  {
   "cell_type": "markdown",
   "metadata": {},
   "source": [
    "# Prediction"
   ]
  },
  {
   "cell_type": "code",
   "execution_count": 18,
   "metadata": {},
   "outputs": [
    {
     "data": {
      "text/plain": [
       "array([ True])"
      ]
     },
     "execution_count": 18,
     "metadata": {},
     "output_type": "execute_result"
    }
   ],
   "source": [
    "clf.predict(X[50].reshape(1, -1))"
   ]
  },
  {
   "cell_type": "code",
   "execution_count": 19,
   "metadata": {},
   "outputs": [
    {
     "data": {
      "text/plain": [
       "array([ 74.  , 811.  ,   9.28])"
      ]
     },
     "execution_count": 19,
     "metadata": {},
     "output_type": "execute_result"
    }
   ],
   "source": [
    "X[50]"
   ]
  },
  {
   "cell_type": "markdown",
   "metadata": {},
   "source": [
    "# Performance Measuring"
   ]
  },
  {
   "cell_type": "code",
   "execution_count": 20,
   "metadata": {},
   "outputs": [],
   "source": [
    "from sklearn.model_selection import cross_val_score"
   ]
  },
  {
   "cell_type": "code",
   "execution_count": 21,
   "metadata": {},
   "outputs": [
    {
     "data": {
      "text/plain": [
       "array([0.69444444, 0.68055556, 0.30985915])"
      ]
     },
     "execution_count": 21,
     "metadata": {},
     "output_type": "execute_result"
    }
   ],
   "source": [
    "cross_val_score(clf, X_train, y_train_aroused, cv=3, scoring='accuracy')"
   ]
  },
  {
   "cell_type": "markdown",
   "metadata": {
    "colab_type": "text",
    "id": "edqy40nOYyVT"
   },
   "source": [
    "# Confusion Matrix"
   ]
  },
  {
   "cell_type": "code",
   "execution_count": 22,
   "metadata": {
    "colab": {},
    "colab_type": "code",
    "id": "qN0GqLeSYyVT"
   },
   "outputs": [],
   "source": [
    "from sklearn.model_selection import cross_val_predict"
   ]
  },
  {
   "cell_type": "code",
   "execution_count": 23,
   "metadata": {
    "colab": {},
    "colab_type": "code",
    "id": "oQkwoytjYyVW"
   },
   "outputs": [],
   "source": [
    "y_train_pred = cross_val_predict(clf, X_train, y_train_aroused, cv=3)"
   ]
  },
  {
   "cell_type": "code",
   "execution_count": 24,
   "metadata": {
    "colab": {},
    "colab_type": "code",
    "id": "xI6p2HvyYyVX"
   },
   "outputs": [],
   "source": [
    "from sklearn.metrics import confusion_matrix"
   ]
  },
  {
   "cell_type": "code",
   "execution_count": 25,
   "metadata": {
    "colab": {
     "base_uri": "https://localhost:8080/",
     "height": 51
    },
    "colab_type": "code",
    "executionInfo": {
     "elapsed": 158117,
     "status": "ok",
     "timestamp": 1570958325898,
     "user": {
      "displayName": "Anthony Ng",
      "photoUrl": "https://lh3.googleusercontent.com/a-/AAuE7mDCwHDw3XUA0T7h5JCQA3iBUS8Wbz1V-29O8pmP8g=s64",
      "userId": "06915612711739148186"
     },
     "user_tz": -480
    },
    "id": "O40Yjy7zYyVa",
    "outputId": "1688917f-effa-4f80-ff38-d3834d736474"
   },
   "outputs": [
    {
     "data": {
      "text/plain": [
       "array([[22, 45],\n",
       "       [49, 99]], dtype=int64)"
      ]
     },
     "execution_count": 25,
     "metadata": {},
     "output_type": "execute_result"
    }
   ],
   "source": [
    "confusion_matrix(y_train_aroused, y_train_pred)"
   ]
  },
  {
   "cell_type": "code",
   "execution_count": 26,
   "metadata": {},
   "outputs": [
    {
     "data": {
      "text/html": [
       "<div>\n",
       "<style scoped>\n",
       "    .dataframe tbody tr th:only-of-type {\n",
       "        vertical-align: middle;\n",
       "    }\n",
       "\n",
       "    .dataframe tbody tr th {\n",
       "        vertical-align: top;\n",
       "    }\n",
       "\n",
       "    .dataframe thead tr th {\n",
       "        text-align: left;\n",
       "    }\n",
       "</style>\n",
       "<table border=\"1\" class=\"dataframe\">\n",
       "  <thead>\n",
       "    <tr>\n",
       "      <th></th>\n",
       "      <th></th>\n",
       "      <th colspan=\"2\" halign=\"left\">Prediction</th>\n",
       "    </tr>\n",
       "    <tr>\n",
       "      <th></th>\n",
       "      <th></th>\n",
       "      <th>Negative</th>\n",
       "      <th>Positive</th>\n",
       "    </tr>\n",
       "  </thead>\n",
       "  <tbody>\n",
       "    <tr>\n",
       "      <th rowspan=\"2\" valign=\"top\">Actual</th>\n",
       "      <th>Negative</th>\n",
       "      <td>22</td>\n",
       "      <td>45</td>\n",
       "    </tr>\n",
       "    <tr>\n",
       "      <th>Positive</th>\n",
       "      <td>49</td>\n",
       "      <td>99</td>\n",
       "    </tr>\n",
       "  </tbody>\n",
       "</table>\n",
       "</div>"
      ],
      "text/plain": [
       "                Prediction         \n",
       "                  Negative Positive\n",
       "Actual Negative         22       45\n",
       "       Positive         49       99"
      ]
     },
     "execution_count": 26,
     "metadata": {},
     "output_type": "execute_result"
    }
   ],
   "source": [
    "pd.DataFrame(confusion_matrix(y_train_aroused, y_train_pred),\n",
    "             columns=pd.MultiIndex.from_product([['Prediction'], [\"Negative\", \"Positive\"]]),\n",
    "             index=pd.MultiIndex.from_product([[\"Actual\"], [\"Negative\", \"Positive\"]]))"
   ]
  },
  {
   "cell_type": "code",
   "execution_count": 27,
   "metadata": {},
   "outputs": [],
   "source": [
    "from sklearn.metrics import precision_score, recall_score"
   ]
  },
  {
   "cell_type": "code",
   "execution_count": 28,
   "metadata": {},
   "outputs": [
    {
     "data": {
      "text/plain": [
       "0.6875"
      ]
     },
     "execution_count": 28,
     "metadata": {},
     "output_type": "execute_result"
    }
   ],
   "source": [
    "precision_score(y_train_aroused, y_train_pred)"
   ]
  },
  {
   "cell_type": "code",
   "execution_count": null,
   "metadata": {},
   "outputs": [],
   "source": []
  }
 ],
 "metadata": {
  "kernelspec": {
   "display_name": "Python 3",
   "language": "python",
   "name": "python3"
  },
  "language_info": {
   "codemirror_mode": {
    "name": "ipython",
    "version": 3
   },
   "file_extension": ".py",
   "mimetype": "text/x-python",
   "name": "python",
   "nbconvert_exporter": "python",
   "pygments_lexer": "ipython3",
   "version": "3.7.6"
  }
 },
 "nbformat": 4,
 "nbformat_minor": 4
}
