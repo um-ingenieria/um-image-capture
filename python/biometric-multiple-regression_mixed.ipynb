{
 "cells": [
  {
   "cell_type": "code",
   "execution_count": 1,
   "metadata": {},
   "outputs": [],
   "source": [
    "import numpy as np\n",
    "import pandas as pd\n",
    "import matplotlib.pyplot as plt\n",
    "%matplotlib inline\n",
    "import seaborn as sns\n",
    "import sklearn"
   ]
  },
  {
   "cell_type": "code",
   "execution_count": 2,
   "metadata": {},
   "outputs": [
    {
     "name": "stdout",
     "output_type": "stream",
     "text": [
      "1.18.5\n",
      "1.0.5\n",
      "3.8.3 (default, Jul  2 2020, 11:26:31) \n",
      "[Clang 10.0.0 ]\n",
      "0.23.1\n"
     ]
    }
   ],
   "source": [
    "print(np.__version__)\n",
    "print(pd.__version__)\n",
    "import sys\n",
    "print(sys.version)\n",
    "print(sklearn.__version__)"
   ]
  },
  {
   "cell_type": "code",
   "execution_count": 3,
   "metadata": {},
   "outputs": [],
   "source": [
    "df = pd.read_csv(\"..//resources//csv//data//biometrics.csv\")"
   ]
  },
  {
   "cell_type": "code",
   "execution_count": 4,
   "metadata": {},
   "outputs": [
    {
     "data": {
      "text/html": [
       "<div>\n",
       "<style scoped>\n",
       "    .dataframe tbody tr th:only-of-type {\n",
       "        vertical-align: middle;\n",
       "    }\n",
       "\n",
       "    .dataframe tbody tr th {\n",
       "        vertical-align: top;\n",
       "    }\n",
       "\n",
       "    .dataframe thead th {\n",
       "        text-align: right;\n",
       "    }\n",
       "</style>\n",
       "<table border=\"1\" class=\"dataframe\">\n",
       "  <thead>\n",
       "    <tr style=\"text-align: right;\">\n",
       "      <th></th>\n",
       "      <th>TimeStamp</th>\n",
       "      <th>HR</th>\n",
       "      <th>RR</th>\n",
       "      <th>HRV</th>\n",
       "      <th>MicroSiemens</th>\n",
       "      <th>SCR</th>\n",
       "      <th>SCR_MIN</th>\n",
       "      <th>ArousalMean</th>\n",
       "      <th>ValenceMean</th>\n",
       "      <th>ArousalSD</th>\n",
       "      <th>ValenceSD</th>\n",
       "    </tr>\n",
       "  </thead>\n",
       "  <tbody>\n",
       "    <tr>\n",
       "      <th>0</th>\n",
       "      <td>2020-10-25 19:00:47</td>\n",
       "      <td>84.9</td>\n",
       "      <td>707</td>\n",
       "      <td>0.10</td>\n",
       "      <td>0.91</td>\n",
       "      <td>0</td>\n",
       "      <td>0</td>\n",
       "      <td>0.0</td>\n",
       "      <td>0.0</td>\n",
       "      <td>0.0</td>\n",
       "      <td>0.0</td>\n",
       "    </tr>\n",
       "    <tr>\n",
       "      <th>1</th>\n",
       "      <td>2020-10-25 19:00:49</td>\n",
       "      <td>83.6</td>\n",
       "      <td>718</td>\n",
       "      <td>12.71</td>\n",
       "      <td>0.91</td>\n",
       "      <td>0</td>\n",
       "      <td>0</td>\n",
       "      <td>0.0</td>\n",
       "      <td>0.0</td>\n",
       "      <td>0.0</td>\n",
       "      <td>0.0</td>\n",
       "    </tr>\n",
       "    <tr>\n",
       "      <th>2</th>\n",
       "      <td>2020-10-25 19:00:49</td>\n",
       "      <td>80.9</td>\n",
       "      <td>742</td>\n",
       "      <td>0.00</td>\n",
       "      <td>0.91</td>\n",
       "      <td>0</td>\n",
       "      <td>0</td>\n",
       "      <td>0.0</td>\n",
       "      <td>0.0</td>\n",
       "      <td>0.0</td>\n",
       "      <td>0.0</td>\n",
       "    </tr>\n",
       "    <tr>\n",
       "      <th>3</th>\n",
       "      <td>2020-10-25 19:00:50</td>\n",
       "      <td>83.0</td>\n",
       "      <td>723</td>\n",
       "      <td>0.00</td>\n",
       "      <td>0.91</td>\n",
       "      <td>0</td>\n",
       "      <td>0</td>\n",
       "      <td>0.0</td>\n",
       "      <td>0.0</td>\n",
       "      <td>0.0</td>\n",
       "      <td>0.0</td>\n",
       "    </tr>\n",
       "    <tr>\n",
       "      <th>4</th>\n",
       "      <td>2020-10-25 19:00:51</td>\n",
       "      <td>83.8</td>\n",
       "      <td>716</td>\n",
       "      <td>0.00</td>\n",
       "      <td>0.90</td>\n",
       "      <td>0</td>\n",
       "      <td>0</td>\n",
       "      <td>0.0</td>\n",
       "      <td>0.0</td>\n",
       "      <td>0.0</td>\n",
       "      <td>0.0</td>\n",
       "    </tr>\n",
       "  </tbody>\n",
       "</table>\n",
       "</div>"
      ],
      "text/plain": [
       "             TimeStamp    HR   RR    HRV  MicroSiemens  SCR  SCR_MIN  \\\n",
       "0  2020-10-25 19:00:47  84.9  707   0.10          0.91    0        0   \n",
       "1  2020-10-25 19:00:49  83.6  718  12.71          0.91    0        0   \n",
       "2  2020-10-25 19:00:49  80.9  742   0.00          0.91    0        0   \n",
       "3  2020-10-25 19:00:50  83.0  723   0.00          0.91    0        0   \n",
       "4  2020-10-25 19:00:51  83.8  716   0.00          0.90    0        0   \n",
       "\n",
       "   ArousalMean  ValenceMean  ArousalSD  ValenceSD  \n",
       "0          0.0          0.0        0.0        0.0  \n",
       "1          0.0          0.0        0.0        0.0  \n",
       "2          0.0          0.0        0.0        0.0  \n",
       "3          0.0          0.0        0.0        0.0  \n",
       "4          0.0          0.0        0.0        0.0  "
      ]
     },
     "execution_count": 4,
     "metadata": {},
     "output_type": "execute_result"
    }
   ],
   "source": [
    "df.head()"
   ]
  },
  {
   "cell_type": "code",
   "execution_count": 5,
   "metadata": {},
   "outputs": [
    {
     "data": {
      "text/html": [
       "<div>\n",
       "<style scoped>\n",
       "    .dataframe tbody tr th:only-of-type {\n",
       "        vertical-align: middle;\n",
       "    }\n",
       "\n",
       "    .dataframe tbody tr th {\n",
       "        vertical-align: top;\n",
       "    }\n",
       "\n",
       "    .dataframe thead th {\n",
       "        text-align: right;\n",
       "    }\n",
       "</style>\n",
       "<table border=\"1\" class=\"dataframe\">\n",
       "  <thead>\n",
       "    <tr style=\"text-align: right;\">\n",
       "      <th></th>\n",
       "      <th>HR</th>\n",
       "      <th>RR</th>\n",
       "      <th>HRV</th>\n",
       "      <th>MicroSiemens</th>\n",
       "      <th>SCR</th>\n",
       "      <th>SCR_MIN</th>\n",
       "      <th>ArousalMean</th>\n",
       "      <th>ValenceMean</th>\n",
       "      <th>ArousalSD</th>\n",
       "      <th>ValenceSD</th>\n",
       "    </tr>\n",
       "  </thead>\n",
       "  <tbody>\n",
       "    <tr>\n",
       "      <th>count</th>\n",
       "      <td>646.000000</td>\n",
       "      <td>646.000000</td>\n",
       "      <td>646.000000</td>\n",
       "      <td>646.000000</td>\n",
       "      <td>646.000000</td>\n",
       "      <td>646.000000</td>\n",
       "      <td>646.000000</td>\n",
       "      <td>646.000000</td>\n",
       "      <td>646.000000</td>\n",
       "      <td>646.000000</td>\n",
       "    </tr>\n",
       "    <tr>\n",
       "      <th>mean</th>\n",
       "      <td>75.948762</td>\n",
       "      <td>794.407121</td>\n",
       "      <td>7.730480</td>\n",
       "      <td>1.001780</td>\n",
       "      <td>0.013932</td>\n",
       "      <td>0.126935</td>\n",
       "      <td>2.921103</td>\n",
       "      <td>2.517510</td>\n",
       "      <td>1.120223</td>\n",
       "      <td>0.804458</td>\n",
       "    </tr>\n",
       "    <tr>\n",
       "      <th>std</th>\n",
       "      <td>5.711617</td>\n",
       "      <td>59.714540</td>\n",
       "      <td>3.937004</td>\n",
       "      <td>0.078368</td>\n",
       "      <td>0.117299</td>\n",
       "      <td>0.333158</td>\n",
       "      <td>2.978730</td>\n",
       "      <td>2.876539</td>\n",
       "      <td>1.094584</td>\n",
       "      <td>0.804154</td>\n",
       "    </tr>\n",
       "    <tr>\n",
       "      <th>min</th>\n",
       "      <td>60.600000</td>\n",
       "      <td>650.000000</td>\n",
       "      <td>0.000000</td>\n",
       "      <td>0.820000</td>\n",
       "      <td>0.000000</td>\n",
       "      <td>0.000000</td>\n",
       "      <td>0.000000</td>\n",
       "      <td>0.000000</td>\n",
       "      <td>0.000000</td>\n",
       "      <td>0.000000</td>\n",
       "    </tr>\n",
       "    <tr>\n",
       "      <th>25%</th>\n",
       "      <td>71.925000</td>\n",
       "      <td>756.000000</td>\n",
       "      <td>4.752500</td>\n",
       "      <td>0.940000</td>\n",
       "      <td>0.000000</td>\n",
       "      <td>0.000000</td>\n",
       "      <td>0.000000</td>\n",
       "      <td>0.000000</td>\n",
       "      <td>0.000000</td>\n",
       "      <td>0.000000</td>\n",
       "    </tr>\n",
       "    <tr>\n",
       "      <th>50%</th>\n",
       "      <td>75.850000</td>\n",
       "      <td>791.500000</td>\n",
       "      <td>6.880000</td>\n",
       "      <td>1.020000</td>\n",
       "      <td>0.000000</td>\n",
       "      <td>0.000000</td>\n",
       "      <td>3.394231</td>\n",
       "      <td>1.958333</td>\n",
       "      <td>1.708267</td>\n",
       "      <td>1.039204</td>\n",
       "    </tr>\n",
       "    <tr>\n",
       "      <th>75%</th>\n",
       "      <td>79.400000</td>\n",
       "      <td>833.750000</td>\n",
       "      <td>10.082500</td>\n",
       "      <td>1.050000</td>\n",
       "      <td>0.000000</td>\n",
       "      <td>0.000000</td>\n",
       "      <td>6.153846</td>\n",
       "      <td>4.333333</td>\n",
       "      <td>2.100779</td>\n",
       "      <td>1.540000</td>\n",
       "    </tr>\n",
       "    <tr>\n",
       "      <th>max</th>\n",
       "      <td>92.300000</td>\n",
       "      <td>990.000000</td>\n",
       "      <td>19.570000</td>\n",
       "      <td>1.180000</td>\n",
       "      <td>1.000000</td>\n",
       "      <td>1.000000</td>\n",
       "      <td>7.461538</td>\n",
       "      <td>8.100000</td>\n",
       "      <td>2.850000</td>\n",
       "      <td>2.380000</td>\n",
       "    </tr>\n",
       "  </tbody>\n",
       "</table>\n",
       "</div>"
      ],
      "text/plain": [
       "               HR          RR         HRV  MicroSiemens         SCR  \\\n",
       "count  646.000000  646.000000  646.000000    646.000000  646.000000   \n",
       "mean    75.948762  794.407121    7.730480      1.001780    0.013932   \n",
       "std      5.711617   59.714540    3.937004      0.078368    0.117299   \n",
       "min     60.600000  650.000000    0.000000      0.820000    0.000000   \n",
       "25%     71.925000  756.000000    4.752500      0.940000    0.000000   \n",
       "50%     75.850000  791.500000    6.880000      1.020000    0.000000   \n",
       "75%     79.400000  833.750000   10.082500      1.050000    0.000000   \n",
       "max     92.300000  990.000000   19.570000      1.180000    1.000000   \n",
       "\n",
       "          SCR_MIN  ArousalMean  ValenceMean   ArousalSD   ValenceSD  \n",
       "count  646.000000   646.000000   646.000000  646.000000  646.000000  \n",
       "mean     0.126935     2.921103     2.517510    1.120223    0.804458  \n",
       "std      0.333158     2.978730     2.876539    1.094584    0.804154  \n",
       "min      0.000000     0.000000     0.000000    0.000000    0.000000  \n",
       "25%      0.000000     0.000000     0.000000    0.000000    0.000000  \n",
       "50%      0.000000     3.394231     1.958333    1.708267    1.039204  \n",
       "75%      0.000000     6.153846     4.333333    2.100779    1.540000  \n",
       "max      1.000000     7.461538     8.100000    2.850000    2.380000  "
      ]
     },
     "execution_count": 5,
     "metadata": {},
     "output_type": "execute_result"
    }
   ],
   "source": [
    "df.describe()"
   ]
  },
  {
   "cell_type": "code",
   "execution_count": 6,
   "metadata": {},
   "outputs": [],
   "source": [
    "#sns.pairplot(df, height=4, aspect=1);"
   ]
  },
  {
   "cell_type": "code",
   "execution_count": 7,
   "metadata": {},
   "outputs": [
    {
     "data": {
      "image/png": "[encoded data removed]",
      "text/plain": [
       "<Figure size 864x576 with 2 Axes>"
      ]
     },
     "metadata": {
      "needs_background": "light"
     },
     "output_type": "display_data"
    }
   ],
   "source": [
    "plt.figure(figsize=(12,8))\n",
    "sns.heatmap(df.corr(), annot=True, fmt=\".2f\", cmap='YlGnBu')\n",
    "plt.show()"
   ]
  },
  {
   "cell_type": "code",
   "execution_count": 8,
   "metadata": {},
   "outputs": [
    {
     "data": {
      "text/html": [
       "<div>\n",
       "<style scoped>\n",
       "    .dataframe tbody tr th:only-of-type {\n",
       "        vertical-align: middle;\n",
       "    }\n",
       "\n",
       "    .dataframe tbody tr th {\n",
       "        vertical-align: top;\n",
       "    }\n",
       "\n",
       "    .dataframe thead th {\n",
       "        text-align: right;\n",
       "    }\n",
       "</style>\n",
       "<table border=\"1\" class=\"dataframe\">\n",
       "  <thead>\n",
       "    <tr style=\"text-align: right;\">\n",
       "      <th></th>\n",
       "      <th>TimeStamp</th>\n",
       "      <th>HR</th>\n",
       "      <th>RR</th>\n",
       "      <th>HRV</th>\n",
       "      <th>MicroSiemens</th>\n",
       "      <th>SCR</th>\n",
       "      <th>SCR_MIN</th>\n",
       "      <th>ArousalMean</th>\n",
       "      <th>ValenceMean</th>\n",
       "      <th>ArousalSD</th>\n",
       "      <th>ValenceSD</th>\n",
       "    </tr>\n",
       "  </thead>\n",
       "  <tbody>\n",
       "    <tr>\n",
       "      <th>226</th>\n",
       "      <td>2020-10-25 19:03:44</td>\n",
       "      <td>75.9</td>\n",
       "      <td>790</td>\n",
       "      <td>4.83</td>\n",
       "      <td>1.11</td>\n",
       "      <td>0</td>\n",
       "      <td>0</td>\n",
       "      <td>6.07</td>\n",
       "      <td>7.63</td>\n",
       "      <td>2.31</td>\n",
       "      <td>1.41</td>\n",
       "    </tr>\n",
       "    <tr>\n",
       "      <th>227</th>\n",
       "      <td>2020-10-25 19:03:44</td>\n",
       "      <td>77.2</td>\n",
       "      <td>777</td>\n",
       "      <td>3.77</td>\n",
       "      <td>1.10</td>\n",
       "      <td>0</td>\n",
       "      <td>0</td>\n",
       "      <td>6.07</td>\n",
       "      <td>7.63</td>\n",
       "      <td>2.31</td>\n",
       "      <td>1.41</td>\n",
       "    </tr>\n",
       "    <tr>\n",
       "      <th>228</th>\n",
       "      <td>2020-10-25 19:03:45</td>\n",
       "      <td>77.0</td>\n",
       "      <td>779</td>\n",
       "      <td>3.21</td>\n",
       "      <td>1.10</td>\n",
       "      <td>0</td>\n",
       "      <td>0</td>\n",
       "      <td>6.07</td>\n",
       "      <td>7.63</td>\n",
       "      <td>2.31</td>\n",
       "      <td>1.41</td>\n",
       "    </tr>\n",
       "    <tr>\n",
       "      <th>229</th>\n",
       "      <td>2020-10-25 19:03:46</td>\n",
       "      <td>77.0</td>\n",
       "      <td>779</td>\n",
       "      <td>3.08</td>\n",
       "      <td>1.09</td>\n",
       "      <td>0</td>\n",
       "      <td>0</td>\n",
       "      <td>7.31</td>\n",
       "      <td>7.21</td>\n",
       "      <td>1.64</td>\n",
       "      <td>2.26</td>\n",
       "    </tr>\n",
       "    <tr>\n",
       "      <th>230</th>\n",
       "      <td>2020-10-25 19:03:46</td>\n",
       "      <td>77.4</td>\n",
       "      <td>775</td>\n",
       "      <td>3.20</td>\n",
       "      <td>1.09</td>\n",
       "      <td>0</td>\n",
       "      <td>0</td>\n",
       "      <td>7.31</td>\n",
       "      <td>7.21</td>\n",
       "      <td>1.64</td>\n",
       "      <td>2.26</td>\n",
       "    </tr>\n",
       "  </tbody>\n",
       "</table>\n",
       "</div>"
      ],
      "text/plain": [
       "               TimeStamp    HR   RR   HRV  MicroSiemens  SCR  SCR_MIN  \\\n",
       "226  2020-10-25 19:03:44  75.9  790  4.83          1.11    0        0   \n",
       "227  2020-10-25 19:03:44  77.2  777  3.77          1.10    0        0   \n",
       "228  2020-10-25 19:03:45  77.0  779  3.21          1.10    0        0   \n",
       "229  2020-10-25 19:03:46  77.0  779  3.08          1.09    0        0   \n",
       "230  2020-10-25 19:03:46  77.4  775  3.20          1.09    0        0   \n",
       "\n",
       "     ArousalMean  ValenceMean  ArousalSD  ValenceSD  \n",
       "226         6.07         7.63       2.31       1.41  \n",
       "227         6.07         7.63       2.31       1.41  \n",
       "228         6.07         7.63       2.31       1.41  \n",
       "229         7.31         7.21       1.64       2.26  \n",
       "230         7.31         7.21       1.64       2.26  "
      ]
     },
     "execution_count": 8,
     "metadata": {},
     "output_type": "execute_result"
    }
   ],
   "source": [
    "# Filter outliers (arousal - valence = 0)\n",
    "filter = df['ArousalMean'] > 0\n",
    "filtered = df[filter]\n",
    "filtered.head()"
   ]
  },
  {
   "cell_type": "code",
   "execution_count": 9,
   "metadata": {},
   "outputs": [
    {
     "data": {
      "image/png": "[encoded data removed]",
      "text/plain": [
       "<Figure size 864x576 with 2 Axes>"
      ]
     },
     "metadata": {
      "needs_background": "light"
     },
     "output_type": "display_data"
    }
   ],
   "source": [
    "plt.figure(figsize=(12,8))\n",
    "sns.heatmap(filtered.corr(), annot=True, fmt=\".2f\", cmap='YlGnBu')\n",
    "plt.show()"
   ]
  },
  {
   "cell_type": "code",
   "execution_count": 10,
   "metadata": {},
   "outputs": [
    {
     "data": {
      "text/plain": [
       "array([[  1.11,  75.9 , 790.  ,   4.83],\n",
       "       [  1.1 ,  77.2 , 777.  ,   3.77],\n",
       "       [  1.1 ,  77.  , 779.  ,   3.21],\n",
       "       ...,\n",
       "       [  0.97,  70.4 , 852.  ,  17.42],\n",
       "       [  0.96,  67.  , 895.  ,  17.38],\n",
       "       [  0.95,  65.9 , 910.  ,  17.16]])"
      ]
     },
     "execution_count": 10,
     "metadata": {},
     "output_type": "execute_result"
    }
   ],
   "source": [
    "X = filtered[['MicroSiemens', 'HR', 'RR', 'HRV', ]].values\n",
    "y = filtered['ArousalMean'].values\n",
    "X"
   ]
  },
  {
   "cell_type": "code",
   "execution_count": 11,
   "metadata": {},
   "outputs": [
    {
     "data": {
      "text/plain": [
       "array([  1.11,  75.9 , 790.  ,   4.83])"
      ]
     },
     "execution_count": 11,
     "metadata": {},
     "output_type": "execute_result"
    }
   ],
   "source": [
    "X[0]"
   ]
  },
  {
   "cell_type": "code",
   "execution_count": 12,
   "metadata": {},
   "outputs": [
    {
     "data": {
      "text/plain": [
       "array([6.07    , 6.07    , 6.07    , 7.31    , 7.31    , 7.31    ,\n",
       "       6.68    , 6.68    , 6.14    , 6.14    , 6.14    , 6.61    ,\n",
       "       6.61    , 6.73    , 6.73    , 6.73    , 6.35    , 6.35    ,\n",
       "       6.35    , 6.28    , 6.28    , 6.84    , 6.84    , 6.84    ,\n",
       "       7.27    , 7.27    , 3.788461, 3.788461, 3.788461, 3.788461,\n",
       "       3.788461, 3.788461, 3.788461, 3.788461, 3.788461, 3.788461,\n",
       "       3.788461, 3.788461, 3.788461, 3.788461, 3.788461, 3.788461,\n",
       "       3.788461, 3.788461, 3.788461, 3.788461, 3.788461, 3.788461,\n",
       "       3.788461, 3.788461, 3.788461, 3.788461, 3.788461, 3.788461,\n",
       "       3.788461, 3.788461, 3.788461, 3.788461, 3.788461, 3.788461,\n",
       "       3.788461, 4.5     , 4.5     , 4.5     , 4.5     , 4.5     ,\n",
       "       4.5     , 4.5     , 4.5     , 4.5     , 4.5     , 4.5     ,\n",
       "       4.5     , 4.692307, 4.692307, 4.692307, 4.692307, 4.692307,\n",
       "       4.692307, 4.692307, 4.692307, 4.692307, 4.692307, 4.692307,\n",
       "       4.692307, 4.692307, 3.711539, 3.711539, 3.711539, 3.711539,\n",
       "       3.711539, 3.711539, 3.711539, 2.942308, 2.942308, 2.942308,\n",
       "       2.942308, 2.942308, 2.942308, 4.91    , 4.91    , 4.87    ,\n",
       "       4.87    , 4.87    , 4.51    , 4.51    , 4.51    , 4.92    ,\n",
       "       4.92    , 4.92    , 4.68    , 4.68    , 4.6     , 4.6     ,\n",
       "       4.44    , 4.44    , 4.44    , 4.68    , 4.68    , 4.74    ,\n",
       "       4.74    , 4.74    , 4.9     , 4.9     , 7.461538, 7.461538,\n",
       "       7.461538, 7.461538, 7.461538, 7.461538, 7.461538, 7.461538,\n",
       "       7.461538, 7.461538, 7.461538, 7.461538, 7.461538, 7.461538,\n",
       "       7.461538, 7.461538, 7.461538, 7.461538, 7.461538, 5.576923,\n",
       "       5.576923, 5.576923, 5.576923, 5.576923, 5.576923, 5.576923,\n",
       "       5.576923, 5.576923, 5.576923, 5.576923, 5.576923, 5.576923,\n",
       "       5.576923, 5.576923, 5.576923, 5.576923, 7.365385, 7.365385,\n",
       "       7.365385, 7.365385, 7.365385, 7.365385, 7.365385, 7.365385,\n",
       "       7.365385, 7.365385, 7.365385, 7.365385, 7.365385, 7.365385,\n",
       "       7.365385, 7.365385, 7.211538, 7.211538, 7.211538, 7.211538,\n",
       "       7.211538, 7.211538, 7.211538, 7.211538, 7.211538, 7.211538,\n",
       "       7.211538, 7.211538, 7.211538, 7.211538, 7.211538, 7.211538,\n",
       "       7.211538, 7.211538, 7.211538, 7.211538, 7.211538, 7.211538,\n",
       "       7.      , 7.      , 7.      , 7.      , 7.      , 7.      ,\n",
       "       4.83    , 4.83    , 4.96    , 4.96    , 4.96    , 4.68    ,\n",
       "       4.68    , 4.67    , 4.67    , 4.67    , 4.88    , 4.88    ,\n",
       "       4.98    , 4.98    , 4.98    , 4.72    , 4.72    , 4.36    ,\n",
       "       4.36    , 4.36    , 4.92    , 4.92    , 4.92    , 4.57    ,\n",
       "       4.57    , 4.57    , 6.153846, 6.153846, 6.153846, 6.153846,\n",
       "       6.153846, 6.153846, 6.153846, 6.153846, 6.153846, 6.153846,\n",
       "       6.173077, 6.173077, 6.173077, 6.173077, 6.173077, 6.173077,\n",
       "       6.173077, 6.173077, 6.173077, 6.173077, 6.173077, 6.173077,\n",
       "       6.173077, 6.173077, 6.173077, 6.153846, 6.153846, 6.153846,\n",
       "       6.153846, 6.153846, 6.153846, 6.153846, 6.153846, 6.153846,\n",
       "       6.153846, 6.153846, 6.153846, 6.153846, 6.153846, 6.153846,\n",
       "       6.153846, 7.134615, 7.134615, 7.134615, 7.134615, 7.134615,\n",
       "       7.134615, 7.134615, 6.769231, 6.769231, 6.769231, 6.769231,\n",
       "       6.769231, 6.769231, 6.769231, 6.769231, 6.769231, 6.769231,\n",
       "       6.769231, 6.769231, 6.769231, 7.15    , 7.15    , 6.28    ,\n",
       "       6.28    , 6.28    , 6.52    , 6.52    , 5.64    , 5.64    ,\n",
       "       5.64    , 7.09    , 7.09    , 6.96    , 6.96    , 6.96    ,\n",
       "       7.29    , 7.29    , 6.93    , 6.93    , 6.82    , 6.82    ,\n",
       "       6.82    , 7.35    , 7.35    , 3.115385, 3.115385, 3.115385,\n",
       "       3.115385, 3.115385, 3.115385, 3.115385, 3.942308, 3.942308,\n",
       "       3.942308, 3.942308, 3.942308, 3.942308, 3.673077, 3.673077,\n",
       "       3.673077, 3.673077, 3.673077, 3.673077, 3.673077, 3.673077])"
      ]
     },
     "execution_count": 12,
     "metadata": {},
     "output_type": "execute_result"
    }
   ],
   "source": [
    "y"
   ]
  },
  {
   "cell_type": "markdown",
   "metadata": {},
   "source": [
    "# Split data set into train and test"
   ]
  },
  {
   "cell_type": "code",
   "execution_count": 13,
   "metadata": {},
   "outputs": [],
   "source": [
    "from sklearn.model_selection import train_test_split"
   ]
  },
  {
   "cell_type": "code",
   "execution_count": 14,
   "metadata": {},
   "outputs": [
    {
     "data": {
      "text/plain": [
       "(array([6.07    , 6.07    , 6.07    , 7.31    , 7.31    , 7.31    ,\n",
       "        6.68    , 6.68    , 6.14    , 6.14    , 6.14    , 6.61    ,\n",
       "        6.61    , 6.73    , 6.73    , 6.73    , 6.35    , 6.35    ,\n",
       "        6.35    , 6.28    , 6.28    , 6.84    , 6.84    , 6.84    ,\n",
       "        7.27    , 7.27    , 3.788461, 3.788461, 3.788461, 3.788461,\n",
       "        3.788461, 3.788461, 3.788461, 3.788461, 3.788461, 3.788461,\n",
       "        3.788461, 3.788461, 3.788461, 3.788461, 3.788461, 3.788461,\n",
       "        3.788461, 3.788461, 3.788461, 3.788461, 3.788461, 3.788461,\n",
       "        3.788461, 3.788461, 3.788461, 3.788461, 3.788461, 3.788461,\n",
       "        3.788461, 3.788461, 3.788461, 3.788461, 3.788461, 3.788461,\n",
       "        3.788461, 4.5     , 4.5     , 4.5     , 4.5     , 4.5     ,\n",
       "        4.5     , 4.5     , 4.5     , 4.5     , 4.5     , 4.5     ,\n",
       "        4.5     , 4.692307, 4.692307, 4.692307, 4.692307, 4.692307,\n",
       "        4.692307, 4.692307, 4.692307, 4.692307, 4.692307, 4.692307,\n",
       "        4.692307, 4.692307, 3.711539, 3.711539, 3.711539, 3.711539,\n",
       "        3.711539, 3.711539, 3.711539, 2.942308, 2.942308, 2.942308,\n",
       "        2.942308, 2.942308, 2.942308, 4.91    , 4.91    , 4.87    ,\n",
       "        4.87    , 4.87    , 4.51    , 4.51    , 4.51    , 4.92    ,\n",
       "        4.92    , 4.92    , 4.68    , 4.68    , 4.6     , 4.6     ,\n",
       "        4.44    , 4.44    , 4.44    , 4.68    , 4.68    , 4.74    ,\n",
       "        4.74    , 4.74    , 4.9     , 4.9     , 7.461538, 7.461538,\n",
       "        7.461538, 7.461538, 7.461538, 7.461538, 7.461538, 7.461538,\n",
       "        7.461538, 7.461538, 7.461538, 7.461538, 7.461538, 7.461538,\n",
       "        7.461538, 7.461538, 7.461538, 7.461538, 7.461538, 5.576923,\n",
       "        5.576923, 5.576923, 5.576923, 5.576923, 5.576923, 5.576923,\n",
       "        5.576923, 5.576923, 5.576923, 5.576923, 5.576923, 5.576923,\n",
       "        5.576923, 5.576923, 5.576923, 5.576923, 7.365385, 7.365385,\n",
       "        7.365385, 7.365385, 7.365385, 7.365385, 7.365385, 7.365385,\n",
       "        7.365385, 7.365385, 7.365385, 7.365385, 7.365385, 7.365385,\n",
       "        7.365385, 7.365385, 7.211538, 7.211538, 7.211538, 7.211538,\n",
       "        7.211538, 7.211538, 7.211538, 7.211538, 7.211538, 7.211538,\n",
       "        7.211538, 7.211538, 7.211538, 7.211538, 7.211538, 7.211538,\n",
       "        7.211538, 7.211538, 7.211538, 7.211538, 7.211538, 7.211538,\n",
       "        7.      , 7.      , 7.      , 7.      , 7.      , 7.      ,\n",
       "        4.83    , 4.83    , 4.96    , 4.96    , 4.96    , 4.68    ,\n",
       "        4.68    , 4.67    , 4.67    , 4.67    , 4.88    , 4.88    ,\n",
       "        4.98    , 4.98    , 4.98    , 4.72    , 4.72    , 4.36    ,\n",
       "        4.36    , 4.36    , 4.92    , 4.92    , 4.92    , 4.57    ,\n",
       "        4.57    , 4.57    , 6.153846, 6.153846, 6.153846, 6.153846,\n",
       "        6.153846, 6.153846, 6.153846, 6.153846, 6.153846, 6.153846,\n",
       "        6.173077, 6.173077, 6.173077, 6.173077, 6.173077, 6.173077,\n",
       "        6.173077, 6.173077, 6.173077, 6.173077, 6.173077, 6.173077,\n",
       "        6.173077, 6.173077, 6.173077, 6.153846, 6.153846, 6.153846,\n",
       "        6.153846, 6.153846, 6.153846, 6.153846, 6.153846, 6.153846,\n",
       "        6.153846, 6.153846, 6.153846, 6.153846]),\n",
       " array([6.153846, 6.153846, 6.153846, 7.134615, 7.134615, 7.134615,\n",
       "        7.134615, 7.134615, 7.134615, 7.134615, 6.769231, 6.769231,\n",
       "        6.769231, 6.769231, 6.769231, 6.769231, 6.769231, 6.769231,\n",
       "        6.769231, 6.769231, 6.769231, 6.769231, 6.769231, 7.15    ,\n",
       "        7.15    , 6.28    , 6.28    , 6.28    , 6.52    , 6.52    ,\n",
       "        5.64    , 5.64    , 5.64    , 7.09    , 7.09    , 6.96    ,\n",
       "        6.96    , 6.96    , 7.29    , 7.29    , 6.93    , 6.93    ,\n",
       "        6.82    , 6.82    , 6.82    , 7.35    , 7.35    , 3.115385,\n",
       "        3.115385, 3.115385, 3.115385, 3.115385, 3.115385, 3.115385,\n",
       "        3.942308, 3.942308, 3.942308, 3.942308, 3.942308, 3.942308,\n",
       "        3.673077, 3.673077, 3.673077, 3.673077, 3.673077, 3.673077,\n",
       "        3.673077, 3.673077]))"
      ]
     },
     "execution_count": 14,
     "metadata": {},
     "output_type": "execute_result"
    }
   ],
   "source": [
    "X_train, X_test, y_train, y_test = train_test_split(X, y, test_size=0.2, shuffle=False, random_state=42)\n",
    "\n",
    "y_train, y_test"
   ]
  },
  {
   "cell_type": "code",
   "execution_count": 15,
   "metadata": {},
   "outputs": [],
   "source": [
    "# Para poder usar un clasificador, los datos de la variable target deben ser discretos.\n",
    "#Los convertimos a True-False (Aroused-NotAroused) con el fin de poder entrear un clasificador binario\n",
    "y_train_aroused = (y_train > 5)"
   ]
  },
  {
   "cell_type": "code",
   "execution_count": 16,
   "metadata": {},
   "outputs": [
    {
     "data": {
      "text/plain": [
       "array([ True,  True,  True,  True,  True,  True,  True,  True,  True,\n",
       "        True,  True,  True,  True,  True,  True,  True,  True,  True,\n",
       "        True,  True,  True,  True,  True,  True,  True,  True, False,\n",
       "       False, False, False, False, False, False, False, False, False,\n",
       "       False, False, False, False, False, False, False, False, False,\n",
       "       False, False, False, False, False, False, False, False, False,\n",
       "       False, False, False, False, False, False, False, False, False,\n",
       "       False, False, False, False, False, False, False, False, False,\n",
       "       False, False, False, False, False, False, False, False, False,\n",
       "       False, False, False, False, False, False, False, False, False,\n",
       "       False, False, False, False, False, False, False, False, False,\n",
       "       False, False, False, False, False, False, False, False, False,\n",
       "       False, False, False, False, False, False, False, False, False,\n",
       "       False, False, False, False, False, False, False,  True,  True,\n",
       "        True,  True,  True,  True,  True,  True,  True,  True,  True,\n",
       "        True,  True,  True,  True,  True,  True,  True,  True,  True,\n",
       "        True,  True,  True,  True,  True,  True,  True,  True,  True,\n",
       "        True,  True,  True,  True,  True,  True,  True,  True,  True,\n",
       "        True,  True,  True,  True,  True,  True,  True,  True,  True,\n",
       "        True,  True,  True,  True,  True,  True,  True,  True,  True,\n",
       "        True,  True,  True,  True,  True,  True,  True,  True,  True,\n",
       "        True,  True,  True,  True,  True,  True,  True,  True,  True,\n",
       "        True,  True,  True,  True,  True,  True, False, False, False,\n",
       "       False, False, False, False, False, False, False, False, False,\n",
       "       False, False, False, False, False, False, False, False, False,\n",
       "       False, False, False, False, False,  True,  True,  True,  True,\n",
       "        True,  True,  True,  True,  True,  True,  True,  True,  True,\n",
       "        True,  True,  True,  True,  True,  True,  True,  True,  True,\n",
       "        True,  True,  True,  True,  True,  True,  True,  True,  True,\n",
       "        True,  True,  True,  True,  True,  True,  True])"
      ]
     },
     "execution_count": 16,
     "metadata": {},
     "output_type": "execute_result"
    }
   ],
   "source": [
    "y_train_aroused"
   ]
  },
  {
   "cell_type": "markdown",
   "metadata": {},
   "source": [
    "# SGDClassifier\n",
    "[SGDClassifier](https://scikit-learn.org/stable/modules/generated/sklearn.linear_model.SGDClassifier.html) Linear classifiers (SVM, logistic regression) with SGD training.\n",
    "\n",
    "# Training"
   ]
  },
  {
   "cell_type": "code",
   "execution_count": 17,
   "metadata": {},
   "outputs": [
    {
     "data": {
      "text/plain": [
       "SGDClassifier(random_state=0)"
      ]
     },
     "execution_count": 17,
     "metadata": {},
     "output_type": "execute_result"
    }
   ],
   "source": [
    "from sklearn.linear_model import SGDClassifier\n",
    "\n",
    "clf = SGDClassifier(random_state = 0)\n",
    "clf.fit(X_train, y_train_aroused)"
   ]
  },
  {
   "cell_type": "markdown",
   "metadata": {},
   "source": [
    "# Prediction"
   ]
  },
  {
   "cell_type": "code",
   "execution_count": 18,
   "metadata": {},
   "outputs": [
    {
     "data": {
      "text/plain": [
       "array([ True])"
      ]
     },
     "execution_count": 18,
     "metadata": {},
     "output_type": "execute_result"
    }
   ],
   "source": [
    "clf.predict(X[145].reshape(1, -1))"
   ]
  },
  {
   "cell_type": "markdown",
   "metadata": {},
   "source": [
    "# Performance Measuring"
   ]
  },
  {
   "cell_type": "code",
   "execution_count": 19,
   "metadata": {},
   "outputs": [],
   "source": [
    "from sklearn.model_selection import cross_val_score"
   ]
  },
  {
   "cell_type": "code",
   "execution_count": 20,
   "metadata": {},
   "outputs": [
    {
     "data": {
      "text/plain": [
       "array([0.53333333, 0.53932584, 0.46067416])"
      ]
     },
     "execution_count": 20,
     "metadata": {},
     "output_type": "execute_result"
    }
   ],
   "source": [
    "cross_val_score(clf, X_train, y_train_aroused, cv=3, scoring='accuracy')"
   ]
  },
  {
   "cell_type": "markdown",
   "metadata": {
    "colab_type": "text",
    "id": "edqy40nOYyVT"
   },
   "source": [
    "# Confusion Matrix"
   ]
  },
  {
   "cell_type": "code",
   "execution_count": 21,
   "metadata": {
    "colab": {},
    "colab_type": "code",
    "id": "qN0GqLeSYyVT"
   },
   "outputs": [],
   "source": [
    "from sklearn.model_selection import cross_val_predict"
   ]
  },
  {
   "cell_type": "code",
   "execution_count": 22,
   "metadata": {
    "colab": {},
    "colab_type": "code",
    "id": "oQkwoytjYyVW"
   },
   "outputs": [],
   "source": [
    "y_train_pred = cross_val_predict(clf, X_train, y_train_aroused, cv=3)"
   ]
  },
  {
   "cell_type": "code",
   "execution_count": 23,
   "metadata": {
    "colab": {},
    "colab_type": "code",
    "id": "xI6p2HvyYyVX"
   },
   "outputs": [],
   "source": [
    "from sklearn.metrics import confusion_matrix"
   ]
  },
  {
   "cell_type": "code",
   "execution_count": 24,
   "metadata": {
    "colab": {
     "base_uri": "https://localhost:8080/",
     "height": 51
    },
    "colab_type": "code",
    "executionInfo": {
     "elapsed": 158117,
     "status": "ok",
     "timestamp": 1570958325898,
     "user": {
      "displayName": "Anthony Ng",
      "photoUrl": "https://lh3.googleusercontent.com/a-/AAuE7mDCwHDw3XUA0T7h5JCQA3iBUS8Wbz1V-29O8pmP8g=s64",
      "userId": "06915612711739148186"
     },
     "user_tz": -480
    },
    "id": "O40Yjy7zYyVa",
    "outputId": "1688917f-effa-4f80-ff38-d3834d736474"
   },
   "outputs": [
    {
     "data": {
      "text/plain": [
       "array([[41, 83],\n",
       "       [48, 96]])"
      ]
     },
     "execution_count": 24,
     "metadata": {},
     "output_type": "execute_result"
    }
   ],
   "source": [
    "confusion_matrix(y_train_aroused, y_train_pred)"
   ]
  },
  {
   "cell_type": "code",
   "execution_count": 25,
   "metadata": {},
   "outputs": [
    {
     "data": {
      "text/html": [
       "<div>\n",
       "<style scoped>\n",
       "    .dataframe tbody tr th:only-of-type {\n",
       "        vertical-align: middle;\n",
       "    }\n",
       "\n",
       "    .dataframe tbody tr th {\n",
       "        vertical-align: top;\n",
       "    }\n",
       "\n",
       "    .dataframe thead tr th {\n",
       "        text-align: left;\n",
       "    }\n",
       "</style>\n",
       "<table border=\"1\" class=\"dataframe\">\n",
       "  <thead>\n",
       "    <tr>\n",
       "      <th></th>\n",
       "      <th></th>\n",
       "      <th colspan=\"2\" halign=\"left\">Prediction</th>\n",
       "    </tr>\n",
       "    <tr>\n",
       "      <th></th>\n",
       "      <th></th>\n",
       "      <th>Negative</th>\n",
       "      <th>Positive</th>\n",
       "    </tr>\n",
       "  </thead>\n",
       "  <tbody>\n",
       "    <tr>\n",
       "      <th rowspan=\"2\" valign=\"top\">Actual</th>\n",
       "      <th>Negative</th>\n",
       "      <td>41</td>\n",
       "      <td>83</td>\n",
       "    </tr>\n",
       "    <tr>\n",
       "      <th>Positive</th>\n",
       "      <td>48</td>\n",
       "      <td>96</td>\n",
       "    </tr>\n",
       "  </tbody>\n",
       "</table>\n",
       "</div>"
      ],
      "text/plain": [
       "                Prediction         \n",
       "                  Negative Positive\n",
       "Actual Negative         41       83\n",
       "       Positive         48       96"
      ]
     },
     "execution_count": 25,
     "metadata": {},
     "output_type": "execute_result"
    }
   ],
   "source": [
    "pd.DataFrame(confusion_matrix(y_train_aroused, y_train_pred),\n",
    "             columns=pd.MultiIndex.from_product([['Prediction'], [\"Negative\", \"Positive\"]]),\n",
    "             index=pd.MultiIndex.from_product([[\"Actual\"], [\"Negative\", \"Positive\"]]))"
   ]
  },
  {
   "cell_type": "code",
   "execution_count": 26,
   "metadata": {},
   "outputs": [],
   "source": [
    "from sklearn.metrics import precision_score, recall_score"
   ]
  },
  {
   "cell_type": "code",
   "execution_count": 27,
   "metadata": {},
   "outputs": [
    {
     "data": {
      "text/plain": [
       "0.5363128491620112"
      ]
     },
     "execution_count": 27,
     "metadata": {},
     "output_type": "execute_result"
    }
   ],
   "source": [
    "precision_score(y_train_aroused, y_train_pred)"
   ]
  },
  {
   "cell_type": "markdown",
   "metadata": {},
   "source": [
    "# Clustering"
   ]
  },
  {
   "cell_type": "markdown",
   "metadata": {},
   "source": [
    "## KMeans"
   ]
  },
  {
   "cell_type": "code",
   "execution_count": 28,
   "metadata": {},
   "outputs": [],
   "source": [
    "# 'MicroSiemens', 'HR', 'RR', 'HRV'"
   ]
  },
  {
   "cell_type": "code",
   "execution_count": 29,
   "metadata": {
    "colab": {},
    "colab_type": "code",
    "id": "-6Mt4gN6OgMM"
   },
   "outputs": [],
   "source": [
    "from sklearn.cluster import KMeans"
   ]
  },
  {
   "cell_type": "code",
   "execution_count": 30,
   "metadata": {},
   "outputs": [],
   "source": [
    "ms_hrv = X_train[:, [0, 1]]"
   ]
  },
  {
   "cell_type": "code",
   "execution_count": 31,
   "metadata": {
    "colab": {
     "base_uri": "https://localhost:8080/",
     "height": 68
    },
    "colab_type": "code",
    "executionInfo": {
     "elapsed": 1116,
     "status": "ok",
     "timestamp": 1571295084072,
     "user": {
      "displayName": "Anthony Ng",
      "photoUrl": "",
      "userId": "01122201020865534731"
     },
     "user_tz": -480
    },
    "id": "WGe55rQ2OgMP",
    "outputId": "18776f37-66d3-4640-de3a-535b6d9c69d4"
   },
   "outputs": [
    {
     "data": {
      "text/plain": [
       "KMeans(n_clusters=3)"
      ]
     },
     "execution_count": 31,
     "metadata": {},
     "output_type": "execute_result"
    }
   ],
   "source": [
    "kmeans = KMeans(n_clusters=3)\n",
    "kmeans.fit(ms_hrv)"
   ]
  },
  {
   "cell_type": "code",
   "execution_count": 32,
   "metadata": {
    "colab": {},
    "colab_type": "code",
    "id": "vlDuXdcaOgMT"
   },
   "outputs": [
    {
     "data": {
      "text/plain": [
       "array([2, 2, 2, 2, 2, 2, 0, 0, 0, 0, 0, 0, 2, 2, 2, 2, 2, 2, 0, 0, 0, 0,\n",
       "       0, 0, 0, 2, 2, 2, 2, 2, 2, 2, 2, 2, 0, 0, 0, 0, 0, 0, 0, 0, 0, 0,\n",
       "       0, 0, 0, 0, 0, 0, 0, 0, 0, 0, 0, 0, 0, 0, 0, 2, 2, 2, 2, 0, 0, 0,\n",
       "       0, 0, 2, 2, 2, 1, 1, 1, 2, 2, 2, 2, 2, 1, 1, 1, 1, 2, 2, 2, 2, 0,\n",
       "       2, 2, 2, 2, 2, 2, 0, 0, 0, 0, 0, 2, 2, 2, 2, 1, 1, 1, 1, 2, 2, 2,\n",
       "       2, 2, 0, 0, 2, 0, 0, 0, 2, 2, 1, 2, 0, 0, 0, 0, 0, 0, 0, 2, 1, 2,\n",
       "       2, 1, 2, 2, 2, 2, 2, 2, 2, 1, 1, 2, 0, 0, 0, 0, 2, 2, 2, 2, 1, 1,\n",
       "       2, 2, 1, 1, 1, 1, 1, 2, 0, 0, 2, 2, 2, 2, 2, 1, 1, 1, 1, 2, 2, 2,\n",
       "       2, 2, 2, 1, 1, 1, 1, 1, 1, 1, 1, 1, 2, 2, 1, 1, 2, 2, 2, 0, 0, 2,\n",
       "       2, 0, 0, 0, 2, 0, 2, 2, 0, 0, 0, 0, 2, 2, 0, 0, 0, 2, 2, 0, 0, 2,\n",
       "       1, 1, 1, 1, 1, 2, 1, 1, 2, 1, 1, 1, 1, 2, 0, 2, 2, 2, 1, 1, 1, 1,\n",
       "       2, 0, 0, 2, 1, 2, 2, 0, 2, 0, 0, 0, 0, 2, 2, 0, 0, 1, 1, 2, 2, 2,\n",
       "       1, 1, 1, 0], dtype=int32)"
      ]
     },
     "execution_count": 32,
     "metadata": {},
     "output_type": "execute_result"
    }
   ],
   "source": [
    "y_kmeans = kmeans.predict(ms_hrv)\n",
    "y_kmeans"
   ]
  },
  {
   "cell_type": "code",
   "execution_count": 33,
   "metadata": {},
   "outputs": [
    {
     "data": {
      "image/png": "[encoded data removed]",
      "text/plain": [
       "<Figure size 432x288 with 1 Axes>"
      ]
     },
     "metadata": {
      "needs_background": "light"
     },
     "output_type": "display_data"
    }
   ],
   "source": [
    "plt.scatter(ms_hrv[:, 0], ms_hrv[:, 1], c=y_kmeans, s=10, cmap='inferno')\n",
    "\n",
    "centers = kmeans.cluster_centers_\n",
    "plt.scatter(centers[:,0], centers[:,1], c='green', s=500, alpha=0.7);"
   ]
  },
  {
   "cell_type": "code",
   "execution_count": 34,
   "metadata": {},
   "outputs": [
    {
     "data": {
      "image/png": "[encoded data removed]",
      "text/plain": [
       "<Figure size 432x288 with 1 Axes>"
      ]
     },
     "metadata": {
      "needs_background": "light"
     },
     "output_type": "display_data"
    }
   ],
   "source": [
    "from mlxtend.plotting import plot_decision_regions\n",
    "plot_decision_regions(ms_hrv, y_kmeans, clf=kmeans);"
   ]
  },
  {
   "cell_type": "code",
   "execution_count": 35,
   "metadata": {
    "colab": {
     "base_uri": "https://localhost:8080/",
     "height": 34
    },
    "colab_type": "code",
    "executionInfo": {
     "elapsed": 1149,
     "status": "ok",
     "timestamp": 1571295173090,
     "user": {
      "displayName": "Anthony Ng",
      "photoUrl": "",
      "userId": "01122201020865534731"
     },
     "user_tz": -480
    },
    "id": "AaN8LxrTOgMc",
    "outputId": "e3c29033-84d9-4240-d2e7-839bf6368cc2"
   },
   "outputs": [
    {
     "data": {
      "text/plain": [
       "719.088179994093"
      ]
     },
     "execution_count": 35,
     "metadata": {},
     "output_type": "execute_result"
    }
   ],
   "source": [
    "kmeans.inertia_"
   ]
  },
  {
   "cell_type": "code",
   "execution_count": 36,
   "metadata": {
    "colab": {},
    "colab_type": "code",
    "id": "_pcWqfIFOgMe"
   },
   "outputs": [],
   "source": [
    "sse_ = []\n",
    "for k in range(1, 6):\n",
    "    kmeans = KMeans(n_clusters=k).fit(ms_hrv)\n",
    "    sse_.append([k, kmeans.inertia_])"
   ]
  },
  {
   "cell_type": "code",
   "execution_count": 37,
   "metadata": {
    "colab": {
     "base_uri": "https://localhost:8080/",
     "height": 274
    },
    "colab_type": "code",
    "executionInfo": {
     "elapsed": 1125,
     "status": "ok",
     "timestamp": 1571295205797,
     "user": {
      "displayName": "Anthony Ng",
      "photoUrl": "",
      "userId": "01122201020865534731"
     },
     "user_tz": -480
    },
    "id": "DBfp2QBxOgMf",
    "outputId": "5488f07a-78e9-42e7-aa88-29da17e8a8a5"
   },
   "outputs": [
    {
     "data": {
      "image/png": "[encoded data removed]",
      "text/plain": [
       "<Figure size 432x288 with 1 Axes>"
      ]
     },
     "metadata": {
      "needs_background": "light"
     },
     "output_type": "display_data"
    }
   ],
   "source": [
    "plt.plot(pd.DataFrame(sse_)[0], pd.DataFrame(sse_)[1]);"
   ]
  },
  {
   "cell_type": "code",
   "execution_count": null,
   "metadata": {},
   "outputs": [],
   "source": []
  }
 ],
 "metadata": {
  "kernelspec": {
   "display_name": "Python 3",
   "language": "python",
   "name": "python3"
  },
  "language_info": {
   "codemirror_mode": {
    "name": "ipython",
    "version": 3
   },
   "file_extension": ".py",
   "mimetype": "text/x-python",
   "name": "python",
   "nbconvert_exporter": "python",
   "pygments_lexer": "ipython3",
   "version": "3.8.3"
  }
 },
 "nbformat": 4,
 "nbformat_minor": 4
}
