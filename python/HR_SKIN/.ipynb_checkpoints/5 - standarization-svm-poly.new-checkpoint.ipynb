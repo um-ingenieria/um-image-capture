{
 "cells": [
  {
   "cell_type": "code",
   "execution_count": 1,
   "metadata": {},
   "outputs": [],
   "source": [
    "import numpy as np\n",
    "import pandas as pd\n",
    "import matplotlib.pyplot as plt\n",
    "%matplotlib inline\n",
    "import seaborn as sns\n",
    "import sklearn\n",
    "from sklearn import preprocessing\n",
    "import math\n",
    "from sklearn import preprocessing\n",
    "from sklearn.model_selection import cross_val_score, cross_val_predict\n",
    "from sklearn.metrics import accuracy_score, classification_report\n",
    "from sklearn.metrics import confusion_matrix, roc_auc_score\n",
    "from sklearn.model_selection import cross_val_score\n",
    "from sklearn.model_selection import cross_val_predict\n",
    "from sklearn.metrics import confusion_matrix\n",
    "from sklearn.metrics import precision_score, recall_score, f1_score\n",
    "from sklearn import svm\n",
    "from sklearn.model_selection import train_test_split\n",
    "from sklearn.metrics import confusion_matrix\n",
    "from sklearn.pipeline import Pipeline\n",
    "from sklearn.model_selection import train_test_split, GridSearchCV"
   ]
  },
  {
   "cell_type": "code",
   "execution_count": 2,
   "metadata": {},
   "outputs": [],
   "source": [
    "biometrics_df = pd.read_csv(\"../1_standarized_biometrics.csv\")\n",
    "biometrics_df.head()"
   ]
  },
  {
   "cell_type": "code",
   "execution_count": 7,
   "metadata": {},
   "outputs": [],
   "source": [
    "def print_score(clf, X_train, X_test, y_train, y_test, train=True):\n",
    "    '''\n",
    "    v0.1 Follow the scikit learn library format in terms of input\n",
    "    print the accuracy score, classification report and confusion matrix of classifier\n",
    "    '''\n",
    "    lb = preprocessing.LabelBinarizer()\n",
    "    lb.fit(y_train)\n",
    "    if train:\n",
    "        '''\n",
    "        training performance\n",
    "        '''\n",
    "        res = clf.predict(X_train)\n",
    "        print(\"Train Result:\\n\")\n",
    "        print(\"accuracy score: {0:.4f}\\n\".format(accuracy_score(y_train, \n",
    "                                                                res)))\n",
    "        print(\"Classification Report: \\n {}\\n\".format(classification_report(y_train, \n",
    "                                                                            res)))\n",
    "        print(\"Confusion Matrix: \\n {}\\n\".format(confusion_matrix(y_train, \n",
    "                                                                  res)))\n",
    "        \n",
    "        res = cross_val_score(clf, X_train, y_train, cv=10, scoring='accuracy')\n",
    "        print(\"Average Accuracy: \\t {0:.4f}\".format(np.mean(res)))\n",
    "        print(\"Accuracy SD: \\t\\t {0:.4f}\".format(np.std(res)))\n",
    "        \n",
    "    elif train==False:\n",
    "        '''\n",
    "        test performance\n",
    "        '''\n",
    "        res_test = clf.predict(X_test)\n",
    "        print(\"Test Result:\\n\")        \n",
    "        print(\"accuracy score: {0:.4f}\\n\".format(accuracy_score(y_test, \n",
    "                                                                res_test)))\n",
    "        print(\"Classification Report: \\n {}\\n\".format(classification_report(y_test, \n",
    "                                                                            res_test)))\n",
    "        print(\"Confusion Matrix: \\n {}\\n\".format(confusion_matrix(y_test, \n",
    "                                                                  res_test)))"
   ]
  },
  {
   "cell_type": "code",
   "execution_count": 9,
   "metadata": {},
   "outputs": [],
   "source": [
    "X = biometrics_df[['MicroSiemens', 'HR', 'HRV' ]].values\n",
    "y = biometrics_df['ArousalMean'].values"
   ]
  },
  {
   "cell_type": "code",
   "execution_count": 10,
   "metadata": {},
   "outputs": [],
   "source": [
    "X_train, X_test, y_train, y_test = train_test_split(X, y, test_size=0.2, shuffle=False, random_state=42)"
   ]
  },
  {
   "cell_type": "code",
   "execution_count": 11,
   "metadata": {},
   "outputs": [],
   "source": [
    "# Para poder usar un clasificador, los datos de la variable target deben ser discretos.\n",
    "#Los convertimos a True-False (Aroused-NotAroused) con el fin de poder entrear un clasificador binario\n",
    "def map_to_0_and_1(arousal):\n",
    "    return 0 if arousal < 5 else 1\n",
    "\n",
    "y_train_aroused = np.array(list(map(map_to_0_and_1, y_train)))\n",
    "y_test_aroused = np.array(list(map(map_to_0_and_1, y_test)))"
   ]
  },
  {
   "cell_type": "code",
   "execution_count": 12,
   "metadata": {},
   "outputs": [
    {
     "data": {
      "text/plain": [
       "SVC(kernel='poly')"
      ]
     },
     "execution_count": 12,
     "metadata": {},
     "output_type": "execute_result"
    }
   ],
   "source": [
    "# clf = svm.SVC(C=0.1, gamma=0.01, kernel='rbf') los valores que dio el grid search\n",
    "clf = svm.SVC(kernel='poly', degree=3)\n",
    "clf.fit(X_train, y_train_aroused)"
   ]
  },
  {
   "cell_type": "code",
   "execution_count": 13,
   "metadata": {},
   "outputs": [
    {
     "name": "stdout",
     "output_type": "stream",
     "text": [
      "Train Result:\n",
      "\n",
      "accuracy score: 0.7276\n",
      "\n",
      "Classification Report: \n",
      "               precision    recall  f1-score   support\n",
      "\n",
      "           0       0.73      0.99      0.84      1304\n",
      "           1       0.68      0.08      0.14       517\n",
      "\n",
      "    accuracy                           0.73      1821\n",
      "   macro avg       0.71      0.53      0.49      1821\n",
      "weighted avg       0.72      0.73      0.64      1821\n",
      "\n",
      "\n",
      "Confusion Matrix: \n",
      " [[1286   18]\n",
      " [ 478   39]]\n",
      "\n",
      "Average Accuracy: \t 0.7002\n",
      "Accuracy SD: \t\t 0.0282\n",
      "\n",
      "******************************\n",
      "\n",
      "Test Result:\n",
      "\n",
      "accuracy score: 0.5746\n",
      "\n",
      "Classification Report: \n",
      "               precision    recall  f1-score   support\n",
      "\n",
      "           0       0.58      0.97      0.72       263\n",
      "           1       0.47      0.04      0.08       193\n",
      "\n",
      "    accuracy                           0.57       456\n",
      "   macro avg       0.52      0.50      0.40       456\n",
      "weighted avg       0.53      0.57      0.45       456\n",
      "\n",
      "\n",
      "Confusion Matrix: \n",
      " [[254   9]\n",
      " [185   8]]\n",
      "\n"
     ]
    }
   ],
   "source": [
    "print_score(clf, X_train, X_test, y_train_aroused, y_test_aroused, train=True)\n",
    "print(\"\\n******************************\\n\")\n",
    "print_score(clf, X_train, X_test, y_train_aroused, y_test_aroused, train=False)"
   ]
  },
  {
   "cell_type": "code",
   "execution_count": 14,
   "metadata": {},
   "outputs": [],
   "source": [
    "# TRAIN cross validation\n",
    "# y_train_pred = cross_val_predict(clf, X_train, y_train_aroused, cv=3)\n",
    "# pd.DataFrame(confusion_matrix(y_train_aroused, y_train_pred),\n",
    "#              columns=pd.MultiIndex.from_product([['Prediction'], [\"Negative\", \"Positive\"]]),\n",
    "#              index=pd.MultiIndex.from_product([[\"Actual\"], [\"Negative\", \"Positive\"]]))\n",
    "\n",
    "# TEST cross validation\n",
    "# y_test_pred = cross_val_predict(clf, X_test, y_test_aroused, cv=3)\n",
    "# pd.DataFrame(confusion_matrix(y_test_aroused, y_test_pred),\n",
    "#              columns=pd.MultiIndex.from_product([['Prediction'], [\"Negative\", \"Positive\"]]),\n",
    "#              index=pd.MultiIndex.from_product([[\"Actual\"], [\"Negative\", \"Positive\"]]))"
   ]
  },
  {
   "cell_type": "markdown",
   "metadata": {},
   "source": [
    "# Grid Search"
   ]
  },
  {
   "cell_type": "code",
   "execution_count": 16,
   "metadata": {},
   "outputs": [],
   "source": [
    "pipeline = Pipeline([('clf', svm.SVC(kernel='poly'))])"
   ]
  },
  {
   "cell_type": "code",
   "execution_count": 17,
   "metadata": {},
   "outputs": [],
   "source": [
    "params = {'clf__C':(0.1, 0.5, 1, 2, 5, 10, 20), 'clf__gamma':(0.001, 0.01, 0.1, 0.25, 0.5, 0.75, 1), 'clf__degree': (3, 4, 5)}"
   ]
  },
  {
   "cell_type": "code",
   "execution_count": 18,
   "metadata": {},
   "outputs": [],
   "source": [
    "svm_grid_poly = GridSearchCV(pipeline, params, n_jobs=-1, cv=3, verbose=1, scoring='accuracy') "
   ]
  },
  {
   "cell_type": "code",
   "execution_count": 19,
   "metadata": {},
   "outputs": [
    {
     "name": "stdout",
     "output_type": "stream",
     "text": [
      "Fitting 3 folds for each of 147 candidates, totalling 441 fits\n"
     ]
    },
    {
     "name": "stderr",
     "output_type": "stream",
     "text": [
      "[Parallel(n_jobs=-1)]: Using backend LokyBackend with 12 concurrent workers.\n",
      "[Parallel(n_jobs=-1)]: Done  26 tasks      | elapsed:    1.6s\n",
      "[Parallel(n_jobs=-1)]: Done 229 tasks      | elapsed:   21.7s\n",
      "[Parallel(n_jobs=-1)]: Done 441 out of 441 | elapsed: 21.5min finished\n"
     ]
    },
    {
     "data": {
      "text/plain": [
       "GridSearchCV(cv=3, estimator=Pipeline(steps=[('clf', SVC(kernel='poly'))]),\n",
       "             n_jobs=-1,\n",
       "             param_grid={'clf__C': (0.1, 0.5, 1, 2, 5, 10, 20),\n",
       "                         'clf__degree': (3, 4, 5),\n",
       "                         'clf__gamma': (0.001, 0.01, 0.1, 0.25, 0.5, 0.75, 1)},\n",
       "             scoring='accuracy', verbose=1)"
      ]
     },
     "execution_count": 19,
     "metadata": {},
     "output_type": "execute_result"
    }
   ],
   "source": [
    "svm_grid_poly.fit(X_train, y_train_aroused)"
   ]
  },
  {
   "cell_type": "code",
   "execution_count": 20,
   "metadata": {},
   "outputs": [
    {
     "data": {
      "text/plain": [
       "0.71609006040637"
      ]
     },
     "execution_count": 20,
     "metadata": {},
     "output_type": "execute_result"
    }
   ],
   "source": [
    "svm_grid_poly.best_score_"
   ]
  },
  {
   "cell_type": "code",
   "execution_count": 21,
   "metadata": {},
   "outputs": [],
   "source": [
    "best = svm_grid_poly.best_estimator_.get_params() "
   ]
  },
  {
   "cell_type": "code",
   "execution_count": 22,
   "metadata": {},
   "outputs": [
    {
     "name": "stdout",
     "output_type": "stream",
     "text": [
      "\tclf__C: \t 0.10\n",
      "\tclf__degree: \t 3.00\n",
      "\tclf__gamma: \t 0.00\n"
     ]
    }
   ],
   "source": [
    "for k in sorted(params.keys()): \n",
    "    print('\\t{0}: \\t {1:.2f}'.format(k, best[k]))"
   ]
  },
  {
   "cell_type": "code",
   "execution_count": 23,
   "metadata": {},
   "outputs": [],
   "source": [
    "# y_test_pred_grid = svm_grid_poly.predict(X_test)"
   ]
  },
  {
   "cell_type": "code",
   "execution_count": 24,
   "metadata": {},
   "outputs": [
    {
     "name": "stdout",
     "output_type": "stream",
     "text": [
      "Train Result:\n",
      "\n",
      "accuracy score: 0.7161\n",
      "\n",
      "Classification Report: \n",
      "               precision    recall  f1-score   support\n",
      "\n",
      "           0       0.72      1.00      0.83      1304\n",
      "           1       0.00      0.00      0.00       517\n",
      "\n",
      "    accuracy                           0.72      1821\n",
      "   macro avg       0.36      0.50      0.42      1821\n",
      "weighted avg       0.51      0.72      0.60      1821\n",
      "\n",
      "\n",
      "Confusion Matrix: \n",
      " [[1304    0]\n",
      " [ 517    0]]\n",
      "\n",
      "Fitting 3 folds for each of 147 candidates, totalling 441 fits\n"
     ]
    },
    {
     "name": "stderr",
     "output_type": "stream",
     "text": [
      "/Users/s.gonzalez/opt/anaconda3/lib/python3.8/site-packages/sklearn/metrics/_classification.py:1221: UndefinedMetricWarning: Precision and F-score are ill-defined and being set to 0.0 in labels with no predicted samples. Use `zero_division` parameter to control this behavior.\n",
      "  _warn_prf(average, modifier, msg_start, len(result))\n",
      "[Parallel(n_jobs=-1)]: Using backend LokyBackend with 12 concurrent workers.\n",
      "/Users/s.gonzalez/opt/anaconda3/lib/python3.8/site-packages/sklearn/model_selection/_validation.py:548: FitFailedWarning: Estimator fit failed. The score on this train-test partition for these parameters will be set to nan. Details: \n",
      "Traceback (most recent call last):\n",
      "  File \"/Users/s.gonzalez/opt/anaconda3/lib/python3.8/site-packages/sklearn/model_selection/_validation.py\", line 531, in _fit_and_score\n",
      "    estimator.fit(X_train, y_train, **fit_params)\n",
      "  File \"/Users/s.gonzalez/opt/anaconda3/lib/python3.8/site-packages/sklearn/utils/validation.py\", line 73, in inner_f\n",
      "    return f(**kwargs)\n",
      "  File \"/Users/s.gonzalez/opt/anaconda3/lib/python3.8/site-packages/sklearn/model_selection/_search.py\", line 736, in fit\n",
      "    self._run_search(evaluate_candidates)\n",
      "  File \"/Users/s.gonzalez/opt/anaconda3/lib/python3.8/site-packages/sklearn/model_selection/_search.py\", line 1188, in _run_search\n",
      "    evaluate_candidates(ParameterGrid(self.param_grid))\n",
      "  File \"/Users/s.gonzalez/opt/anaconda3/lib/python3.8/site-packages/sklearn/model_selection/_search.py\", line 708, in evaluate_candidates\n",
      "    out = parallel(delayed(_fit_and_score)(clone(base_estimator),\n",
      "  File \"/Users/s.gonzalez/opt/anaconda3/lib/python3.8/site-packages/joblib/parallel.py\", line 1042, in __call__\n",
      "    self.retrieve()\n",
      "  File \"/Users/s.gonzalez/opt/anaconda3/lib/python3.8/site-packages/joblib/parallel.py\", line 921, in retrieve\n",
      "    self._output.extend(job.get(timeout=self.timeout))\n",
      "  File \"/Users/s.gonzalez/opt/anaconda3/lib/python3.8/site-packages/joblib/_parallel_backends.py\", line 542, in wrap_future_result\n",
      "    return future.result(timeout=timeout)\n",
      "  File \"/Users/s.gonzalez/opt/anaconda3/lib/python3.8/concurrent/futures/_base.py\", line 439, in result\n",
      "    return self.__get_result()\n",
      "  File \"/Users/s.gonzalez/opt/anaconda3/lib/python3.8/concurrent/futures/_base.py\", line 388, in __get_result\n",
      "    raise self._exception\n",
      "joblib.externals.loky.process_executor.TerminatedWorkerError: A worker process managed by the executor was unexpectedly terminated. This could be caused by a segmentation fault while calling the function or by an excessive memory usage causing the Operating System to kill the worker.\n",
      "\n",
      "The exit codes of the workers are {SIGABRT(-6), SIGABRT(-6), SIGABRT(-6), SIGABRT(-6), SIGABRT(-6)}\n",
      "\n",
      "  warnings.warn(\"Estimator fit failed. The score on this train-test\"\n",
      "[Parallel(n_jobs=-1)]: Using backend LokyBackend with 12 concurrent workers.\n"
     ]
    },
    {
     "name": "stdout",
     "output_type": "stream",
     "text": [
      "Fitting 3 folds for each of 147 candidates, totalling 441 fits\n",
      "Fitting 3 folds for each of 147 candidates, totalling 441 fits\n"
     ]
    },
    {
     "name": "stderr",
     "output_type": "stream",
     "text": [
      "/Users/s.gonzalez/opt/anaconda3/lib/python3.8/site-packages/sklearn/model_selection/_validation.py:548: FitFailedWarning: Estimator fit failed. The score on this train-test partition for these parameters will be set to nan. Details: \n",
      "Traceback (most recent call last):\n",
      "  File \"/Users/s.gonzalez/opt/anaconda3/lib/python3.8/site-packages/sklearn/model_selection/_validation.py\", line 531, in _fit_and_score\n",
      "    estimator.fit(X_train, y_train, **fit_params)\n",
      "  File \"/Users/s.gonzalez/opt/anaconda3/lib/python3.8/site-packages/sklearn/utils/validation.py\", line 73, in inner_f\n",
      "    return f(**kwargs)\n",
      "  File \"/Users/s.gonzalez/opt/anaconda3/lib/python3.8/site-packages/sklearn/model_selection/_search.py\", line 736, in fit\n",
      "    self._run_search(evaluate_candidates)\n",
      "  File \"/Users/s.gonzalez/opt/anaconda3/lib/python3.8/site-packages/sklearn/model_selection/_search.py\", line 1188, in _run_search\n",
      "    evaluate_candidates(ParameterGrid(self.param_grid))\n",
      "  File \"/Users/s.gonzalez/opt/anaconda3/lib/python3.8/site-packages/sklearn/model_selection/_search.py\", line 708, in evaluate_candidates\n",
      "    out = parallel(delayed(_fit_and_score)(clone(base_estimator),\n",
      "  File \"/Users/s.gonzalez/opt/anaconda3/lib/python3.8/site-packages/joblib/parallel.py\", line 1042, in __call__\n",
      "    self.retrieve()\n",
      "  File \"/Users/s.gonzalez/opt/anaconda3/lib/python3.8/site-packages/joblib/parallel.py\", line 921, in retrieve\n",
      "    self._output.extend(job.get(timeout=self.timeout))\n",
      "  File \"/Users/s.gonzalez/opt/anaconda3/lib/python3.8/site-packages/joblib/_parallel_backends.py\", line 542, in wrap_future_result\n",
      "    return future.result(timeout=timeout)\n",
      "  File \"/Users/s.gonzalez/opt/anaconda3/lib/python3.8/concurrent/futures/_base.py\", line 439, in result\n",
      "    return self.__get_result()\n",
      "  File \"/Users/s.gonzalez/opt/anaconda3/lib/python3.8/concurrent/futures/_base.py\", line 388, in __get_result\n",
      "    raise self._exception\n",
      "joblib.externals.loky.process_executor.TerminatedWorkerError: A worker process managed by the executor was unexpectedly terminated. This could be caused by a segmentation fault while calling the function or by an excessive memory usage causing the Operating System to kill the worker.\n",
      "\n",
      "The exit codes of the workers are {SIGABRT(-6), SIGABRT(-6), SIGABRT(-6), SIGABRT(-6), SIGABRT(-6), SIGABRT(-6), SIGABRT(-6), SIGABRT(-6), SIGABRT(-6), SIGABRT(-6), SIGABRT(-6), SIGABRT(-6)}\n",
      "\n",
      "  warnings.warn(\"Estimator fit failed. The score on this train-test\"\n",
      "[Parallel(n_jobs=-1)]: Using backend LokyBackend with 12 concurrent workers.\n"
     ]
    },
    {
     "name": "stdout",
     "output_type": "stream",
     "text": [
      "Fitting 3 folds for each of 147 candidates, totalling 441 fits\n"
     ]
    },
    {
     "name": "stderr",
     "output_type": "stream",
     "text": [
      "/Users/s.gonzalez/opt/anaconda3/lib/python3.8/site-packages/sklearn/model_selection/_validation.py:548: FitFailedWarning: Estimator fit failed. The score on this train-test partition for these parameters will be set to nan. Details: \n",
      "Traceback (most recent call last):\n",
      "  File \"/Users/s.gonzalez/opt/anaconda3/lib/python3.8/site-packages/sklearn/model_selection/_validation.py\", line 531, in _fit_and_score\n",
      "    estimator.fit(X_train, y_train, **fit_params)\n",
      "  File \"/Users/s.gonzalez/opt/anaconda3/lib/python3.8/site-packages/sklearn/utils/validation.py\", line 73, in inner_f\n",
      "    return f(**kwargs)\n",
      "  File \"/Users/s.gonzalez/opt/anaconda3/lib/python3.8/site-packages/sklearn/model_selection/_search.py\", line 736, in fit\n",
      "    self._run_search(evaluate_candidates)\n",
      "  File \"/Users/s.gonzalez/opt/anaconda3/lib/python3.8/site-packages/sklearn/model_selection/_search.py\", line 1188, in _run_search\n",
      "    evaluate_candidates(ParameterGrid(self.param_grid))\n",
      "  File \"/Users/s.gonzalez/opt/anaconda3/lib/python3.8/site-packages/sklearn/model_selection/_search.py\", line 708, in evaluate_candidates\n",
      "    out = parallel(delayed(_fit_and_score)(clone(base_estimator),\n",
      "  File \"/Users/s.gonzalez/opt/anaconda3/lib/python3.8/site-packages/joblib/parallel.py\", line 1042, in __call__\n",
      "    self.retrieve()\n",
      "  File \"/Users/s.gonzalez/opt/anaconda3/lib/python3.8/site-packages/joblib/parallel.py\", line 921, in retrieve\n",
      "    self._output.extend(job.get(timeout=self.timeout))\n",
      "  File \"/Users/s.gonzalez/opt/anaconda3/lib/python3.8/site-packages/joblib/_parallel_backends.py\", line 542, in wrap_future_result\n",
      "    return future.result(timeout=timeout)\n",
      "  File \"/Users/s.gonzalez/opt/anaconda3/lib/python3.8/concurrent/futures/_base.py\", line 439, in result\n",
      "    return self.__get_result()\n",
      "  File \"/Users/s.gonzalez/opt/anaconda3/lib/python3.8/concurrent/futures/_base.py\", line 388, in __get_result\n",
      "    raise self._exception\n",
      "joblib.externals.loky.process_executor.TerminatedWorkerError: A worker process managed by the executor was unexpectedly terminated. This could be caused by a segmentation fault while calling the function or by an excessive memory usage causing the Operating System to kill the worker.\n",
      "\n",
      "The exit codes of the workers are {SIGABRT(-6), SIGABRT(-6), SIGABRT(-6), SIGABRT(-6), SIGABRT(-6), SIGABRT(-6), SIGABRT(-6), SIGABRT(-6), SIGABRT(-6), SIGABRT(-6), SIGABRT(-6), SIGABRT(-6)}\n",
      "\n",
      "  warnings.warn(\"Estimator fit failed. The score on this train-test\"\n",
      "[Parallel(n_jobs=-1)]: Using backend LokyBackend with 12 concurrent workers.\n",
      "exception calling callback for <Future at 0x7ff3c71d9100 state=finished raised TerminatedWorkerError>\n",
      "Traceback (most recent call last):\n",
      "  File \"/Users/s.gonzalez/opt/anaconda3/lib/python3.8/site-packages/joblib/externals/loky/_base.py\", line 625, in _invoke_callbacks\n",
      "    callback(self)\n",
      "  File \"/Users/s.gonzalez/opt/anaconda3/lib/python3.8/site-packages/joblib/parallel.py\", line 347, in __call__\n",
      "    self.parallel.dispatch_next()\n",
      "  File \"/Users/s.gonzalez/opt/anaconda3/lib/python3.8/site-packages/joblib/parallel.py\", line 780, in dispatch_next\n",
      "    if not self.dispatch_one_batch(self._original_iterator):\n",
      "  File \"/Users/s.gonzalez/opt/anaconda3/lib/python3.8/site-packages/joblib/parallel.py\", line 847, in dispatch_one_batch\n",
      "    self._dispatch(tasks)\n",
      "  File \"/Users/s.gonzalez/opt/anaconda3/lib/python3.8/site-packages/joblib/parallel.py\", line 765, in _dispatch\n",
      "    job = self._backend.apply_async(batch, callback=cb)\n",
      "  File \"/Users/s.gonzalez/opt/anaconda3/lib/python3.8/site-packages/joblib/_parallel_backends.py\", line 531, in apply_async\n",
      "    future = self._workers.submit(SafeFunction(func))\n",
      "  File \"/Users/s.gonzalez/opt/anaconda3/lib/python3.8/site-packages/joblib/externals/loky/reusable_executor.py\", line 177, in submit\n",
      "    return super(_ReusablePoolExecutor, self).submit(\n",
      "  File \"/Users/s.gonzalez/opt/anaconda3/lib/python3.8/site-packages/joblib/externals/loky/process_executor.py\", line 1102, in submit\n",
      "    raise self._flags.broken\n",
      "joblib.externals.loky.process_executor.TerminatedWorkerError: A worker process managed by the executor was unexpectedly terminated. This could be caused by a segmentation fault while calling the function or by an excessive memory usage causing the Operating System to kill the worker.\n",
      "\n",
      "The exit codes of the workers are {SIGABRT(-6), SIGABRT(-6), SIGABRT(-6), SIGABRT(-6), SIGABRT(-6), SIGABRT(-6), SIGABRT(-6), SIGABRT(-6), SIGABRT(-6), SIGABRT(-6), SIGABRT(-6), SIGABRT(-6)}\n"
     ]
    },
    {
     "name": "stdout",
     "output_type": "stream",
     "text": [
      "Fitting 3 folds for each of 147 candidates, totalling 441 fits\n"
     ]
    },
    {
     "name": "stderr",
     "output_type": "stream",
     "text": [
      "/Users/s.gonzalez/opt/anaconda3/lib/python3.8/site-packages/sklearn/model_selection/_validation.py:548: FitFailedWarning: Estimator fit failed. The score on this train-test partition for these parameters will be set to nan. Details: \n",
      "Traceback (most recent call last):\n",
      "  File \"/Users/s.gonzalez/opt/anaconda3/lib/python3.8/site-packages/sklearn/model_selection/_validation.py\", line 531, in _fit_and_score\n",
      "    estimator.fit(X_train, y_train, **fit_params)\n",
      "  File \"/Users/s.gonzalez/opt/anaconda3/lib/python3.8/site-packages/sklearn/utils/validation.py\", line 73, in inner_f\n",
      "    return f(**kwargs)\n",
      "  File \"/Users/s.gonzalez/opt/anaconda3/lib/python3.8/site-packages/sklearn/model_selection/_search.py\", line 736, in fit\n",
      "    self._run_search(evaluate_candidates)\n",
      "  File \"/Users/s.gonzalez/opt/anaconda3/lib/python3.8/site-packages/sklearn/model_selection/_search.py\", line 1188, in _run_search\n",
      "    evaluate_candidates(ParameterGrid(self.param_grid))\n",
      "  File \"/Users/s.gonzalez/opt/anaconda3/lib/python3.8/site-packages/sklearn/model_selection/_search.py\", line 708, in evaluate_candidates\n",
      "    out = parallel(delayed(_fit_and_score)(clone(base_estimator),\n",
      "  File \"/Users/s.gonzalez/opt/anaconda3/lib/python3.8/site-packages/joblib/parallel.py\", line 1042, in __call__\n",
      "    self.retrieve()\n",
      "  File \"/Users/s.gonzalez/opt/anaconda3/lib/python3.8/site-packages/joblib/parallel.py\", line 921, in retrieve\n",
      "    self._output.extend(job.get(timeout=self.timeout))\n",
      "  File \"/Users/s.gonzalez/opt/anaconda3/lib/python3.8/site-packages/joblib/_parallel_backends.py\", line 542, in wrap_future_result\n",
      "    return future.result(timeout=timeout)\n",
      "  File \"/Users/s.gonzalez/opt/anaconda3/lib/python3.8/concurrent/futures/_base.py\", line 439, in result\n",
      "    return self.__get_result()\n",
      "  File \"/Users/s.gonzalez/opt/anaconda3/lib/python3.8/concurrent/futures/_base.py\", line 388, in __get_result\n",
      "    raise self._exception\n",
      "  File \"/Users/s.gonzalez/opt/anaconda3/lib/python3.8/site-packages/joblib/externals/loky/_base.py\", line 625, in _invoke_callbacks\n",
      "    callback(self)\n",
      "  File \"/Users/s.gonzalez/opt/anaconda3/lib/python3.8/site-packages/joblib/parallel.py\", line 347, in __call__\n",
      "    self.parallel.dispatch_next()\n",
      "  File \"/Users/s.gonzalez/opt/anaconda3/lib/python3.8/site-packages/joblib/parallel.py\", line 780, in dispatch_next\n",
      "    if not self.dispatch_one_batch(self._original_iterator):\n",
      "  File \"/Users/s.gonzalez/opt/anaconda3/lib/python3.8/site-packages/joblib/parallel.py\", line 847, in dispatch_one_batch\n",
      "    self._dispatch(tasks)\n",
      "  File \"/Users/s.gonzalez/opt/anaconda3/lib/python3.8/site-packages/joblib/parallel.py\", line 765, in _dispatch\n",
      "    job = self._backend.apply_async(batch, callback=cb)\n",
      "  File \"/Users/s.gonzalez/opt/anaconda3/lib/python3.8/site-packages/joblib/_parallel_backends.py\", line 531, in apply_async\n",
      "    future = self._workers.submit(SafeFunction(func))\n",
      "  File \"/Users/s.gonzalez/opt/anaconda3/lib/python3.8/site-packages/joblib/externals/loky/reusable_executor.py\", line 177, in submit\n",
      "    return super(_ReusablePoolExecutor, self).submit(\n",
      "  File \"/Users/s.gonzalez/opt/anaconda3/lib/python3.8/site-packages/joblib/externals/loky/process_executor.py\", line 1102, in submit\n",
      "    raise self._flags.broken\n",
      "joblib.externals.loky.process_executor.TerminatedWorkerError: A worker process managed by the executor was unexpectedly terminated. This could be caused by a segmentation fault while calling the function or by an excessive memory usage causing the Operating System to kill the worker.\n",
      "\n",
      "The exit codes of the workers are {SIGABRT(-6), SIGABRT(-6), SIGABRT(-6), SIGABRT(-6), SIGABRT(-6), SIGABRT(-6), SIGABRT(-6), SIGABRT(-6), SIGABRT(-6), SIGABRT(-6), SIGABRT(-6), SIGABRT(-6)}\n",
      "\n",
      "  warnings.warn(\"Estimator fit failed. The score on this train-test\"\n",
      "[Parallel(n_jobs=-1)]: Using backend LokyBackend with 12 concurrent workers.\n"
     ]
    },
    {
     "name": "stdout",
     "output_type": "stream",
     "text": [
      "Fitting 3 folds for each of 147 candidates, totalling 441 fits\n"
     ]
    },
    {
     "name": "stderr",
     "output_type": "stream",
     "text": [
      "/Users/s.gonzalez/opt/anaconda3/lib/python3.8/site-packages/sklearn/model_selection/_validation.py:548: FitFailedWarning: Estimator fit failed. The score on this train-test partition for these parameters will be set to nan. Details: \n",
      "Traceback (most recent call last):\n",
      "  File \"/Users/s.gonzalez/opt/anaconda3/lib/python3.8/site-packages/sklearn/model_selection/_validation.py\", line 531, in _fit_and_score\n",
      "    estimator.fit(X_train, y_train, **fit_params)\n",
      "  File \"/Users/s.gonzalez/opt/anaconda3/lib/python3.8/site-packages/sklearn/utils/validation.py\", line 73, in inner_f\n",
      "    return f(**kwargs)\n",
      "  File \"/Users/s.gonzalez/opt/anaconda3/lib/python3.8/site-packages/sklearn/model_selection/_search.py\", line 736, in fit\n",
      "    self._run_search(evaluate_candidates)\n",
      "  File \"/Users/s.gonzalez/opt/anaconda3/lib/python3.8/site-packages/sklearn/model_selection/_search.py\", line 1188, in _run_search\n",
      "    evaluate_candidates(ParameterGrid(self.param_grid))\n",
      "  File \"/Users/s.gonzalez/opt/anaconda3/lib/python3.8/site-packages/sklearn/model_selection/_search.py\", line 708, in evaluate_candidates\n",
      "    out = parallel(delayed(_fit_and_score)(clone(base_estimator),\n",
      "  File \"/Users/s.gonzalez/opt/anaconda3/lib/python3.8/site-packages/joblib/parallel.py\", line 1042, in __call__\n",
      "    self.retrieve()\n",
      "  File \"/Users/s.gonzalez/opt/anaconda3/lib/python3.8/site-packages/joblib/parallel.py\", line 921, in retrieve\n",
      "    self._output.extend(job.get(timeout=self.timeout))\n",
      "  File \"/Users/s.gonzalez/opt/anaconda3/lib/python3.8/site-packages/joblib/_parallel_backends.py\", line 542, in wrap_future_result\n",
      "    return future.result(timeout=timeout)\n",
      "  File \"/Users/s.gonzalez/opt/anaconda3/lib/python3.8/concurrent/futures/_base.py\", line 439, in result\n",
      "    return self.__get_result()\n",
      "  File \"/Users/s.gonzalez/opt/anaconda3/lib/python3.8/concurrent/futures/_base.py\", line 388, in __get_result\n",
      "    raise self._exception\n",
      "joblib.externals.loky.process_executor.TerminatedWorkerError: A worker process managed by the executor was unexpectedly terminated. This could be caused by a segmentation fault while calling the function or by an excessive memory usage causing the Operating System to kill the worker.\n",
      "\n",
      "The exit codes of the workers are {SIGABRT(-6), SIGABRT(-6), SIGABRT(-6), SIGABRT(-6), SIGABRT(-6), SIGABRT(-6), SIGABRT(-6), SIGABRT(-6), SIGABRT(-6), SIGABRT(-6), SIGABRT(-6), SIGABRT(-6)}\n",
      "\n",
      "  warnings.warn(\"Estimator fit failed. The score on this train-test\"\n",
      "[Parallel(n_jobs=-1)]: Using backend LokyBackend with 12 concurrent workers.\n",
      "/Users/s.gonzalez/opt/anaconda3/lib/python3.8/site-packages/sklearn/model_selection/_validation.py:548: FitFailedWarning: Estimator fit failed. The score on this train-test partition for these parameters will be set to nan. Details: \n",
      "Traceback (most recent call last):\n",
      "  File \"/Users/s.gonzalez/opt/anaconda3/lib/python3.8/site-packages/sklearn/model_selection/_validation.py\", line 531, in _fit_and_score\n",
      "    estimator.fit(X_train, y_train, **fit_params)\n",
      "  File \"/Users/s.gonzalez/opt/anaconda3/lib/python3.8/site-packages/sklearn/utils/validation.py\", line 73, in inner_f\n",
      "    return f(**kwargs)\n",
      "  File \"/Users/s.gonzalez/opt/anaconda3/lib/python3.8/site-packages/sklearn/model_selection/_search.py\", line 736, in fit\n",
      "    self._run_search(evaluate_candidates)\n",
      "  File \"/Users/s.gonzalez/opt/anaconda3/lib/python3.8/site-packages/sklearn/model_selection/_search.py\", line 1188, in _run_search\n",
      "    evaluate_candidates(ParameterGrid(self.param_grid))\n",
      "  File \"/Users/s.gonzalez/opt/anaconda3/lib/python3.8/site-packages/sklearn/model_selection/_search.py\", line 708, in evaluate_candidates\n",
      "    out = parallel(delayed(_fit_and_score)(clone(base_estimator),\n",
      "  File \"/Users/s.gonzalez/opt/anaconda3/lib/python3.8/site-packages/joblib/parallel.py\", line 1042, in __call__\n",
      "    self.retrieve()\n",
      "  File \"/Users/s.gonzalez/opt/anaconda3/lib/python3.8/site-packages/joblib/parallel.py\", line 921, in retrieve\n",
      "    self._output.extend(job.get(timeout=self.timeout))\n",
      "  File \"/Users/s.gonzalez/opt/anaconda3/lib/python3.8/site-packages/joblib/_parallel_backends.py\", line 542, in wrap_future_result\n",
      "    return future.result(timeout=timeout)\n",
      "  File \"/Users/s.gonzalez/opt/anaconda3/lib/python3.8/concurrent/futures/_base.py\", line 439, in result\n",
      "    return self.__get_result()\n",
      "  File \"/Users/s.gonzalez/opt/anaconda3/lib/python3.8/concurrent/futures/_base.py\", line 388, in __get_result\n",
      "    raise self._exception\n",
      "joblib.externals.loky.process_executor.TerminatedWorkerError: A worker process managed by the executor was unexpectedly terminated. This could be caused by a segmentation fault while calling the function or by an excessive memory usage causing the Operating System to kill the worker.\n",
      "\n",
      "The exit codes of the workers are {SIGABRT(-6), SIGABRT(-6), SIGABRT(-6), SIGABRT(-6), SIGABRT(-6), SIGABRT(-6), SIGABRT(-6), SIGABRT(-6), SIGABRT(-6), SIGABRT(-6), SIGABRT(-6), SIGABRT(-6)}\n",
      "\n",
      "  warnings.warn(\"Estimator fit failed. The score on this train-test\"\n"
     ]
    },
    {
     "name": "stdout",
     "output_type": "stream",
     "text": [
      "Fitting 3 folds for each of 147 candidates, totalling 441 fits\n"
     ]
    },
    {
     "name": "stderr",
     "output_type": "stream",
     "text": [
      "[Parallel(n_jobs=-1)]: Using backend LokyBackend with 12 concurrent workers.\n",
      "/Users/s.gonzalez/opt/anaconda3/lib/python3.8/site-packages/sklearn/model_selection/_validation.py:548: FitFailedWarning: Estimator fit failed. The score on this train-test partition for these parameters will be set to nan. Details: \n",
      "Traceback (most recent call last):\n",
      "  File \"/Users/s.gonzalez/opt/anaconda3/lib/python3.8/site-packages/sklearn/model_selection/_validation.py\", line 531, in _fit_and_score\n",
      "    estimator.fit(X_train, y_train, **fit_params)\n",
      "  File \"/Users/s.gonzalez/opt/anaconda3/lib/python3.8/site-packages/sklearn/utils/validation.py\", line 73, in inner_f\n",
      "    return f(**kwargs)\n",
      "  File \"/Users/s.gonzalez/opt/anaconda3/lib/python3.8/site-packages/sklearn/model_selection/_search.py\", line 736, in fit\n",
      "    self._run_search(evaluate_candidates)\n",
      "  File \"/Users/s.gonzalez/opt/anaconda3/lib/python3.8/site-packages/sklearn/model_selection/_search.py\", line 1188, in _run_search\n",
      "    evaluate_candidates(ParameterGrid(self.param_grid))\n",
      "  File \"/Users/s.gonzalez/opt/anaconda3/lib/python3.8/site-packages/sklearn/model_selection/_search.py\", line 708, in evaluate_candidates\n",
      "    out = parallel(delayed(_fit_and_score)(clone(base_estimator),\n",
      "  File \"/Users/s.gonzalez/opt/anaconda3/lib/python3.8/site-packages/joblib/parallel.py\", line 1042, in __call__\n",
      "    self.retrieve()\n",
      "  File \"/Users/s.gonzalez/opt/anaconda3/lib/python3.8/site-packages/joblib/parallel.py\", line 921, in retrieve\n",
      "    self._output.extend(job.get(timeout=self.timeout))\n",
      "  File \"/Users/s.gonzalez/opt/anaconda3/lib/python3.8/site-packages/joblib/_parallel_backends.py\", line 542, in wrap_future_result\n",
      "    return future.result(timeout=timeout)\n",
      "  File \"/Users/s.gonzalez/opt/anaconda3/lib/python3.8/concurrent/futures/_base.py\", line 439, in result\n",
      "    return self.__get_result()\n",
      "  File \"/Users/s.gonzalez/opt/anaconda3/lib/python3.8/concurrent/futures/_base.py\", line 388, in __get_result\n",
      "    raise self._exception\n",
      "joblib.externals.loky.process_executor.TerminatedWorkerError: A worker process managed by the executor was unexpectedly terminated. This could be caused by a segmentation fault while calling the function or by an excessive memory usage causing the Operating System to kill the worker.\n",
      "\n",
      "The exit codes of the workers are {SIGABRT(-6), SIGABRT(-6), SIGABRT(-6), SIGABRT(-6), SIGABRT(-6), SIGABRT(-6), SIGABRT(-6), SIGABRT(-6), SIGABRT(-6), SIGABRT(-6), SIGABRT(-6), SIGABRT(-6)}\n",
      "\n",
      "  warnings.warn(\"Estimator fit failed. The score on this train-test\"\n"
     ]
    },
    {
     "name": "stdout",
     "output_type": "stream",
     "text": [
      "Fitting 3 folds for each of 147 candidates, totalling 441 fits\n"
     ]
    },
    {
     "name": "stderr",
     "output_type": "stream",
     "text": [
      "[Parallel(n_jobs=-1)]: Using backend LokyBackend with 12 concurrent workers.\n",
      "exception calling callback for <Future at 0x7ff3c728f730 state=finished raised TerminatedWorkerError>\n",
      "Traceback (most recent call last):\n",
      "  File \"/Users/s.gonzalez/opt/anaconda3/lib/python3.8/site-packages/joblib/externals/loky/_base.py\", line 625, in _invoke_callbacks\n",
      "    callback(self)\n",
      "  File \"/Users/s.gonzalez/opt/anaconda3/lib/python3.8/site-packages/joblib/parallel.py\", line 347, in __call__\n",
      "    self.parallel.dispatch_next()\n",
      "  File \"/Users/s.gonzalez/opt/anaconda3/lib/python3.8/site-packages/joblib/parallel.py\", line 780, in dispatch_next\n",
      "    if not self.dispatch_one_batch(self._original_iterator):\n",
      "  File \"/Users/s.gonzalez/opt/anaconda3/lib/python3.8/site-packages/joblib/parallel.py\", line 847, in dispatch_one_batch\n",
      "    self._dispatch(tasks)\n",
      "  File \"/Users/s.gonzalez/opt/anaconda3/lib/python3.8/site-packages/joblib/parallel.py\", line 765, in _dispatch\n",
      "    job = self._backend.apply_async(batch, callback=cb)\n",
      "  File \"/Users/s.gonzalez/opt/anaconda3/lib/python3.8/site-packages/joblib/_parallel_backends.py\", line 531, in apply_async\n",
      "    future = self._workers.submit(SafeFunction(func))\n",
      "  File \"/Users/s.gonzalez/opt/anaconda3/lib/python3.8/site-packages/joblib/externals/loky/reusable_executor.py\", line 177, in submit\n",
      "    return super(_ReusablePoolExecutor, self).submit(\n",
      "  File \"/Users/s.gonzalez/opt/anaconda3/lib/python3.8/site-packages/joblib/externals/loky/process_executor.py\", line 1102, in submit\n",
      "    raise self._flags.broken\n",
      "joblib.externals.loky.process_executor.TerminatedWorkerError: A worker process managed by the executor was unexpectedly terminated. This could be caused by a segmentation fault while calling the function or by an excessive memory usage causing the Operating System to kill the worker.\n",
      "\n",
      "The exit codes of the workers are {SIGABRT(-6), SIGABRT(-6), SIGABRT(-6), SIGABRT(-6), SIGABRT(-6), SIGABRT(-6), SIGABRT(-6), SIGABRT(-6), SIGABRT(-6), SIGABRT(-6), SIGABRT(-6), SIGABRT(-6)}\n",
      "/Users/s.gonzalez/opt/anaconda3/lib/python3.8/site-packages/sklearn/model_selection/_validation.py:548: FitFailedWarning: Estimator fit failed. The score on this train-test partition for these parameters will be set to nan. Details: \n",
      "Traceback (most recent call last):\n",
      "  File \"/Users/s.gonzalez/opt/anaconda3/lib/python3.8/site-packages/sklearn/model_selection/_validation.py\", line 531, in _fit_and_score\n",
      "    estimator.fit(X_train, y_train, **fit_params)\n",
      "  File \"/Users/s.gonzalez/opt/anaconda3/lib/python3.8/site-packages/sklearn/utils/validation.py\", line 73, in inner_f\n",
      "    return f(**kwargs)\n",
      "  File \"/Users/s.gonzalez/opt/anaconda3/lib/python3.8/site-packages/sklearn/model_selection/_search.py\", line 736, in fit\n",
      "    self._run_search(evaluate_candidates)\n",
      "  File \"/Users/s.gonzalez/opt/anaconda3/lib/python3.8/site-packages/sklearn/model_selection/_search.py\", line 1188, in _run_search\n",
      "    evaluate_candidates(ParameterGrid(self.param_grid))\n",
      "  File \"/Users/s.gonzalez/opt/anaconda3/lib/python3.8/site-packages/sklearn/model_selection/_search.py\", line 708, in evaluate_candidates\n",
      "    out = parallel(delayed(_fit_and_score)(clone(base_estimator),\n",
      "  File \"/Users/s.gonzalez/opt/anaconda3/lib/python3.8/site-packages/joblib/parallel.py\", line 1042, in __call__\n",
      "    self.retrieve()\n",
      "  File \"/Users/s.gonzalez/opt/anaconda3/lib/python3.8/site-packages/joblib/parallel.py\", line 921, in retrieve\n",
      "    self._output.extend(job.get(timeout=self.timeout))\n",
      "  File \"/Users/s.gonzalez/opt/anaconda3/lib/python3.8/site-packages/joblib/_parallel_backends.py\", line 542, in wrap_future_result\n",
      "    return future.result(timeout=timeout)\n",
      "  File \"/Users/s.gonzalez/opt/anaconda3/lib/python3.8/concurrent/futures/_base.py\", line 439, in result\n",
      "    return self.__get_result()\n",
      "  File \"/Users/s.gonzalez/opt/anaconda3/lib/python3.8/concurrent/futures/_base.py\", line 388, in __get_result\n",
      "    raise self._exception\n",
      "  File \"/Users/s.gonzalez/opt/anaconda3/lib/python3.8/site-packages/joblib/externals/loky/_base.py\", line 625, in _invoke_callbacks\n",
      "    callback(self)\n",
      "  File \"/Users/s.gonzalez/opt/anaconda3/lib/python3.8/site-packages/joblib/parallel.py\", line 347, in __call__\n",
      "    self.parallel.dispatch_next()\n",
      "  File \"/Users/s.gonzalez/opt/anaconda3/lib/python3.8/site-packages/joblib/parallel.py\", line 780, in dispatch_next\n",
      "    if not self.dispatch_one_batch(self._original_iterator):\n",
      "  File \"/Users/s.gonzalez/opt/anaconda3/lib/python3.8/site-packages/joblib/parallel.py\", line 847, in dispatch_one_batch\n",
      "    self._dispatch(tasks)\n",
      "  File \"/Users/s.gonzalez/opt/anaconda3/lib/python3.8/site-packages/joblib/parallel.py\", line 765, in _dispatch\n",
      "    job = self._backend.apply_async(batch, callback=cb)\n",
      "  File \"/Users/s.gonzalez/opt/anaconda3/lib/python3.8/site-packages/joblib/_parallel_backends.py\", line 531, in apply_async\n",
      "    future = self._workers.submit(SafeFunction(func))\n",
      "  File \"/Users/s.gonzalez/opt/anaconda3/lib/python3.8/site-packages/joblib/externals/loky/reusable_executor.py\", line 177, in submit\n",
      "    return super(_ReusablePoolExecutor, self).submit(\n",
      "  File \"/Users/s.gonzalez/opt/anaconda3/lib/python3.8/site-packages/joblib/externals/loky/process_executor.py\", line 1102, in submit\n",
      "    raise self._flags.broken\n",
      "joblib.externals.loky.process_executor.TerminatedWorkerError: A worker process managed by the executor was unexpectedly terminated. This could be caused by a segmentation fault while calling the function or by an excessive memory usage causing the Operating System to kill the worker.\n",
      "\n",
      "The exit codes of the workers are {SIGABRT(-6), SIGABRT(-6), SIGABRT(-6), SIGABRT(-6), SIGABRT(-6), SIGABRT(-6), SIGABRT(-6), SIGABRT(-6), SIGABRT(-6), SIGABRT(-6), SIGABRT(-6), SIGABRT(-6)}\n",
      "\n",
      "  warnings.warn(\"Estimator fit failed. The score on this train-test\"\n"
     ]
    },
    {
     "name": "stdout",
     "output_type": "stream",
     "text": [
      "Fitting 3 folds for each of 147 candidates, totalling 441 fits\n"
     ]
    },
    {
     "name": "stderr",
     "output_type": "stream",
     "text": [
      "[Parallel(n_jobs=-1)]: Using backend LokyBackend with 12 concurrent workers.\n"
     ]
    },
    {
     "name": "stdout",
     "output_type": "stream",
     "text": [
      "Fitting 3 folds for each of 147 candidates, totalling 441 fits\n"
     ]
    },
    {
     "name": "stderr",
     "output_type": "stream",
     "text": [
      "/Users/s.gonzalez/opt/anaconda3/lib/python3.8/site-packages/sklearn/model_selection/_validation.py:548: FitFailedWarning: Estimator fit failed. The score on this train-test partition for these parameters will be set to nan. Details: \n",
      "Traceback (most recent call last):\n",
      "  File \"/Users/s.gonzalez/opt/anaconda3/lib/python3.8/site-packages/sklearn/model_selection/_validation.py\", line 531, in _fit_and_score\n",
      "    estimator.fit(X_train, y_train, **fit_params)\n",
      "  File \"/Users/s.gonzalez/opt/anaconda3/lib/python3.8/site-packages/sklearn/utils/validation.py\", line 73, in inner_f\n",
      "    return f(**kwargs)\n",
      "  File \"/Users/s.gonzalez/opt/anaconda3/lib/python3.8/site-packages/sklearn/model_selection/_search.py\", line 736, in fit\n",
      "    self._run_search(evaluate_candidates)\n",
      "  File \"/Users/s.gonzalez/opt/anaconda3/lib/python3.8/site-packages/sklearn/model_selection/_search.py\", line 1188, in _run_search\n",
      "    evaluate_candidates(ParameterGrid(self.param_grid))\n",
      "  File \"/Users/s.gonzalez/opt/anaconda3/lib/python3.8/site-packages/sklearn/model_selection/_search.py\", line 708, in evaluate_candidates\n",
      "    out = parallel(delayed(_fit_and_score)(clone(base_estimator),\n",
      "  File \"/Users/s.gonzalez/opt/anaconda3/lib/python3.8/site-packages/joblib/parallel.py\", line 1042, in __call__\n",
      "    self.retrieve()\n",
      "  File \"/Users/s.gonzalez/opt/anaconda3/lib/python3.8/site-packages/joblib/parallel.py\", line 921, in retrieve\n",
      "    self._output.extend(job.get(timeout=self.timeout))\n",
      "  File \"/Users/s.gonzalez/opt/anaconda3/lib/python3.8/site-packages/joblib/_parallel_backends.py\", line 542, in wrap_future_result\n",
      "    return future.result(timeout=timeout)\n",
      "  File \"/Users/s.gonzalez/opt/anaconda3/lib/python3.8/concurrent/futures/_base.py\", line 439, in result\n",
      "    return self.__get_result()\n",
      "  File \"/Users/s.gonzalez/opt/anaconda3/lib/python3.8/concurrent/futures/_base.py\", line 388, in __get_result\n",
      "    raise self._exception\n",
      "joblib.externals.loky.process_executor.TerminatedWorkerError: A worker process managed by the executor was unexpectedly terminated. This could be caused by a segmentation fault while calling the function or by an excessive memory usage causing the Operating System to kill the worker.\n",
      "\n",
      "The exit codes of the workers are {SIGABRT(-6), SIGABRT(-6), SIGABRT(-6), SIGABRT(-6), SIGABRT(-6), SIGABRT(-6), SIGABRT(-6), SIGABRT(-6), SIGABRT(-6), SIGABRT(-6), SIGABRT(-6), SIGABRT(-6)}\n",
      "\n",
      "  warnings.warn(\"Estimator fit failed. The score on this train-test\"\n",
      "[Parallel(n_jobs=-1)]: Using backend LokyBackend with 12 concurrent workers.\n",
      "exception calling callback for <Future at 0x7ff3c728f760 state=finished raised TerminatedWorkerError>\n",
      "Traceback (most recent call last):\n",
      "  File \"/Users/s.gonzalez/opt/anaconda3/lib/python3.8/site-packages/joblib/externals/loky/_base.py\", line 625, in _invoke_callbacks\n",
      "    callback(self)\n",
      "  File \"/Users/s.gonzalez/opt/anaconda3/lib/python3.8/site-packages/joblib/parallel.py\", line 347, in __call__\n",
      "    self.parallel.dispatch_next()\n",
      "  File \"/Users/s.gonzalez/opt/anaconda3/lib/python3.8/site-packages/joblib/parallel.py\", line 780, in dispatch_next\n",
      "    if not self.dispatch_one_batch(self._original_iterator):\n",
      "  File \"/Users/s.gonzalez/opt/anaconda3/lib/python3.8/site-packages/joblib/parallel.py\", line 847, in dispatch_one_batch\n",
      "    self._dispatch(tasks)\n",
      "  File \"/Users/s.gonzalez/opt/anaconda3/lib/python3.8/site-packages/joblib/parallel.py\", line 765, in _dispatch\n",
      "    job = self._backend.apply_async(batch, callback=cb)\n",
      "  File \"/Users/s.gonzalez/opt/anaconda3/lib/python3.8/site-packages/joblib/_parallel_backends.py\", line 531, in apply_async\n",
      "    future = self._workers.submit(SafeFunction(func))\n",
      "  File \"/Users/s.gonzalez/opt/anaconda3/lib/python3.8/site-packages/joblib/externals/loky/reusable_executor.py\", line 177, in submit\n",
      "    return super(_ReusablePoolExecutor, self).submit(\n",
      "  File \"/Users/s.gonzalez/opt/anaconda3/lib/python3.8/site-packages/joblib/externals/loky/process_executor.py\", line 1102, in submit\n",
      "    raise self._flags.broken\n",
      "joblib.externals.loky.process_executor.TerminatedWorkerError: A worker process managed by the executor was unexpectedly terminated. This could be caused by a segmentation fault while calling the function or by an excessive memory usage causing the Operating System to kill the worker.\n",
      "\n",
      "The exit codes of the workers are {SIGABRT(-6), SIGABRT(-6), SIGABRT(-6), SIGABRT(-6), SIGABRT(-6), SIGABRT(-6), SIGABRT(-6), SIGABRT(-6), SIGABRT(-6), SIGABRT(-6), SIGABRT(-6), SIGABRT(-6)}\n",
      "/Users/s.gonzalez/opt/anaconda3/lib/python3.8/site-packages/sklearn/model_selection/_validation.py:548: FitFailedWarning: Estimator fit failed. The score on this train-test partition for these parameters will be set to nan. Details: \n",
      "Traceback (most recent call last):\n",
      "  File \"/Users/s.gonzalez/opt/anaconda3/lib/python3.8/site-packages/sklearn/model_selection/_validation.py\", line 531, in _fit_and_score\n",
      "    estimator.fit(X_train, y_train, **fit_params)\n",
      "  File \"/Users/s.gonzalez/opt/anaconda3/lib/python3.8/site-packages/sklearn/utils/validation.py\", line 73, in inner_f\n",
      "    return f(**kwargs)\n",
      "  File \"/Users/s.gonzalez/opt/anaconda3/lib/python3.8/site-packages/sklearn/model_selection/_search.py\", line 736, in fit\n",
      "    self._run_search(evaluate_candidates)\n",
      "  File \"/Users/s.gonzalez/opt/anaconda3/lib/python3.8/site-packages/sklearn/model_selection/_search.py\", line 1188, in _run_search\n",
      "    evaluate_candidates(ParameterGrid(self.param_grid))\n",
      "  File \"/Users/s.gonzalez/opt/anaconda3/lib/python3.8/site-packages/sklearn/model_selection/_search.py\", line 708, in evaluate_candidates\n",
      "    out = parallel(delayed(_fit_and_score)(clone(base_estimator),\n",
      "  File \"/Users/s.gonzalez/opt/anaconda3/lib/python3.8/site-packages/joblib/parallel.py\", line 1042, in __call__\n",
      "    self.retrieve()\n",
      "  File \"/Users/s.gonzalez/opt/anaconda3/lib/python3.8/site-packages/joblib/parallel.py\", line 921, in retrieve\n",
      "    self._output.extend(job.get(timeout=self.timeout))\n",
      "  File \"/Users/s.gonzalez/opt/anaconda3/lib/python3.8/site-packages/joblib/_parallel_backends.py\", line 542, in wrap_future_result\n",
      "    return future.result(timeout=timeout)\n",
      "  File \"/Users/s.gonzalez/opt/anaconda3/lib/python3.8/concurrent/futures/_base.py\", line 439, in result\n",
      "    return self.__get_result()\n",
      "  File \"/Users/s.gonzalez/opt/anaconda3/lib/python3.8/concurrent/futures/_base.py\", line 388, in __get_result\n",
      "    raise self._exception\n",
      "  File \"/Users/s.gonzalez/opt/anaconda3/lib/python3.8/site-packages/joblib/externals/loky/_base.py\", line 625, in _invoke_callbacks\n",
      "    callback(self)\n",
      "  File \"/Users/s.gonzalez/opt/anaconda3/lib/python3.8/site-packages/joblib/parallel.py\", line 347, in __call__\n",
      "    self.parallel.dispatch_next()\n",
      "  File \"/Users/s.gonzalez/opt/anaconda3/lib/python3.8/site-packages/joblib/parallel.py\", line 780, in dispatch_next\n",
      "    if not self.dispatch_one_batch(self._original_iterator):\n",
      "  File \"/Users/s.gonzalez/opt/anaconda3/lib/python3.8/site-packages/joblib/parallel.py\", line 847, in dispatch_one_batch\n",
      "    self._dispatch(tasks)\n",
      "  File \"/Users/s.gonzalez/opt/anaconda3/lib/python3.8/site-packages/joblib/parallel.py\", line 765, in _dispatch\n",
      "    job = self._backend.apply_async(batch, callback=cb)\n",
      "  File \"/Users/s.gonzalez/opt/anaconda3/lib/python3.8/site-packages/joblib/_parallel_backends.py\", line 531, in apply_async\n",
      "    future = self._workers.submit(SafeFunction(func))\n",
      "  File \"/Users/s.gonzalez/opt/anaconda3/lib/python3.8/site-packages/joblib/externals/loky/reusable_executor.py\", line 177, in submit\n",
      "    return super(_ReusablePoolExecutor, self).submit(\n",
      "  File \"/Users/s.gonzalez/opt/anaconda3/lib/python3.8/site-packages/joblib/externals/loky/process_executor.py\", line 1102, in submit\n",
      "    raise self._flags.broken\n",
      "joblib.externals.loky.process_executor.TerminatedWorkerError: A worker process managed by the executor was unexpectedly terminated. This could be caused by a segmentation fault while calling the function or by an excessive memory usage causing the Operating System to kill the worker.\n",
      "\n",
      "The exit codes of the workers are {SIGABRT(-6), SIGABRT(-6), SIGABRT(-6), SIGABRT(-6), SIGABRT(-6), SIGABRT(-6), SIGABRT(-6), SIGABRT(-6), SIGABRT(-6), SIGABRT(-6), SIGABRT(-6), SIGABRT(-6)}\n",
      "\n",
      "  warnings.warn(\"Estimator fit failed. The score on this train-test\"\n"
     ]
    },
    {
     "name": "stdout",
     "output_type": "stream",
     "text": [
      "Average Accuracy: \t nan\n",
      "Accuracy SD: \t\t nan\n",
      "\n",
      "******************************\n",
      "\n",
      "Test Result:\n",
      "\n",
      "accuracy score: 0.5768\n",
      "\n",
      "Classification Report: \n",
      "               precision    recall  f1-score   support\n",
      "\n",
      "           0       0.58      1.00      0.73       263\n",
      "           1       0.00      0.00      0.00       193\n",
      "\n",
      "    accuracy                           0.58       456\n",
      "   macro avg       0.29      0.50      0.37       456\n",
      "weighted avg       0.33      0.58      0.42       456\n",
      "\n",
      "\n",
      "Confusion Matrix: \n",
      " [[263   0]\n",
      " [193   0]]\n",
      "\n"
     ]
    },
    {
     "name": "stderr",
     "output_type": "stream",
     "text": [
      "/Users/s.gonzalez/opt/anaconda3/lib/python3.8/site-packages/sklearn/metrics/_classification.py:1221: UndefinedMetricWarning: Precision and F-score are ill-defined and being set to 0.0 in labels with no predicted samples. Use `zero_division` parameter to control this behavior.\n",
      "  _warn_prf(average, modifier, msg_start, len(result))\n"
     ]
    }
   ],
   "source": [
    "print_score(svm_grid_poly, X_train, X_test, y_train_aroused, y_test_aroused, train=True)\n",
    "print(\"\\n******************************\\n\")\n",
    "print_score(svm_grid_poly, X_train, X_test, y_train_aroused, y_test_aroused, train=False)"
   ]
  },
  {
   "cell_type": "code",
   "execution_count": null,
   "metadata": {},
   "outputs": [],
   "source": []
  }
 ],
 "metadata": {
  "kernelspec": {
   "display_name": "Python 3",
   "language": "python",
   "name": "python3"
  },
  "language_info": {
   "codemirror_mode": {
    "name": "ipython",
    "version": 3
   },
   "file_extension": ".py",
   "mimetype": "text/x-python",
   "name": "python",
   "nbconvert_exporter": "python",
   "pygments_lexer": "ipython3",
   "version": "3.8.3"
  }
 },
 "nbformat": 4,
 "nbformat_minor": 4
}
