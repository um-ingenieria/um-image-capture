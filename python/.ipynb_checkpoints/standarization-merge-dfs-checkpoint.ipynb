{
 "cells": [
  {
   "cell_type": "code",
   "execution_count": 1,
   "metadata": {},
   "outputs": [],
   "source": [
    "import numpy as np\n",
    "import pandas as pd\n",
    "import matplotlib.pyplot as plt\n",
    "%matplotlib inline\n",
    "import seaborn as sns\n",
    "import sklearn\n",
    "from sklearn import preprocessing\n",
    "import math"
   ]
  },
  {
   "cell_type": "markdown",
   "metadata": {},
   "source": [
    "## Data Structuring"
   ]
  },
  {
   "cell_type": "code",
   "execution_count": 2,
   "metadata": {},
   "outputs": [],
   "source": [
    "df_juan = pd.read_csv(\"..//resources//csv//data//biometrics-juan.csv\")\n",
    "df_rocio = pd.read_csv(\"..//resources//csv//data//biometrics-rocio.csv\")\n",
    "df_matias = pd.read_csv(\"..//resources//csv//data//biometrics-matias.csv\")\n",
    "df_bren = pd.read_csv(\"..//resources//csv//data//biometrics-bren.csv\")"
   ]
  },
  {
   "cell_type": "code",
   "execution_count": 3,
   "metadata": {},
   "outputs": [],
   "source": [
    "dfs = [df_rocio, df_juan, df_matias, df_bren]"
   ]
  },
  {
   "cell_type": "code",
   "execution_count": 4,
   "metadata": {},
   "outputs": [],
   "source": [
    "def standarize(df):\n",
    "    df_to_standarize = df.copy()\n",
    "    \n",
    "    # remover las mediciones sin estímulo antes de la estandarización, para no afectar la desviación\n",
    "    filterArousal = df_to_standarize['ArousalMean'] > 0\n",
    "    filtered1 = df_to_standarize[filterArousal]\n",
    "\n",
    "    # remover las mediciones para las que el sam no coincidió antes de la estandarización, para no afectar la desviación\n",
    "    # filterSam = filtered1['MatchesSam'] == True\n",
    "    # filtered = filtered1[filterSam]\n",
    "    \n",
    "    columns_to_standarize = ['HR', 'HRV', 'MicroSiemens']\n",
    "\n",
    "    scaler = preprocessing.StandardScaler()\n",
    "    standarized_df = scaler.fit_transform(df_to_standarize[columns_to_standarize])\n",
    "\n",
    "    standarized_df_with_arousal = np.append(standarized_df, df_to_standarize[['ArousalMean']], axis=1)\n",
    "\n",
    "    # Convert it to dataframe\n",
    "    standarized_df_with_arousal = pd.DataFrame(standarized_df_with_arousal, columns=['HR', 'HRV', 'MicroSiemens', 'ArousalMean'])\n",
    "\n",
    "    return standarized_df_with_arousal"
   ]
  },
  {
   "cell_type": "code",
   "execution_count": 5,
   "metadata": {},
   "outputs": [],
   "source": [
    "# Se estandariza cada dataframe\n",
    "standarized_dfs = list(map(standarize, dfs))\n",
    "\n",
    "# Se los une a todos en un solo dataframe para entrenamiento luego de la estandarización\n",
    "biometrics_df = pd.concat(standarized_dfs)\n",
    "\n",
    "# sns.pairplot(biometrics_df, height=3.5);\n",
    "# plt.show()"
   ]
  },
  {
   "cell_type": "markdown",
   "metadata": {},
   "source": [
    "## Correlation Analysis"
   ]
  },
  {
   "cell_type": "code",
   "execution_count": 6,
   "metadata": {},
   "outputs": [
    {
     "data": {
      "image/png": "[encoded data removed]",
      "text/plain": [
       "<Figure size 864x576 with 2 Axes>"
      ]
     },
     "metadata": {
      "needs_background": "light"
     },
     "output_type": "display_data"
    }
   ],
   "source": [
    "plt.figure(figsize=(12,8))\n",
    "sns.heatmap(biometrics_df.corr(), annot=True, fmt=\".2f\", cmap='YlGnBu')\n",
    "plt.show()"
   ]
  },
  {
   "cell_type": "code",
   "execution_count": 7,
   "metadata": {},
   "outputs": [],
   "source": [
    "X = biometrics_df[['MicroSiemens', 'HR', 'HRV' ]].values\n",
    "y = biometrics_df['ArousalMean'].values"
   ]
  },
  {
   "cell_type": "code",
   "execution_count": 8,
   "metadata": {},
   "outputs": [],
   "source": [
    "from sklearn.model_selection import train_test_split"
   ]
  },
  {
   "cell_type": "code",
   "execution_count": 9,
   "metadata": {},
   "outputs": [
    {
     "data": {
      "text/plain": [
       "(array([0.      , 0.      , 0.      , 0.      , 0.      , 0.      ,\n",
       "        0.      , 0.      , 0.      , 0.      , 0.      , 0.      ,\n",
       "        0.      , 0.      , 0.      , 0.      , 0.      , 0.      ,\n",
       "        0.      , 0.      , 0.      , 0.      , 0.      , 0.      ,\n",
       "        0.      , 0.      , 0.      , 0.      , 0.      , 0.      ,\n",
       "        0.      , 0.      , 0.      , 0.      , 0.      , 0.      ,\n",
       "        0.      , 0.      , 0.      , 0.      , 0.      , 0.      ,\n",
       "        0.      , 0.      , 0.      , 0.      , 0.      , 0.      ,\n",
       "        0.      , 0.      , 0.      , 0.      , 0.      , 0.      ,\n",
       "        0.      , 0.      , 0.      , 0.      , 0.      , 0.      ,\n",
       "        0.      , 0.      , 0.      , 0.      , 0.      , 0.      ,\n",
       "        0.      , 0.      , 0.      , 0.      , 0.      , 0.      ,\n",
       "        0.      , 0.      , 0.      , 0.      , 0.      , 0.      ,\n",
       "        0.      , 0.      , 0.      , 0.      , 0.      , 0.      ,\n",
       "        0.      , 0.      , 0.      , 0.      , 0.      , 0.      ,\n",
       "        6.44    , 6.44    , 6.44    , 6.99    , 6.99    , 6.82    ,\n",
       "        6.82    , 6.82    , 6.97    , 6.97    , 6.97    , 6.79    ,\n",
       "        6.79    , 6.55    , 6.55    , 7.07    , 7.07    , 7.07    ,\n",
       "        6.68    , 6.68    , 6.72    , 6.72    , 6.72    , 6.62    ,\n",
       "        6.62    , 6.673077, 6.673077, 6.673077, 6.673077, 6.673077,\n",
       "        6.673077, 6.673077, 6.673077, 7.75    , 7.75    , 7.75    ,\n",
       "        7.75    , 7.75    , 7.75    , 6.75    , 6.75    , 6.75    ,\n",
       "        6.75    , 6.75    , 6.730769, 6.730769, 6.730769, 6.730769,\n",
       "        6.730769, 6.730769, 6.75    , 6.75    , 6.75    , 6.75    ,\n",
       "        6.75    , 6.75    , 6.75    , 6.75    , 6.75    , 6.75    ,\n",
       "        0.      , 0.      , 0.      , 0.      , 0.      , 0.      ,\n",
       "        0.      , 0.      , 0.      , 7.07    , 7.07    , 6.94    ,\n",
       "        6.92    , 6.92    , 6.92    , 6.92    , 7.21    , 6.97    ,\n",
       "        6.97    , 6.97    , 6.84    , 6.84    , 6.49    , 6.49    ,\n",
       "        6.86    , 6.86    , 6.86    , 7.03    , 7.03    , 7.12    ,\n",
       "        7.12    , 7.461538, 7.461538, 7.461538, 7.461538, 7.461538,\n",
       "        7.461538, 7.673077, 7.673077, 7.673077, 7.673077, 7.673077,\n",
       "        7.442307, 7.442307, 7.442307, 7.442307, 7.442307, 7.442307,\n",
       "        7.442307, 7.442307, 7.442307, 7.442307, 7.442307, 7.25    ,\n",
       "        7.25    , 7.25    , 7.25    , 7.25    , 7.25    , 7.25    ,\n",
       "        7.25    , 7.25    , 7.25    , 7.25    , 7.25    , 7.25    ,\n",
       "        7.25    , 7.25    , 7.25    , 7.519231, 7.519231, 7.519231,\n",
       "        7.519231, 0.      , 0.      , 0.      , 0.      , 0.      ,\n",
       "        0.      , 0.      , 0.      , 0.      , 0.      , 0.      ,\n",
       "        0.      , 3.99    , 3.99    , 3.99    , 3.99    , 3.99    ,\n",
       "        3.97    , 3.97    , 3.97    , 3.99    , 3.99    , 3.94    ,\n",
       "        3.94    , 3.97    , 3.97    , 3.97    , 3.95    , 3.95    ,\n",
       "        3.95    , 3.95    , 3.08    , 3.08    , 3.08    , 3.92    ,\n",
       "        3.92    , 3.192308, 3.192308, 3.192308, 2.5     , 2.5     ,\n",
       "        2.5     , 2.5     , 2.5     , 2.5     , 2.5     , 2.5     ,\n",
       "        2.711539, 2.711539, 2.711539, 2.711539, 2.711539, 2.711539,\n",
       "        3.153846, 3.153846, 3.153846, 3.153846, 3.153846, 3.153846,\n",
       "        3.153846, 3.153846, 0.      , 0.      , 0.      , 0.      ,\n",
       "        0.      , 0.      , 0.      , 0.      , 0.      , 0.      ,\n",
       "        0.      , 0.      , 0.      , 0.      , 3.85    , 3.85    ,\n",
       "        3.91    , 3.91    , 3.98    , 3.98    , 3.67    , 3.67    ,\n",
       "        3.67    , 3.95    , 3.95    , 3.52    , 3.52    , 3.93    ,\n",
       "        3.93    , 3.93    , 3.95    , 3.95    , 3.93    , 3.46    ,\n",
       "        3.46    , 3.46    , 3.46    , 3.134615, 3.134615, 3.134615,\n",
       "        3.134615, 3.134615, 3.25    , 3.25    , 3.25    , 3.25    ,\n",
       "        3.25    , 3.25    , 3.25    , 3.25    , 3.211539, 3.211539,\n",
       "        3.211539, 3.211539, 3.211539, 3.211539, 3.211539, 3.403846,\n",
       "        3.403846, 3.403846, 3.403846, 3.423077, 3.423077, 3.423077,\n",
       "        3.423077, 0.      , 0.      , 0.      , 0.      , 0.      ,\n",
       "        0.      , 0.      , 0.      , 0.      , 0.      , 0.      ,\n",
       "        0.      , 0.      , 0.      , 0.      , 0.      , 0.      ,\n",
       "        0.      , 0.      , 0.      , 0.      , 0.      , 0.      ,\n",
       "        0.      , 0.      , 0.      , 0.      , 0.      , 0.      ,\n",
       "        0.      , 0.      , 0.      , 0.      , 0.      , 0.      ,\n",
       "        0.      , 0.      , 0.      , 0.      , 0.      , 0.      ,\n",
       "        0.      , 0.      , 0.      , 0.      , 0.      , 0.      ,\n",
       "        0.      , 0.      , 0.      , 0.      , 0.      , 0.      ,\n",
       "        0.      , 0.      , 0.      , 0.      , 0.      , 0.      ,\n",
       "        0.      , 0.      , 0.      , 0.      , 0.      , 0.      ,\n",
       "        0.      , 0.      , 0.      , 0.      , 0.      , 0.      ,\n",
       "        0.      , 0.      , 0.      , 0.      , 0.      , 0.      ,\n",
       "        0.      , 0.      , 0.      , 0.      , 0.      , 0.      ,\n",
       "        0.      , 0.      , 0.      , 0.      , 0.      , 0.      ,\n",
       "        0.      , 0.      , 0.      , 0.      , 0.      , 0.      ,\n",
       "        0.      , 0.      , 0.      , 0.      , 0.      , 0.      ,\n",
       "        0.      , 0.      , 0.      , 0.      , 0.      , 0.      ,\n",
       "        0.      , 0.      , 0.      , 0.      , 0.      , 0.      ,\n",
       "        0.      , 0.      , 0.      , 0.      , 0.      , 0.      ,\n",
       "        0.      , 0.      , 0.      , 0.      , 0.      , 0.      ,\n",
       "        0.      , 0.      , 0.      , 0.      , 0.      , 0.      ,\n",
       "        0.      , 0.      , 0.      , 0.      , 0.      , 0.      ,\n",
       "        0.      , 0.      , 0.      , 0.      , 0.      , 0.      ,\n",
       "        0.      , 0.      , 0.      , 0.      , 0.      , 0.      ,\n",
       "        0.      , 0.      , 0.      , 0.      , 0.      , 0.      ,\n",
       "        0.      , 0.      , 0.      , 0.      , 0.      , 0.      ,\n",
       "        0.      , 0.      , 0.      , 0.      , 0.      , 0.      ,\n",
       "        0.      , 0.      , 0.      , 0.      , 0.      , 0.      ,\n",
       "        0.      , 0.      , 0.      , 0.      , 0.      , 0.      ,\n",
       "        0.      , 0.      , 0.      , 0.      , 0.      , 0.      ,\n",
       "        0.      , 0.      , 0.      , 0.      , 0.      , 0.      ,\n",
       "        0.      , 0.      , 0.      , 0.      , 0.      , 0.      ,\n",
       "        0.      , 0.      , 0.      , 0.      , 0.      , 0.      ,\n",
       "        0.      , 0.      , 0.      , 0.      , 0.      , 0.      ,\n",
       "        0.      , 0.      , 0.      , 0.      , 0.      , 0.      ,\n",
       "        0.      , 0.      , 0.      , 0.      , 0.      , 0.      ,\n",
       "        0.      , 0.      , 0.      , 0.      , 0.      , 0.      ,\n",
       "        0.      , 0.      , 0.      , 0.      , 0.      , 0.      ,\n",
       "        0.      , 0.      , 0.      , 0.      , 0.      , 0.      ,\n",
       "        0.      , 0.      , 0.      , 0.      , 0.      , 0.      ,\n",
       "        0.      , 0.      , 0.      , 0.      , 0.      , 0.      ,\n",
       "        0.      , 0.      , 0.      , 0.      , 0.      , 0.      ,\n",
       "        0.      , 0.      , 0.      , 0.      , 0.      , 0.      ,\n",
       "        0.      , 0.      , 0.      , 0.      , 0.      , 0.      ,\n",
       "        0.      , 0.      , 0.      , 0.      , 0.      , 0.      ,\n",
       "        0.      , 0.      , 0.      , 0.      , 0.      , 0.      ,\n",
       "        0.      , 0.      , 0.      , 0.      , 0.      , 0.      ,\n",
       "        0.      , 0.      , 0.      , 0.      , 0.      , 0.      ,\n",
       "        0.      , 0.      , 0.      , 0.      , 0.      , 0.      ,\n",
       "        0.      , 0.      , 0.      , 0.      , 0.      , 0.      ,\n",
       "        0.      , 0.      , 0.      , 0.      , 0.      , 0.      ,\n",
       "        0.      , 0.      , 0.      , 0.      , 0.      , 0.      ,\n",
       "        0.      , 0.      , 0.      , 0.      , 0.      , 0.      ,\n",
       "        0.      , 0.      , 0.      , 0.      , 0.      , 0.      ,\n",
       "        0.      , 0.      , 0.      , 0.      , 0.      , 0.      ,\n",
       "        0.      , 0.      , 0.      , 0.      , 0.      , 0.      ,\n",
       "        0.      , 0.      , 0.      , 0.      , 6.07    , 6.07    ,\n",
       "        6.07    , 6.07    , 7.31    , 7.31    , 7.31    , 6.68    ,\n",
       "        6.68    , 6.68    , 6.14    , 6.14    , 6.14    , 6.61    ,\n",
       "        6.61    , 6.61    , 6.73    , 6.73    , 6.35    , 6.35    ,\n",
       "        6.35    , 6.28    , 6.28    , 6.28    , 6.84    , 6.84    ,\n",
       "        6.84    , 7.27    , 7.27    , 7.27    , 6.153846, 6.153846,\n",
       "        6.153846, 6.153846, 6.153846, 6.153846, 6.153846, 6.153846,\n",
       "        6.153846, 6.173077, 6.173077, 6.173077, 6.173077, 6.173077,\n",
       "        6.173077, 6.173077, 6.173077, 6.173077, 6.173077, 6.173077,\n",
       "        6.173077, 6.173077, 6.173077, 6.173077, 6.153846, 6.153846,\n",
       "        6.153846, 6.153846, 6.153846, 6.153846, 6.153846, 6.153846,\n",
       "        6.153846, 6.153846, 6.153846, 6.153846, 6.153846, 6.153846,\n",
       "        6.153846, 6.153846, 6.153846, 7.134615, 7.134615, 7.134615,\n",
       "        7.134615, 7.134615, 6.769231, 6.769231, 6.769231, 6.769231,\n",
       "        6.769231, 6.769231, 6.769231, 6.769231, 6.769231, 6.769231,\n",
       "        6.769231, 6.769231, 6.769231, 6.769231, 6.769231, 0.      ,\n",
       "        0.      , 0.      , 0.      , 0.      , 0.      , 0.      ,\n",
       "        0.      , 0.      , 0.      , 0.      , 0.      , 0.      ,\n",
       "        0.      , 0.      , 0.      , 0.      , 0.      , 0.      ,\n",
       "        0.      , 0.      , 0.      , 0.      , 0.      , 4.91    ,\n",
       "        4.91    , 4.91    , 4.87    , 4.87    , 4.87    , 4.51    ,\n",
       "        4.51    , 4.51    , 4.92    , 4.92    , 4.92    , 4.68    ,\n",
       "        4.68    , 4.68    , 4.6     , 4.6     , 4.6     , 4.44    ,\n",
       "        4.44    , 4.44    , 4.68    , 4.68    , 4.74    , 4.74    ,\n",
       "        4.74    , 4.74    , 4.9     , 4.9     , 4.9     , 3.115385,\n",
       "        3.115385, 3.115385, 3.115385, 3.115385, 3.115385, 3.942308,\n",
       "        3.942308, 3.942308, 3.942308, 3.942308, 3.673077, 3.673077,\n",
       "        3.673077, 3.673077, 3.673077, 3.673077, 3.673077, 3.326923,\n",
       "        3.326923, 3.326923, 3.326923, 3.326923, 3.326923, 3.326923,\n",
       "        3.326923, 3.269231, 3.269231, 3.269231, 3.269231, 3.269231,\n",
       "        0.      , 0.      , 0.      , 0.      , 0.      , 0.      ,\n",
       "        0.      , 0.      , 0.      , 4.83    , 4.83    , 4.83    ,\n",
       "        4.83    , 4.96    , 4.96    , 4.68    ]),\n",
       " array([4.68    , 4.68    , 4.67    , 4.67    , 4.88    , 4.88    ,\n",
       "        4.88    , 4.98    , 4.98    , 4.98    , 4.98    , 4.72    ,\n",
       "        4.72    , 4.72    , 4.36    , 4.36    , 4.92    , 4.92    ,\n",
       "        4.92    , 4.57    , 4.57    , 4.57    , 3.788461, 3.788461,\n",
       "        3.788461, 3.788461, 3.788461, 3.788461, 3.788461, 3.788461,\n",
       "        4.5     , 4.5     , 4.5     , 4.5     , 4.5     , 4.5     ,\n",
       "        4.5     , 4.5     , 4.5     , 4.5     , 4.692307, 4.692307,\n",
       "        4.692307, 4.692307, 4.692307, 4.692307, 4.692307, 4.692307,\n",
       "        4.692307, 4.692307, 4.692307, 3.711539, 3.711539, 3.711539,\n",
       "        3.711539, 2.942308, 2.942308, 2.942308, 2.942308, 2.942308,\n",
       "        0.      , 0.      , 0.      , 0.      , 0.      , 0.      ,\n",
       "        0.      , 0.      , 0.      , 0.      , 0.      , 0.      ,\n",
       "        0.      , 0.      , 0.      , 0.      , 0.      , 0.      ,\n",
       "        0.      , 0.      , 0.      , 7.15    , 7.15    , 6.28    ,\n",
       "        6.28    , 6.28    , 6.28    , 6.52    , 6.52    , 6.52    ,\n",
       "        5.64    , 5.64    , 7.09    , 7.09    , 7.09    , 7.09    ,\n",
       "        6.96    , 6.96    , 7.29    , 7.29    , 6.93    , 6.93    ,\n",
       "        6.93    , 6.93    , 6.82    , 6.82    , 6.82    , 7.35    ,\n",
       "        7.35    , 7.461538, 7.461538, 7.461538, 7.461538, 7.461538,\n",
       "        7.461538, 7.461538, 7.461538, 7.461538, 7.461538, 7.461538,\n",
       "        7.461538, 7.461538, 7.461538, 7.461538, 7.461538, 7.461538,\n",
       "        7.461538, 7.461538, 5.576923, 5.576923, 5.576923, 5.576923,\n",
       "        5.576923, 5.576923, 5.576923, 5.576923, 5.576923, 5.576923,\n",
       "        5.576923, 5.576923, 5.576923, 5.576923, 5.576923, 7.365385,\n",
       "        7.365385, 7.365385, 7.365385, 7.365385, 7.365385, 7.365385,\n",
       "        7.365385, 7.365385, 7.365385, 7.365385, 7.365385, 7.365385,\n",
       "        7.365385, 7.365385, 7.365385, 7.211538, 7.211538, 7.211538,\n",
       "        7.211538, 7.211538, 7.211538, 7.211538, 7.211538, 7.211538,\n",
       "        7.211538, 7.211538, 7.211538, 7.211538, 7.211538, 7.211538,\n",
       "        7.211538, 7.211538, 7.211538, 7.211538, 7.      , 7.      ,\n",
       "        7.      , 7.      , 7.      , 0.      , 0.      , 0.      ,\n",
       "        0.      , 0.      , 0.      , 0.      , 0.      , 0.      ,\n",
       "        0.      , 0.      , 0.      , 0.      , 0.      , 0.      ,\n",
       "        0.      , 0.      , 0.      , 0.      , 0.      , 0.      ,\n",
       "        0.      , 0.      , 0.      , 0.      , 0.      , 0.      ,\n",
       "        0.      , 0.      , 0.      , 0.      , 0.      , 0.      ,\n",
       "        0.      , 0.      , 0.      , 0.      , 0.      , 0.      ]))"
      ]
     },
     "execution_count": 9,
     "metadata": {},
     "output_type": "execute_result"
    }
   ],
   "source": [
    "X_train, X_test, y_train, y_test = train_test_split(X, y, test_size=0.2, shuffle=False, random_state=42)\n",
    "\n",
    "y_train, y_test"
   ]
  },
  {
   "cell_type": "code",
   "execution_count": 10,
   "metadata": {},
   "outputs": [],
   "source": [
    "# Para poder usar un clasificador, los datos de la variable target deben ser discretos.\n",
    "#Los convertimos a True-False (Aroused-NotAroused) con el fin de poder entrear un clasificador binario\n",
    "y_train_aroused = (y_train > 5)"
   ]
  },
  {
   "cell_type": "code",
   "execution_count": 11,
   "metadata": {},
   "outputs": [],
   "source": [
    "# Print train target\n",
    "# y_train_aroused"
   ]
  },
  {
   "cell_type": "code",
   "execution_count": 12,
   "metadata": {},
   "outputs": [
    {
     "data": {
      "text/plain": [
       "SGDClassifier(random_state=0)"
      ]
     },
     "execution_count": 12,
     "metadata": {},
     "output_type": "execute_result"
    }
   ],
   "source": [
    "from sklearn.linear_model import SGDClassifier\n",
    "\n",
    "clf = SGDClassifier(random_state = 0)\n",
    "clf.fit(X_train, y_train_aroused)"
   ]
  },
  {
   "cell_type": "markdown",
   "metadata": {},
   "source": [
    "# Prediction"
   ]
  },
  {
   "cell_type": "code",
   "execution_count": 13,
   "metadata": {},
   "outputs": [
    {
     "data": {
      "text/plain": [
       "array([False])"
      ]
     },
     "execution_count": 13,
     "metadata": {},
     "output_type": "execute_result"
    }
   ],
   "source": [
    "clf.predict(X[145].reshape(1, -1))"
   ]
  },
  {
   "cell_type": "markdown",
   "metadata": {},
   "source": [
    "# Performance Measuring"
   ]
  },
  {
   "cell_type": "code",
   "execution_count": 14,
   "metadata": {},
   "outputs": [],
   "source": [
    "from sklearn.model_selection import cross_val_score"
   ]
  },
  {
   "cell_type": "code",
   "execution_count": 15,
   "metadata": {},
   "outputs": [
    {
     "data": {
      "text/plain": [
       "array([0.75675676, 0.67457627, 0.42372881])"
      ]
     },
     "execution_count": 15,
     "metadata": {},
     "output_type": "execute_result"
    }
   ],
   "source": [
    "cross_val_score(clf, X_train, y_train_aroused, cv=3, scoring='accuracy')"
   ]
  },
  {
   "cell_type": "markdown",
   "metadata": {
    "colab_type": "text",
    "id": "edqy40nOYyVT"
   },
   "source": [
    "# Confusion Matrix"
   ]
  },
  {
   "cell_type": "code",
   "execution_count": 16,
   "metadata": {
    "colab": {},
    "colab_type": "code",
    "id": "qN0GqLeSYyVT"
   },
   "outputs": [],
   "source": [
    "from sklearn.model_selection import cross_val_predict"
   ]
  },
  {
   "cell_type": "code",
   "execution_count": 17,
   "metadata": {
    "colab": {},
    "colab_type": "code",
    "id": "oQkwoytjYyVW"
   },
   "outputs": [],
   "source": [
    "# y_train_pred = cross_val_predict(clf, X_train, y_train_aroused, cv=3)\n",
    "y_train_pred = clf.predict(X_train)"
   ]
  },
  {
   "cell_type": "code",
   "execution_count": 18,
   "metadata": {
    "colab": {},
    "colab_type": "code",
    "id": "xI6p2HvyYyVX"
   },
   "outputs": [],
   "source": [
    "from sklearn.metrics import confusion_matrix"
   ]
  },
  {
   "cell_type": "code",
   "execution_count": 19,
   "metadata": {
    "colab": {
     "base_uri": "https://localhost:8080/",
     "height": 51
    },
    "colab_type": "code",
    "executionInfo": {
     "elapsed": 158117,
     "status": "ok",
     "timestamp": 1570958325898,
     "user": {
      "displayName": "Anthony Ng",
      "photoUrl": "https://lh3.googleusercontent.com/a-/AAuE7mDCwHDw3XUA0T7h5JCQA3iBUS8Wbz1V-29O8pmP8g=s64",
      "userId": "06915612711739148186"
     },
     "user_tz": -480
    },
    "id": "O40Yjy7zYyVa",
    "outputId": "1688917f-effa-4f80-ff38-d3834d736474"
   },
   "outputs": [
    {
     "data": {
      "text/plain": [
       "array([[664,   7],\n",
       "       [204,  11]])"
      ]
     },
     "execution_count": 19,
     "metadata": {},
     "output_type": "execute_result"
    }
   ],
   "source": [
    "confusion_matrix(y_train_aroused, y_train_pred)"
   ]
  },
  {
   "cell_type": "code",
   "execution_count": 20,
   "metadata": {},
   "outputs": [
    {
     "data": {
      "text/html": [
       "<div>\n",
       "<style scoped>\n",
       "    .dataframe tbody tr th:only-of-type {\n",
       "        vertical-align: middle;\n",
       "    }\n",
       "\n",
       "    .dataframe tbody tr th {\n",
       "        vertical-align: top;\n",
       "    }\n",
       "\n",
       "    .dataframe thead tr th {\n",
       "        text-align: left;\n",
       "    }\n",
       "</style>\n",
       "<table border=\"1\" class=\"dataframe\">\n",
       "  <thead>\n",
       "    <tr>\n",
       "      <th></th>\n",
       "      <th></th>\n",
       "      <th colspan=\"2\" halign=\"left\">Prediction</th>\n",
       "    </tr>\n",
       "    <tr>\n",
       "      <th></th>\n",
       "      <th></th>\n",
       "      <th>Negative</th>\n",
       "      <th>Positive</th>\n",
       "    </tr>\n",
       "  </thead>\n",
       "  <tbody>\n",
       "    <tr>\n",
       "      <th rowspan=\"2\" valign=\"top\">Actual</th>\n",
       "      <th>Negative</th>\n",
       "      <td>664</td>\n",
       "      <td>7</td>\n",
       "    </tr>\n",
       "    <tr>\n",
       "      <th>Positive</th>\n",
       "      <td>204</td>\n",
       "      <td>11</td>\n",
       "    </tr>\n",
       "  </tbody>\n",
       "</table>\n",
       "</div>"
      ],
      "text/plain": [
       "                Prediction         \n",
       "                  Negative Positive\n",
       "Actual Negative        664        7\n",
       "       Positive        204       11"
      ]
     },
     "execution_count": 20,
     "metadata": {},
     "output_type": "execute_result"
    }
   ],
   "source": [
    "pd.DataFrame(confusion_matrix(y_train_aroused, y_train_pred),\n",
    "             columns=pd.MultiIndex.from_product([['Prediction'], [\"Negative\", \"Positive\"]]),\n",
    "             index=pd.MultiIndex.from_product([[\"Actual\"], [\"Negative\", \"Positive\"]]))"
   ]
  },
  {
   "cell_type": "code",
   "execution_count": 21,
   "metadata": {},
   "outputs": [],
   "source": [
    "from sklearn.metrics import precision_score, recall_score"
   ]
  },
  {
   "cell_type": "code",
   "execution_count": 22,
   "metadata": {},
   "outputs": [
    {
     "data": {
      "text/plain": [
       "0.6111111111111112"
      ]
     },
     "execution_count": 22,
     "metadata": {},
     "output_type": "execute_result"
    }
   ],
   "source": [
    "precision_score(y_train_aroused, y_train_pred)"
   ]
  },
  {
   "cell_type": "code",
   "execution_count": null,
   "metadata": {},
   "outputs": [],
   "source": []
  }
 ],
 "metadata": {
  "kernelspec": {
   "display_name": "Python 3",
   "language": "python",
   "name": "python3"
  },
  "language_info": {
   "codemirror_mode": {
    "name": "ipython",
    "version": 3
   },
   "file_extension": ".py",
   "mimetype": "text/x-python",
   "name": "python",
   "nbconvert_exporter": "python",
   "pygments_lexer": "ipython3",
   "version": "3.8.3"
  }
 },
 "nbformat": 4,
 "nbformat_minor": 4
}
