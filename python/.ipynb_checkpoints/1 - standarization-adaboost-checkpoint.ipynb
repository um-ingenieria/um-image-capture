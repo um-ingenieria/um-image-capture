{
 "cells": [
  {
   "cell_type": "code",
   "execution_count": 1,
   "metadata": {},
   "outputs": [],
   "source": [
    "import numpy as np\n",
    "import pandas as pd\n",
    "import matplotlib.pyplot as plt\n",
    "%matplotlib inline\n",
    "import seaborn as sns\n",
    "import sklearn\n",
    "from sklearn import preprocessing\n",
    "import math\n",
    "from sklearn.ensemble import RandomForestClassifier"
   ]
  },
  {
   "cell_type": "markdown",
   "metadata": {},
   "source": [
    "## Data Structuring"
   ]
  },
  {
   "cell_type": "code",
   "execution_count": 2,
   "metadata": {},
   "outputs": [],
   "source": [
    "df_juan = pd.read_csv(\"..//resources//csv//data//biometrics-juan.csv\")\n",
    "df_rocio = pd.read_csv(\"..//resources//csv//data//biometrics-rocio.csv\")\n",
    "df_matias = pd.read_csv(\"..//resources//csv//data//biometrics-matias.csv\")\n",
    "df_bren = pd.read_csv(\"..//resources//csv//data//biometrics-bren.csv\")"
   ]
  },
  {
   "cell_type": "code",
   "execution_count": 3,
   "metadata": {},
   "outputs": [],
   "source": [
    "dfs = [df_rocio, df_juan, df_matias, df_bren]"
   ]
  },
  {
   "cell_type": "code",
   "execution_count": 4,
   "metadata": {},
   "outputs": [],
   "source": [
    "def standarize(df):\n",
    "    df_to_standarize = df.copy()\n",
    "    \n",
    "    # remover las mediciones sin estímulo antes de la estandarización, para no afectar la desviación\n",
    "    filterArousal = df_to_standarize['ArousalMean'] > 0\n",
    "    filtered1 = df_to_standarize[filterArousal]\n",
    "\n",
    "    # remover las mediciones para las que el sam no coincidió antes de la estandarización, para no afectar la desviación\n",
    "    # filterSam = filtered1['MatchesSam'] == True\n",
    "    # filtered = filtered1[filterSam]\n",
    "    \n",
    "    columns_to_standarize = ['HR', 'HRV', 'MicroSiemens']\n",
    "\n",
    "    scaler = preprocessing.StandardScaler()\n",
    "    standarized_df = scaler.fit_transform(df_to_standarize[columns_to_standarize])\n",
    "\n",
    "    standarized_df_with_arousal = np.append(standarized_df, df_to_standarize[['ArousalMean']], axis=1)\n",
    "\n",
    "    # Convert it to dataframe\n",
    "    standarized_df_with_arousal = pd.DataFrame(standarized_df_with_arousal, columns=['HR', 'HRV', 'MicroSiemens', 'ArousalMean'])\n",
    "\n",
    "    return standarized_df_with_arousal"
   ]
  },
  {
   "cell_type": "code",
   "execution_count": 5,
   "metadata": {},
   "outputs": [],
   "source": [
    "# Se estandariza cada dataframe\n",
    "standarized_dfs = list(map(standarize, dfs))\n",
    "\n",
    "# Se los une a todos en un solo dataframe para entrenamiento luego de la estandarización\n",
    "biometrics_df = pd.concat(standarized_dfs)\n",
    "\n",
    "# sns.pairplot(biometrics_df, height=3.5);\n",
    "# plt.show()"
   ]
  },
  {
   "cell_type": "markdown",
   "metadata": {},
   "source": [
    "## Correlation Analysis"
   ]
  },
  {
   "cell_type": "code",
   "execution_count": 6,
   "metadata": {},
   "outputs": [
    {
     "data": {
      "text/plain": [
       "<matplotlib.axes._subplots.AxesSubplot at 0x7fe261bf5fa0>"
      ]
     },
     "execution_count": 6,
     "metadata": {},
     "output_type": "execute_result"
    },
    {
     "data": {
      "image/png": "[encoded data removed]",
      "text/plain": [
       "<Figure size 864x576 with 2 Axes>"
      ]
     },
     "metadata": {
      "needs_background": "light"
     },
     "output_type": "display_data"
    }
   ],
   "source": [
    "plt.figure(figsize=(12,8))\n",
    "sns.heatmap(biometrics_df.corr(), annot=True, fmt=\".2f\", cmap='YlGnBu')\n",
    "# plt.show()"
   ]
  },
  {
   "cell_type": "markdown",
   "metadata": {},
   "source": [
    "# Model creation"
   ]
  },
  {
   "cell_type": "code",
   "execution_count": 7,
   "metadata": {},
   "outputs": [],
   "source": [
    "from sklearn.model_selection import cross_val_score\n",
    "from sklearn.model_selection import cross_val_predict\n",
    "from sklearn.metrics import confusion_matrix, accuracy_score, classification_report\n",
    "from sklearn.metrics import precision_score, recall_score, f1_score\n",
    "from sklearn import svm\n",
    "from sklearn.model_selection import train_test_split\n",
    "from sklearn.metrics import confusion_matrix\n",
    "from sklearn.ensemble import AdaBoostClassifier\n",
    "from sklearn.model_selection import GridSearchCV"
   ]
  },
  {
   "cell_type": "code",
   "execution_count": 8,
   "metadata": {},
   "outputs": [],
   "source": [
    "X = biometrics_df[['MicroSiemens', 'HR', 'HRV' ]].values\n",
    "y = biometrics_df['ArousalMean'].values"
   ]
  },
  {
   "cell_type": "code",
   "execution_count": 9,
   "metadata": {},
   "outputs": [],
   "source": [
    "X_train, X_test, y_train, y_test = train_test_split(X, y, test_size=0.2, shuffle=False, random_state=42)"
   ]
  },
  {
   "cell_type": "code",
   "execution_count": 10,
   "metadata": {},
   "outputs": [],
   "source": [
    "# Para poder usar un clasificador, los datos de la variable target deben ser discretos.\n",
    "#Los convertimos a True-False (Aroused-NotAroused) con el fin de poder entrear un clasificador binario\n",
    "def map_to_0_and_1(arousal):\n",
    "    return 0 if arousal < 5 else 1\n",
    "\n",
    "y_train_aroused = np.array(list(map(map_to_0_and_1, y_train)))\n",
    "y_test_aroused = np.array(list(map(map_to_0_and_1, y_test)))"
   ]
  },
  {
   "cell_type": "code",
   "execution_count": 11,
   "metadata": {},
   "outputs": [],
   "source": [
    "from sklearn import preprocessing\n",
    "from sklearn.model_selection import cross_val_score, cross_val_predict\n",
    "from sklearn.metrics import accuracy_score, classification_report\n",
    "from sklearn.metrics import confusion_matrix, roc_auc_score\n",
    "def print_score(clf, X_train, X_test, y_train, y_test, train=True):\n",
    "    '''\n",
    "    v0.1 Follow the scikit learn library format in terms of input\n",
    "    print the accuracy score, classification report and confusion matrix of classifier\n",
    "    '''\n",
    "    lb = preprocessing.LabelBinarizer()\n",
    "    lb.fit(y_train)\n",
    "    if train:\n",
    "        '''\n",
    "        training performance\n",
    "        '''\n",
    "        res = clf.predict(X_train)\n",
    "        print(\"Train Result:\\n\")\n",
    "        print(\"accuracy score: {0:.4f}\\n\".format(accuracy_score(y_train, \n",
    "                                                                res)))\n",
    "        print(\"Classification Report: \\n {}\\n\".format(classification_report(y_train, \n",
    "                                                                            res)))\n",
    "        print(\"Confusion Matrix: \\n {}\\n\".format(confusion_matrix(y_train, \n",
    "                                                                  res)))\n",
    "        print(\"ROC AUC: {0:.4f}\\n\".format(roc_auc_score(lb.transform(y_train), \n",
    "                                                      lb.transform(res))))\n",
    "        \n",
    "        print(pd.DataFrame(confusion_matrix(y_train, y_train),\n",
    "             columns=pd.MultiIndex.from_product([['Prediction'], [\"Negative\", \"Positive\"]]),\n",
    "             index=pd.MultiIndex.from_product([[\"Actual\"], [\"Negative\", \"Positive\"]])))\n",
    "\n",
    "        res = cross_val_score(clf, X_train, y_train, cv=10, scoring='accuracy')\n",
    "        print(\"Average Accuracy: \\t {0:.4f}\".format(np.mean(res)))\n",
    "        print(\"Accuracy SD: \\t\\t {0:.4f}\".format(np.std(res)))\n",
    "        \n",
    "    elif train==False:\n",
    "        '''\n",
    "        test performance\n",
    "        '''\n",
    "        res_test = clf.predict(X_test)\n",
    "        print(\"Test Result:\\n\")        \n",
    "        print(\"accuracy score: {0:.4f}\\n\".format(accuracy_score(y_test, \n",
    "                                                                res_test)))\n",
    "        print(\"Classification Report: \\n {}\\n\".format(classification_report(y_test, \n",
    "                                                                            res_test)))\n",
    "        print(\"Confusion Matrix: \\n {}\\n\".format(confusion_matrix(y_test, \n",
    "                                                                  res_test)))   \n",
    "        print(\"ROC AUC: {0:.4f}\\n\".format(roc_auc_score(lb.transform(y_test), \n",
    "                                                      lb.transform(res_test))))\n",
    "        "
   ]
  },
  {
   "cell_type": "code",
   "execution_count": 13,
   "metadata": {},
   "outputs": [
    {
     "data": {
      "text/plain": [
       "AdaBoostClassifier(n_estimators=100, random_state=42)"
      ]
     },
     "execution_count": 13,
     "metadata": {},
     "output_type": "execute_result"
    }
   ],
   "source": [
    "ada_clf = AdaBoostClassifier(n_estimators=100, random_state=42)\n",
    "ada_clf.fit(X_train, y_train_aroused)"
   ]
  },
  {
   "cell_type": "markdown",
   "metadata": {},
   "source": [
    "# Prediction"
   ]
  },
  {
   "cell_type": "code",
   "execution_count": 14,
   "metadata": {},
   "outputs": [
    {
     "data": {
      "text/plain": [
       "array([0])"
      ]
     },
     "execution_count": 14,
     "metadata": {},
     "output_type": "execute_result"
    }
   ],
   "source": [
    "ada_clf.predict(X[145].reshape(1, -1))"
   ]
  },
  {
   "cell_type": "markdown",
   "metadata": {},
   "source": [
    "# TRAIN Performance Measuring"
   ]
  },
  {
   "cell_type": "code",
   "execution_count": 15,
   "metadata": {},
   "outputs": [
    {
     "name": "stdout",
     "output_type": "stream",
     "text": [
      "Train Result:\n",
      "\n",
      "accuracy score: 0.7644\n",
      "\n",
      "Classification Report: \n",
      "               precision    recall  f1-score   support\n",
      "\n",
      "           0       0.78      0.93      0.85      1304\n",
      "           1       0.66      0.35      0.46       517\n",
      "\n",
      "    accuracy                           0.76      1821\n",
      "   macro avg       0.72      0.64      0.65      1821\n",
      "weighted avg       0.75      0.76      0.74      1821\n",
      "\n",
      "\n",
      "Confusion Matrix: \n",
      " [[1209   95]\n",
      " [ 334  183]]\n",
      "\n",
      "ROC AUC: 0.6406\n",
      "\n",
      "Average Accuracy: \t 0.6166\n",
      "Accuracy SD: \t\t 0.0735\n",
      "\n",
      "******************************\n",
      "\n",
      "Test Result:\n",
      "\n",
      "accuracy score: 0.5417\n",
      "\n",
      "Classification Report: \n",
      "               precision    recall  f1-score   support\n",
      "\n",
      "           0       0.57      0.83      0.67       263\n",
      "           1       0.39      0.16      0.22       193\n",
      "\n",
      "    accuracy                           0.54       456\n",
      "   macro avg       0.48      0.49      0.45       456\n",
      "weighted avg       0.50      0.54      0.48       456\n",
      "\n",
      "\n",
      "Confusion Matrix: \n",
      " [[217  46]\n",
      " [163  30]]\n",
      "\n",
      "ROC AUC: 0.4903\n",
      "\n"
     ]
    }
   ],
   "source": [
    "print_score(ada_clf, X_train, X_test, y_train_aroused, y_test_aroused, train=True)\n",
    "print(\"\\n******************************\\n\")\n",
    "print_score(ada_clf, X_train, X_test, y_train_aroused, y_test_aroused, train=False)"
   ]
  },
  {
   "cell_type": "code",
   "execution_count": 16,
   "metadata": {},
   "outputs": [
    {
     "data": {
      "text/plain": [
       "AdaBoostClassifier(base_estimator=RandomForestClassifier(), n_estimators=100)"
      ]
     },
     "execution_count": 16,
     "metadata": {},
     "output_type": "execute_result"
    }
   ],
   "source": [
    "from sklearn.ensemble import RandomForestClassifier\n",
    "ada_clf = AdaBoostClassifier(RandomForestClassifier(n_estimators=100), n_estimators=100)\n",
    "ada_clf.fit(X_train, y_train_aroused)"
   ]
  },
  {
   "cell_type": "code",
   "execution_count": 18,
   "metadata": {},
   "outputs": [
    {
     "name": "stdout",
     "output_type": "stream",
     "text": [
      "Train Result:\n",
      "\n",
      "accuracy score: 1.0000\n",
      "\n",
      "Classification Report: \n",
      "               precision    recall  f1-score   support\n",
      "\n",
      "           0       1.00      1.00      1.00      1304\n",
      "           1       1.00      1.00      1.00       517\n",
      "\n",
      "    accuracy                           1.00      1821\n",
      "   macro avg       1.00      1.00      1.00      1821\n",
      "weighted avg       1.00      1.00      1.00      1821\n",
      "\n",
      "\n",
      "Confusion Matrix: \n",
      " [[1304    0]\n",
      " [   0  517]]\n",
      "\n",
      "ROC AUC: 1.0000\n",
      "\n",
      "Average Accuracy: \t 0.6238\n",
      "Accuracy SD: \t\t 0.0680\n",
      "\n",
      "*****************************\n",
      "\n",
      "Test Result:\n",
      "\n",
      "accuracy score: 0.5461\n",
      "\n",
      "Classification Report: \n",
      "               precision    recall  f1-score   support\n",
      "\n",
      "           0       0.57      0.83      0.68       263\n",
      "           1       0.41      0.17      0.24       193\n",
      "\n",
      "    accuracy                           0.55       456\n",
      "   macro avg       0.49      0.50      0.46       456\n",
      "weighted avg       0.50      0.55      0.49       456\n",
      "\n",
      "\n",
      "Confusion Matrix: \n",
      " [[217  46]\n",
      " [161  32]]\n",
      "\n",
      "ROC AUC: 0.4954\n",
      "\n"
     ]
    }
   ],
   "source": [
    "print_score(ada_clf, X_train, X_test, y_train_aroused, y_test_aroused, train=True)\n",
    "print(\"\\n*****************************\\n\")\n",
    "print_score(ada_clf, X_train, X_test, y_train_aroused, y_test_aroused, train=False)"
   ]
  },
  {
   "cell_type": "code",
   "execution_count": 31,
   "metadata": {},
   "outputs": [],
   "source": [
    "df_y_train = pd.DataFrame(data=y_test_aroused, columns=['Arousal'])\n",
    "df_y_pred = pd.DataFrame(data=y_test_pred_grid, columns=['Arousal'])"
   ]
  },
  {
   "cell_type": "code",
   "execution_count": 32,
   "metadata": {},
   "outputs": [
    {
     "data": {
      "image/png": "[encoded data removed]",
      "text/plain": [
       "<Figure size 432x288 with 1 Axes>"
      ]
     },
     "metadata": {
      "needs_background": "light"
     },
     "output_type": "display_data"
    }
   ],
   "source": [
    "plt.plot(df_y_pred[\"Arousal\"])\n",
    "plt.show()"
   ]
  },
  {
   "cell_type": "code",
   "execution_count": 33,
   "metadata": {},
   "outputs": [
    {
     "data": {
      "image/png": "[encoded data removed]",
      "text/plain": [
       "<Figure size 432x288 with 1 Axes>"
      ]
     },
     "metadata": {
      "needs_background": "light"
     },
     "output_type": "display_data"
    }
   ],
   "source": [
    "plt.plot(df_y_train[\"Arousal\"])\n",
    "plt.show()"
   ]
  },
  {
   "cell_type": "code",
   "execution_count": null,
   "metadata": {},
   "outputs": [],
   "source": []
  }
 ],
 "metadata": {
  "kernelspec": {
   "display_name": "Python 3",
   "language": "python",
   "name": "python3"
  },
  "language_info": {
   "codemirror_mode": {
    "name": "ipython",
    "version": 3
   },
   "file_extension": ".py",
   "mimetype": "text/x-python",
   "name": "python",
   "nbconvert_exporter": "python",
   "pygments_lexer": "ipython3",
   "version": "3.8.3"
  }
 },
 "nbformat": 4,
 "nbformat_minor": 4
}
