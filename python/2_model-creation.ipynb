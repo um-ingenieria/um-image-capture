{
 "cells": [
  {
   "cell_type": "markdown",
   "metadata": {},
   "source": [
    "## Este notebook es encargado utilizar el CSV con las prruebas consolidadas para crear y entrenar un modelo"
   ]
  },
  {
   "cell_type": "code",
   "execution_count": 16,
   "metadata": {},
   "outputs": [],
   "source": [
    "import numpy as np\n",
    "import pandas as pd\n",
    "import matplotlib.pyplot as plt\n",
    "%matplotlib inline\n",
    "import seaborn as sns\n",
    "import sklearn\n",
    "from sklearn import preprocessing\n",
    "import math\n",
    "from sklearn.model_selection import cross_val_score\n",
    "from sklearn.model_selection import cross_val_predict\n",
    "from sklearn.metrics import confusion_matrix\n",
    "from sklearn.metrics import precision_score, recall_score, f1_score\n",
    "from sklearn import svm\n",
    "from sklearn.model_selection import train_test_split\n",
    "from sklearn.metrics import confusion_matrix\n",
    "from sklearn import preprocessing\n",
    "from sklearn.model_selection import cross_val_score, cross_val_predict\n",
    "from sklearn.metrics import accuracy_score, classification_report\n",
    "from sklearn.metrics import confusion_matrix, roc_auc_score\n",
    "from sklearn.model_selection import cross_val_score\n",
    "from sklearn.model_selection import cross_val_predict\n",
    "from sklearn.metrics import confusion_matrix\n",
    "from sklearn.metrics import precision_score, recall_score, f1_score\n",
    "from sklearn import svm\n",
    "from sklearn.model_selection import train_test_split\n",
    "from sklearn.metrics import confusion_matrix\n",
    "from sklearn.pipeline import Pipeline\n",
    "from sklearn.model_selection import train_test_split, GridSearchCV\n",
    "from sklearn.ensemble import AdaBoostClassifier\n",
    "from sklearn.ensemble import RandomForestClassifier\n",
    "from sklearn.neighbors import KNeighborsClassifier"
   ]
  },
  {
   "cell_type": "code",
   "execution_count": 17,
   "metadata": {},
   "outputs": [
    {
     "data": {
      "text/html": [
       "<div>\n",
       "<style scoped>\n",
       "    .dataframe tbody tr th:only-of-type {\n",
       "        vertical-align: middle;\n",
       "    }\n",
       "\n",
       "    .dataframe tbody tr th {\n",
       "        vertical-align: top;\n",
       "    }\n",
       "\n",
       "    .dataframe thead th {\n",
       "        text-align: right;\n",
       "    }\n",
       "</style>\n",
       "<table border=\"1\" class=\"dataframe\">\n",
       "  <thead>\n",
       "    <tr style=\"text-align: right;\">\n",
       "      <th></th>\n",
       "      <th>HR</th>\n",
       "      <th>RR</th>\n",
       "      <th>HRV</th>\n",
       "      <th>MicroSiemens</th>\n",
       "      <th>SCR</th>\n",
       "      <th>SCR_MIN</th>\n",
       "      <th>PhaseName</th>\n",
       "      <th>ArousalMean</th>\n",
       "      <th>Aroused</th>\n",
       "      <th>TimeStamp</th>\n",
       "      <th>...</th>\n",
       "      <th>HR-2</th>\n",
       "      <th>HR-1</th>\n",
       "      <th>HRV-4</th>\n",
       "      <th>HRV-3</th>\n",
       "      <th>HRV-2</th>\n",
       "      <th>HRV-1</th>\n",
       "      <th>MicroSiemens-4</th>\n",
       "      <th>MicroSiemens-3</th>\n",
       "      <th>MicroSiemens-2</th>\n",
       "      <th>MicroSiemens-1</th>\n",
       "    </tr>\n",
       "  </thead>\n",
       "  <tbody>\n",
       "    <tr>\n",
       "      <th>0</th>\n",
       "      <td>0.180957</td>\n",
       "      <td>-0.246737</td>\n",
       "      <td>-0.638383</td>\n",
       "      <td>1.604263</td>\n",
       "      <td>0</td>\n",
       "      <td>0</td>\n",
       "      <td>HA_PV</td>\n",
       "      <td>6.07</td>\n",
       "      <td>1</td>\n",
       "      <td>2020-10-25 19:03:44</td>\n",
       "      <td>...</td>\n",
       "      <td>0.180957</td>\n",
       "      <td>0.180957</td>\n",
       "      <td>-0.638383</td>\n",
       "      <td>-0.638383</td>\n",
       "      <td>-0.638383</td>\n",
       "      <td>-0.638383</td>\n",
       "      <td>1.604263</td>\n",
       "      <td>1.604263</td>\n",
       "      <td>1.604263</td>\n",
       "      <td>1.604263</td>\n",
       "    </tr>\n",
       "    <tr>\n",
       "      <th>1</th>\n",
       "      <td>0.463350</td>\n",
       "      <td>-0.508771</td>\n",
       "      <td>-0.930989</td>\n",
       "      <td>1.357679</td>\n",
       "      <td>0</td>\n",
       "      <td>0</td>\n",
       "      <td>HA_PV</td>\n",
       "      <td>6.07</td>\n",
       "      <td>1</td>\n",
       "      <td>2020-10-25 19:03:44</td>\n",
       "      <td>...</td>\n",
       "      <td>0.463350</td>\n",
       "      <td>0.463350</td>\n",
       "      <td>-0.930989</td>\n",
       "      <td>-0.930989</td>\n",
       "      <td>-0.930989</td>\n",
       "      <td>-0.930989</td>\n",
       "      <td>1.357679</td>\n",
       "      <td>1.357679</td>\n",
       "      <td>1.357679</td>\n",
       "      <td>1.357679</td>\n",
       "    </tr>\n",
       "    <tr>\n",
       "      <th>2</th>\n",
       "      <td>0.419905</td>\n",
       "      <td>-0.468458</td>\n",
       "      <td>-1.085573</td>\n",
       "      <td>1.357679</td>\n",
       "      <td>0</td>\n",
       "      <td>0</td>\n",
       "      <td>HA_PV</td>\n",
       "      <td>6.07</td>\n",
       "      <td>1</td>\n",
       "      <td>2020-10-25 19:03:45</td>\n",
       "      <td>...</td>\n",
       "      <td>0.419905</td>\n",
       "      <td>0.419905</td>\n",
       "      <td>-1.085573</td>\n",
       "      <td>-1.085573</td>\n",
       "      <td>-1.085573</td>\n",
       "      <td>-1.085573</td>\n",
       "      <td>1.357679</td>\n",
       "      <td>1.357679</td>\n",
       "      <td>1.357679</td>\n",
       "      <td>1.357679</td>\n",
       "    </tr>\n",
       "    <tr>\n",
       "      <th>3</th>\n",
       "      <td>0.419905</td>\n",
       "      <td>-0.468458</td>\n",
       "      <td>-1.121459</td>\n",
       "      <td>1.111095</td>\n",
       "      <td>0</td>\n",
       "      <td>0</td>\n",
       "      <td>HA_PV</td>\n",
       "      <td>7.31</td>\n",
       "      <td>1</td>\n",
       "      <td>2020-10-25 19:03:46</td>\n",
       "      <td>...</td>\n",
       "      <td>0.419905</td>\n",
       "      <td>0.419905</td>\n",
       "      <td>-1.121459</td>\n",
       "      <td>-1.121459</td>\n",
       "      <td>-1.121459</td>\n",
       "      <td>-1.121459</td>\n",
       "      <td>1.111095</td>\n",
       "      <td>1.111095</td>\n",
       "      <td>1.111095</td>\n",
       "      <td>1.111095</td>\n",
       "    </tr>\n",
       "    <tr>\n",
       "      <th>4</th>\n",
       "      <td>0.506795</td>\n",
       "      <td>-0.549084</td>\n",
       "      <td>-1.088333</td>\n",
       "      <td>1.111095</td>\n",
       "      <td>0</td>\n",
       "      <td>0</td>\n",
       "      <td>HA_PV</td>\n",
       "      <td>7.31</td>\n",
       "      <td>1</td>\n",
       "      <td>2020-10-25 19:03:46</td>\n",
       "      <td>...</td>\n",
       "      <td>0.419905</td>\n",
       "      <td>0.419905</td>\n",
       "      <td>-0.638383</td>\n",
       "      <td>-0.930989</td>\n",
       "      <td>-1.085573</td>\n",
       "      <td>-1.121459</td>\n",
       "      <td>1.604263</td>\n",
       "      <td>1.357679</td>\n",
       "      <td>1.357679</td>\n",
       "      <td>1.111095</td>\n",
       "    </tr>\n",
       "  </tbody>\n",
       "</table>\n",
       "<p>5 rows × 22 columns</p>\n",
       "</div>"
      ],
      "text/plain": [
       "         HR        RR       HRV  MicroSiemens  SCR  SCR_MIN PhaseName  \\\n",
       "0  0.180957 -0.246737 -0.638383      1.604263    0        0     HA_PV   \n",
       "1  0.463350 -0.508771 -0.930989      1.357679    0        0     HA_PV   \n",
       "2  0.419905 -0.468458 -1.085573      1.357679    0        0     HA_PV   \n",
       "3  0.419905 -0.468458 -1.121459      1.111095    0        0     HA_PV   \n",
       "4  0.506795 -0.549084 -1.088333      1.111095    0        0     HA_PV   \n",
       "\n",
       "   ArousalMean  Aroused            TimeStamp  ...      HR-2      HR-1  \\\n",
       "0         6.07        1  2020-10-25 19:03:44  ...  0.180957  0.180957   \n",
       "1         6.07        1  2020-10-25 19:03:44  ...  0.463350  0.463350   \n",
       "2         6.07        1  2020-10-25 19:03:45  ...  0.419905  0.419905   \n",
       "3         7.31        1  2020-10-25 19:03:46  ...  0.419905  0.419905   \n",
       "4         7.31        1  2020-10-25 19:03:46  ...  0.419905  0.419905   \n",
       "\n",
       "      HRV-4     HRV-3     HRV-2     HRV-1  MicroSiemens-4  MicroSiemens-3  \\\n",
       "0 -0.638383 -0.638383 -0.638383 -0.638383        1.604263        1.604263   \n",
       "1 -0.930989 -0.930989 -0.930989 -0.930989        1.357679        1.357679   \n",
       "2 -1.085573 -1.085573 -1.085573 -1.085573        1.357679        1.357679   \n",
       "3 -1.121459 -1.121459 -1.121459 -1.121459        1.111095        1.111095   \n",
       "4 -0.638383 -0.930989 -1.085573 -1.121459        1.604263        1.357679   \n",
       "\n",
       "   MicroSiemens-2  MicroSiemens-1  \n",
       "0        1.604263        1.604263  \n",
       "1        1.357679        1.357679  \n",
       "2        1.357679        1.357679  \n",
       "3        1.111095        1.111095  \n",
       "4        1.357679        1.111095  \n",
       "\n",
       "[5 rows x 22 columns]"
      ]
     },
     "execution_count": 17,
     "metadata": {},
     "output_type": "execute_result"
    }
   ],
   "source": [
    "biometrics_df = pd.read_csv(\"./1_standarized_biometrics.csv\")\n",
    "biometrics_df.head()"
   ]
  },
  {
   "cell_type": "code",
   "execution_count": 18,
   "metadata": {},
   "outputs": [],
   "source": [
    "# X = biometrics_df[['MicroSiemens', 'HR', 'HRV']].values\n",
    "X = biometrics_df[['MicroSiemens', 'HR', 'HRV', 'MicroSiemens-4', 'MicroSiemens-3', 'MicroSiemens-2', 'MicroSiemens-1', 'HR-4', 'HR-3', 'HR-2', 'HR-1', 'HRV-4','HRV-3','HRV-2','HRV-1']].values\n",
    "y = biometrics_df['Aroused'].values"
   ]
  },
  {
   "cell_type": "code",
   "execution_count": 19,
   "metadata": {},
   "outputs": [
    {
     "data": {
      "text/plain": [
       "array([[ 1.60426292,  0.18095678, -0.63838286, ..., -0.63838286,\n",
       "        -0.63838286, -0.63838286],\n",
       "       [ 1.35767905,  0.46335022, -0.93098869, ..., -0.93098869,\n",
       "        -0.93098869, -0.93098869],\n",
       "       [ 1.35767905,  0.41990507, -1.08557291, ..., -1.08557291,\n",
       "        -1.08557291, -1.08557291],\n",
       "       ...,\n",
       "       [ 0.92410292, -1.00764835, -1.10377383, ..., -1.0792364 ,\n",
       "        -1.10868131, -1.12585751],\n",
       "       [ 1.11904139, -0.46657089, -1.00562414, ..., -1.10868131,\n",
       "        -1.12585751, -1.10377383],\n",
       "       [ 1.21651063,  0.73582348, -0.90011322, ..., -1.12585751,\n",
       "        -1.10377383, -1.00562414]])"
      ]
     },
     "execution_count": 19,
     "metadata": {},
     "output_type": "execute_result"
    }
   ],
   "source": [
    "X"
   ]
  },
  {
   "cell_type": "code",
   "execution_count": 20,
   "metadata": {},
   "outputs": [],
   "source": [
    "X_train, X_test, y_train, y_test = train_test_split(X, y, test_size=0.2, shuffle=False, random_state=42)"
   ]
  },
  {
   "cell_type": "markdown",
   "metadata": {},
   "source": [
    "# Models Creation"
   ]
  },
  {
   "cell_type": "code",
   "execution_count": 21,
   "metadata": {},
   "outputs": [],
   "source": [
    "# model = \"adaboost\"\n",
    "model = \"knn\"\n",
    "# model = \"random-forest\"\n",
    "# model = \"svm-rbf\"\n",
    "# model = \"svm-poly\""
   ]
  },
  {
   "cell_type": "markdown",
   "metadata": {},
   "source": [
    "### Adaboost"
   ]
  },
  {
   "cell_type": "code",
   "execution_count": 22,
   "metadata": {},
   "outputs": [],
   "source": [
    "if model == \"adaboost\":\n",
    "    clf = AdaBoostClassifier(n_estimators=100, random_state=42)\n",
    "    #Adaboost with RandomForest\n",
    "    clf2 = AdaBoostClassifier(RandomForestClassifier(n_estimators=100), n_estimators=100)\n",
    "    print(f\"Usando {model}\")"
   ]
  },
  {
   "cell_type": "markdown",
   "metadata": {},
   "source": [
    "### KNN"
   ]
  },
  {
   "cell_type": "code",
   "execution_count": 23,
   "metadata": {},
   "outputs": [
    {
     "name": "stdout",
     "output_type": "stream",
     "text": [
      "Usando knn\n"
     ]
    }
   ],
   "source": [
    "if model == \"knn\":\n",
    "    clf = KNeighborsClassifier(n_neighbors=5, p=2, metric='minkowski')\n",
    "\n",
    "    # Grid Search\n",
    "    clf.get_params()\n",
    "    params = {'n_neighbors': [1, 2, 3, 4, 5, 6, 7, 8, 9, 10]}\n",
    "    grid_search_cv = GridSearchCV(KNeighborsClassifier(), params, n_jobs=-1, verbose=1)\n",
    "    print(f\"Usando {model}\")"
   ]
  },
  {
   "cell_type": "markdown",
   "metadata": {},
   "source": [
    "### Random Forest"
   ]
  },
  {
   "cell_type": "code",
   "execution_count": 24,
   "metadata": {},
   "outputs": [],
   "source": [
    "if model == \"random-forest\":\n",
    "    clf = RandomForestClassifier(random_state=42, n_estimators=100)\n",
    "\n",
    "    # Grid Search\n",
    "    rf_clf = RandomForestClassifier(random_state=42, n_estimators=100)\n",
    "    params_grid = {\"max_depth\": [3, None], \"min_samples_split\": [2, 3, 10], \"min_samples_leaf\": [1, 3, 10], \"bootstrap\": [True, False], \"criterion\": ['gini', 'entropy']}\n",
    "    grid_search_cv = GridSearchCV(rf_clf, params_grid, n_jobs=-1, cv=5, verbose=1, scoring='accuracy', iid=False)\n",
    "    print(f\"Usando {model}\")"
   ]
  },
  {
   "cell_type": "markdown",
   "metadata": {},
   "source": [
    "### SVM rbf"
   ]
  },
  {
   "cell_type": "code",
   "execution_count": 25,
   "metadata": {},
   "outputs": [],
   "source": [
    "if model == \"svm-rbf\":\n",
    "    clf = svm.SVC(C=0.1, gamma=0.01, kernel='rbf')\n",
    "    \n",
    "    # Grid Search\n",
    "    pipeline = Pipeline([('clf', svm.SVC(kernel='rbf', C=1, gamma=0.1))])\n",
    "    params = {'clf__C':(0.1, 0.5, 1, 2, 5, 10, 20), 'clf__gamma':(0.001, 0.01, 0.1, 0.25, 0.5, 0.75, 1)}\n",
    "    grid_search_cv = GridSearchCV(pipeline, params, n_jobs=-1, cv=3, verbose=1, scoring='accuracy')\n",
    "    print(f\"Usando {model}\")"
   ]
  },
  {
   "cell_type": "markdown",
   "metadata": {},
   "source": [
    "### SVM Poly"
   ]
  },
  {
   "cell_type": "code",
   "execution_count": 26,
   "metadata": {},
   "outputs": [],
   "source": [
    "if model == \"svm-poly\":\n",
    "    clf = svm.SVC(kernel='poly', degree=3)\n",
    "    \n",
    "    # Grid Search\n",
    "    pipeline = Pipeline([('clf', svm.SVC(kernel='poly'))])\n",
    "    params = {'clf__C':(0.1, 0.5, 1, 2, 5, 10, 20), 'clf__gamma':(0.001, 0.01, 0.1, 0.25, 0.5, 0.75, 1), 'clf__degree': (3, 4, 5)}\n",
    "    grid_search_cv = GridSearchCV(pipeline, params, n_jobs=-1, cv=3, verbose=1, scoring='accuracy')\n",
    "    print(f\"Usando {model}\")"
   ]
  },
  {
   "cell_type": "markdown",
   "metadata": {},
   "source": [
    "# Model Fit"
   ]
  },
  {
   "cell_type": "code",
   "execution_count": 27,
   "metadata": {},
   "outputs": [
    {
     "name": "stdout",
     "output_type": "stream",
     "text": [
      "Fitting 5 folds for each of 10 candidates, totalling 50 fits\n"
     ]
    },
    {
     "name": "stderr",
     "output_type": "stream",
     "text": [
      "[Parallel(n_jobs=-1)]: Using backend LokyBackend with 12 concurrent workers.\n",
      "[Parallel(n_jobs=-1)]: Done  26 tasks      | elapsed:    2.0s\n",
      "[Parallel(n_jobs=-1)]: Done  50 out of  50 | elapsed:    2.0s finished\n"
     ]
    },
    {
     "data": {
      "text/plain": [
       "GridSearchCV(estimator=KNeighborsClassifier(), n_jobs=-1,\n",
       "             param_grid={'n_neighbors': [1, 2, 3, 4, 5, 6, 7, 8, 9, 10]},\n",
       "             verbose=1)"
      ]
     },
     "execution_count": 27,
     "metadata": {},
     "output_type": "execute_result"
    }
   ],
   "source": [
    "clf.fit(X_train, y_train)\n",
    "grid_search_cv.fit(X_train, y_train)"
   ]
  },
  {
   "cell_type": "markdown",
   "metadata": {},
   "source": [
    "# Performance Measurement"
   ]
  },
  {
   "cell_type": "code",
   "execution_count": 28,
   "metadata": {},
   "outputs": [],
   "source": [
    "def print_score(clf, X_train, y_train, X_test, y_test, train=True):\n",
    "    if train:\n",
    "        print(\"Train Result:\\n\")\n",
    "        print(\"Confusion Matrix: \\n {}\\n\".format(confusion_matrix(y_train, clf.predict(X_train))))\n",
    "        print(\"Accuracy score: {0:.4f}\\n\".format(accuracy_score(y_train, clf.predict(X_train))))\n",
    "        print(\"Classification Report: \\n {}\\n\".format(classification_report(y_train, clf.predict(X_train))))\n",
    "\n",
    "        res = cross_val_score(clf, X_train, y_train, cv=4, scoring='accuracy')\n",
    "        print(\"Cross Validation \\t\")\n",
    "        print(\"Average Accuracy: \\t {0:.4f}\".format(np.mean(res)))\n",
    "        print(\"Accuracy SD: \\t\\t {0:.4f}\".format(np.std(res)))\n",
    "        \n",
    "    elif train==False:\n",
    "        print(\"Test Result:\\n\")        \n",
    "        print(\"Confusion Matrix: \\n {}\\n\".format(confusion_matrix(y_test, clf.predict(X_test))))        \n",
    "        print(\"accuracy score: {0:.4f}\\n\".format(accuracy_score(y_test, clf.predict(X_test))))\n",
    "        print(\"Classification Report: \\n {}\\n\".format(classification_report(y_test, clf.predict(X_test))))\n",
    "        \n",
    "        res = cross_val_score(clf, X_test, y_test, cv=4, scoring='accuracy')\n",
    "        print(\"Cross Validation \\t\")\n",
    "        print(\"Average Accuracy: \\t {0:.4f}\".format(np.mean(res)))\n",
    "        print(\"Accuracy SD: \\t\\t {0:.4f}\".format(np.std(res)))"
   ]
  },
  {
   "cell_type": "markdown",
   "metadata": {},
   "source": [
    "## Model performance"
   ]
  },
  {
   "cell_type": "code",
   "execution_count": 29,
   "metadata": {},
   "outputs": [
    {
     "name": "stdout",
     "output_type": "stream",
     "text": [
      "Train Result:\n",
      "\n",
      "Confusion Matrix: \n",
      " [[ 693  158]\n",
      " [ 136 1062]]\n",
      "\n",
      "Accuracy score: 0.8565\n",
      "\n",
      "Classification Report: \n",
      "               precision    recall  f1-score   support\n",
      "\n",
      "           0       0.84      0.81      0.83       851\n",
      "           1       0.87      0.89      0.88      1198\n",
      "\n",
      "    accuracy                           0.86      2049\n",
      "   macro avg       0.85      0.85      0.85      2049\n",
      "weighted avg       0.86      0.86      0.86      2049\n",
      "\n",
      "\n",
      "Cross Validation \t\n",
      "Average Accuracy: \t 0.5944\n",
      "Accuracy SD: \t\t 0.0457\n",
      "\n",
      "******************************\n",
      "\n",
      "Test Result:\n",
      "\n",
      "Confusion Matrix: \n",
      " [[129  96]\n",
      " [101 187]]\n",
      "\n",
      "accuracy score: 0.6160\n",
      "\n",
      "Classification Report: \n",
      "               precision    recall  f1-score   support\n",
      "\n",
      "           0       0.56      0.57      0.57       225\n",
      "           1       0.66      0.65      0.65       288\n",
      "\n",
      "    accuracy                           0.62       513\n",
      "   macro avg       0.61      0.61      0.61       513\n",
      "weighted avg       0.62      0.62      0.62       513\n",
      "\n",
      "\n",
      "Cross Validation \t\n",
      "Average Accuracy: \t 0.5713\n",
      "Accuracy SD: \t\t 0.0649\n"
     ]
    }
   ],
   "source": [
    "print_score(clf, X_train, y_train, X_test, y_test, train=True)\n",
    "print(\"\\n******************************\\n\")\n",
    "print_score(clf, X_train, y_train, X_test, y_test, train=False)"
   ]
  },
  {
   "cell_type": "markdown",
   "metadata": {},
   "source": [
    "## Grid Search performance"
   ]
  },
  {
   "cell_type": "code",
   "execution_count": 30,
   "metadata": {},
   "outputs": [
    {
     "name": "stdout",
     "output_type": "stream",
     "text": [
      "Train Result:\n",
      "\n",
      "Confusion Matrix: \n",
      " [[ 670  181]\n",
      " [ 147 1051]]\n",
      "\n",
      "Accuracy score: 0.8399\n",
      "\n",
      "Classification Report: \n",
      "               precision    recall  f1-score   support\n",
      "\n",
      "           0       0.82      0.79      0.80       851\n",
      "           1       0.85      0.88      0.87      1198\n",
      "\n",
      "    accuracy                           0.84      2049\n",
      "   macro avg       0.84      0.83      0.83      2049\n",
      "weighted avg       0.84      0.84      0.84      2049\n",
      "\n",
      "\n",
      "Fitting 5 folds for each of 10 candidates, totalling 50 fits\n"
     ]
    },
    {
     "name": "stderr",
     "output_type": "stream",
     "text": [
      "[Parallel(n_jobs=-1)]: Using backend LokyBackend with 12 concurrent workers.\n",
      "[Parallel(n_jobs=-1)]: Done  50 out of  50 | elapsed:    0.2s finished\n",
      "[Parallel(n_jobs=-1)]: Using backend LokyBackend with 12 concurrent workers.\n"
     ]
    },
    {
     "name": "stdout",
     "output_type": "stream",
     "text": [
      "Fitting 5 folds for each of 10 candidates, totalling 50 fits\n",
      "Fitting 5 folds for each of 10 candidates, totalling 50 fits\n"
     ]
    },
    {
     "name": "stderr",
     "output_type": "stream",
     "text": [
      "[Parallel(n_jobs=-1)]: Done  50 out of  50 | elapsed:    0.1s finished\n",
      "[Parallel(n_jobs=-1)]: Using backend LokyBackend with 12 concurrent workers.\n",
      "[Parallel(n_jobs=-1)]: Done  50 out of  50 | elapsed:    0.2s finished\n"
     ]
    },
    {
     "name": "stdout",
     "output_type": "stream",
     "text": [
      "Fitting 5 folds for each of 10 candidates, totalling 50 fits\n",
      "Cross Validation \t\n",
      "Average Accuracy: \t 0.5925\n",
      "Accuracy SD: \t\t 0.0638\n",
      "\n",
      "******************************\n",
      "\n",
      "Test Result:\n",
      "\n",
      "Confusion Matrix: \n",
      " [[123 102]\n",
      " [102 186]]\n",
      "\n"
     ]
    },
    {
     "name": "stderr",
     "output_type": "stream",
     "text": [
      "[Parallel(n_jobs=-1)]: Using backend LokyBackend with 12 concurrent workers.\n",
      "[Parallel(n_jobs=-1)]: Done  50 out of  50 | elapsed:    0.1s finished\n"
     ]
    },
    {
     "name": "stdout",
     "output_type": "stream",
     "text": [
      "accuracy score: 0.6023\n",
      "\n",
      "Classification Report: \n",
      "               precision    recall  f1-score   support\n",
      "\n",
      "           0       0.55      0.55      0.55       225\n",
      "           1       0.65      0.65      0.65       288\n",
      "\n",
      "    accuracy                           0.60       513\n",
      "   macro avg       0.60      0.60      0.60       513\n",
      "weighted avg       0.60      0.60      0.60       513\n",
      "\n",
      "\n",
      "Fitting 5 folds for each of 10 candidates, totalling 50 fits\n",
      "Fitting 5 folds for each of 10 candidates, totalling 50 fits\n",
      "Fitting 5 folds for each of 10 candidates, totalling 50 fits\n"
     ]
    },
    {
     "name": "stderr",
     "output_type": "stream",
     "text": [
      "[Parallel(n_jobs=-1)]: Using backend LokyBackend with 12 concurrent workers.\n",
      "[Parallel(n_jobs=-1)]: Done  50 out of  50 | elapsed:    0.0s finished\n",
      "[Parallel(n_jobs=-1)]: Using backend LokyBackend with 12 concurrent workers.\n",
      "[Parallel(n_jobs=-1)]: Done  50 out of  50 | elapsed:    0.1s finished\n",
      "[Parallel(n_jobs=-1)]: Using backend LokyBackend with 12 concurrent workers.\n",
      "[Parallel(n_jobs=-1)]: Done  50 out of  50 | elapsed:    0.0s finished\n",
      "[Parallel(n_jobs=-1)]: Using backend LokyBackend with 12 concurrent workers.\n"
     ]
    },
    {
     "name": "stdout",
     "output_type": "stream",
     "text": [
      "Fitting 5 folds for each of 10 candidates, totalling 50 fits\n",
      "Cross Validation \t\n",
      "Average Accuracy: \t 0.6220\n",
      "Accuracy SD: \t\t 0.0860\n"
     ]
    },
    {
     "name": "stderr",
     "output_type": "stream",
     "text": [
      "[Parallel(n_jobs=-1)]: Done  50 out of  50 | elapsed:    0.0s finished\n"
     ]
    },
    {
     "data": {
      "text/plain": [
       "{'mean_fit_time': array([0.00271616, 0.00367064, 0.00246797, 0.00228696, 0.00278397,\n",
       "        0.00220318, 0.00208445, 0.00238237, 0.00174322, 0.0014957 ]),\n",
       " 'std_fit_time': array([7.37319046e-04, 1.33103125e-03, 2.95614372e-04, 1.50152182e-04,\n",
       "        7.39776859e-04, 2.59334077e-04, 4.46611430e-04, 1.57222632e-03,\n",
       "        3.98669219e-04, 2.76835080e-05]),\n",
       " 'mean_score_time': array([0.03333201, 0.06429257, 0.05249858, 0.05098653, 0.04663939,\n",
       "        0.04414682, 0.03921442, 0.03656101, 0.03818798, 0.02529759]),\n",
       " 'std_score_time': array([0.00255213, 0.02540898, 0.01304631, 0.00301808, 0.00246312,\n",
       "        0.00379404, 0.00428019, 0.00306569, 0.0012656 , 0.00287072]),\n",
       " 'param_n_neighbors': masked_array(data=[1, 2, 3, 4, 5, 6, 7, 8, 9, 10],\n",
       "              mask=[False, False, False, False, False, False, False, False,\n",
       "                    False, False],\n",
       "        fill_value='?',\n",
       "             dtype=object),\n",
       " 'params': [{'n_neighbors': 1},\n",
       "  {'n_neighbors': 2},\n",
       "  {'n_neighbors': 3},\n",
       "  {'n_neighbors': 4},\n",
       "  {'n_neighbors': 5},\n",
       "  {'n_neighbors': 6},\n",
       "  {'n_neighbors': 7},\n",
       "  {'n_neighbors': 8},\n",
       "  {'n_neighbors': 9},\n",
       "  {'n_neighbors': 10}],\n",
       " 'split0_test_score': array([0.55121951, 0.52926829, 0.56341463, 0.5804878 , 0.57073171,\n",
       "        0.58536585, 0.59512195, 0.59512195, 0.58536585, 0.59268293]),\n",
       " 'split1_test_score': array([0.61707317, 0.59512195, 0.63414634, 0.60487805, 0.61707317,\n",
       "        0.60487805, 0.63414634, 0.63414634, 0.62195122, 0.60487805]),\n",
       " 'split2_test_score': array([0.63414634, 0.63658537, 0.64146341, 0.64878049, 0.66829268,\n",
       "        0.66341463, 0.67804878, 0.69268293, 0.69268293, 0.69512195]),\n",
       " 'split3_test_score': array([0.55365854, 0.50243902, 0.55121951, 0.51463415, 0.55121951,\n",
       "        0.51463415, 0.53414634, 0.50731707, 0.51707317, 0.50731707]),\n",
       " 'split4_test_score': array([0.70171149, 0.68215159, 0.69682152, 0.6992665 , 0.71882641,\n",
       "        0.70904645, 0.71393643, 0.71149144, 0.71393643, 0.71638142]),\n",
       " 'mean_test_score': array([0.61156181, 0.58911324, 0.61741308, 0.6096094 , 0.6252287 ,\n",
       "        0.61546783, 0.63107997, 0.62815195, 0.62620192, 0.62327628]),\n",
       " 'std_test_score': array([0.05596675, 0.06639229, 0.05378018, 0.06239154, 0.06185278,\n",
       "        0.06669567, 0.06288048, 0.0732635 , 0.07171026, 0.07556633]),\n",
       " 'rank_test_score': array([ 8, 10,  6,  9,  4,  7,  1,  2,  3,  5], dtype=int32)}"
      ]
     },
     "execution_count": 30,
     "metadata": {},
     "output_type": "execute_result"
    }
   ],
   "source": [
    "y_test_pred_grid = grid_search_cv.predict(X_test)\n",
    "\n",
    "print_score(grid_search_cv, X_train, y_train, X_test, y_test, train=True)\n",
    "print(\"\\n******************************\\n\")\n",
    "print_score(grid_search_cv, X_train, y_train, X_test, y_test, train=False)\n",
    "\n",
    "grid_search_cv.best_estimator_\n",
    "grid_search_cv.best_estimator_.get_params()\n",
    "grid_search_cv.best_params_\n",
    "grid_search_cv.cv_results_"
   ]
  },
  {
   "cell_type": "markdown",
   "metadata": {},
   "source": [
    "# Save model to disk"
   ]
  },
  {
   "cell_type": "code",
   "execution_count": 31,
   "metadata": {},
   "outputs": [
    {
     "name": "stdout",
     "output_type": "stream",
     "text": [
      "Done\n"
     ]
    }
   ],
   "source": [
    "import pickle\n",
    "# save the model to disk\n",
    "pickle.dump(grid_search_cv, open('./models/model', 'wb'))\n",
    "print('Done')"
   ]
  },
  {
   "cell_type": "code",
   "execution_count": null,
   "metadata": {},
   "outputs": [],
   "source": []
  }
 ],
 "metadata": {
  "kernelspec": {
   "display_name": "Python 3",
   "language": "python",
   "name": "python3"
  },
  "language_info": {
   "codemirror_mode": {
    "name": "ipython",
    "version": 3
   },
   "file_extension": ".py",
   "mimetype": "text/x-python",
   "name": "python",
   "nbconvert_exporter": "python",
   "pygments_lexer": "ipython3",
   "version": "3.8.3"
  }
 },
 "nbformat": 4,
 "nbformat_minor": 4
}
