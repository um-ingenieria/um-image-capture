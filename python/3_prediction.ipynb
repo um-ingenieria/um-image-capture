{
 "cells": [
  {
   "cell_type": "markdown",
   "metadata": {},
   "source": [
    "## Este notebook es encargado de implementar un modelo para realizar la predicción del estado emocional de una sesión de prueba"
   ]
  },
  {
   "cell_type": "code",
   "execution_count": 36,
   "metadata": {},
   "outputs": [],
   "source": [
    "import pickle\n",
    "import pandas as pd\n",
    "from sklearn import preprocessing\n",
    "import matplotlib.pyplot as plt\n",
    "import numpy as np"
   ]
  },
  {
   "cell_type": "code",
   "execution_count": 37,
   "metadata": {},
   "outputs": [],
   "source": [
    "model = pickle.load(open('./models/model', 'rb'))\n",
    "# result_val = model.score(xval, yval)\n",
    "# result_test = model.score(xtest, ytest)"
   ]
  },
  {
   "cell_type": "code",
   "execution_count": 38,
   "metadata": {},
   "outputs": [
    {
     "data": {
      "text/html": [
       "<div>\n",
       "<style scoped>\n",
       "    .dataframe tbody tr th:only-of-type {\n",
       "        vertical-align: middle;\n",
       "    }\n",
       "\n",
       "    .dataframe tbody tr th {\n",
       "        vertical-align: top;\n",
       "    }\n",
       "\n",
       "    .dataframe thead th {\n",
       "        text-align: right;\n",
       "    }\n",
       "</style>\n",
       "<table border=\"1\" class=\"dataframe\">\n",
       "  <thead>\n",
       "    <tr style=\"text-align: right;\">\n",
       "      <th></th>\n",
       "      <th>TimeStamp</th>\n",
       "      <th>HR</th>\n",
       "      <th>RR</th>\n",
       "      <th>HRV</th>\n",
       "      <th>MicroSiemens</th>\n",
       "      <th>SCR</th>\n",
       "      <th>SCR_MIN</th>\n",
       "      <th>ArousalMean</th>\n",
       "      <th>ValenceMean</th>\n",
       "      <th>ArousalSD</th>\n",
       "      <th>ValenceSD</th>\n",
       "      <th>PhaseName</th>\n",
       "      <th>MatchesSam</th>\n",
       "      <th>HasValence</th>\n",
       "      <th>Valence</th>\n",
       "      <th>ImageName</th>\n",
       "    </tr>\n",
       "  </thead>\n",
       "  <tbody>\n",
       "    <tr>\n",
       "      <th>0</th>\n",
       "      <td>2021-01-07 19:44:40</td>\n",
       "      <td>81.7</td>\n",
       "      <td>734</td>\n",
       "      <td>0.10</td>\n",
       "      <td>1.12</td>\n",
       "      <td>0</td>\n",
       "      <td>0</td>\n",
       "      <td>0.0</td>\n",
       "      <td>0.0</td>\n",
       "      <td>0.0</td>\n",
       "      <td>0.0</td>\n",
       "      <td>NaN</td>\n",
       "      <td>False</td>\n",
       "      <td>0</td>\n",
       "      <td>0.5</td>\n",
       "      <td>NaN</td>\n",
       "    </tr>\n",
       "    <tr>\n",
       "      <th>1</th>\n",
       "      <td>2021-01-07 19:44:41</td>\n",
       "      <td>86.2</td>\n",
       "      <td>696</td>\n",
       "      <td>0.00</td>\n",
       "      <td>1.13</td>\n",
       "      <td>0</td>\n",
       "      <td>0</td>\n",
       "      <td>0.0</td>\n",
       "      <td>0.0</td>\n",
       "      <td>0.0</td>\n",
       "      <td>0.0</td>\n",
       "      <td>NaN</td>\n",
       "      <td>False</td>\n",
       "      <td>0</td>\n",
       "      <td>0.5</td>\n",
       "      <td>NaN</td>\n",
       "    </tr>\n",
       "    <tr>\n",
       "      <th>2</th>\n",
       "      <td>2021-01-07 19:44:42</td>\n",
       "      <td>82.8</td>\n",
       "      <td>725</td>\n",
       "      <td>0.00</td>\n",
       "      <td>1.12</td>\n",
       "      <td>0</td>\n",
       "      <td>0</td>\n",
       "      <td>0.0</td>\n",
       "      <td>0.0</td>\n",
       "      <td>0.0</td>\n",
       "      <td>0.0</td>\n",
       "      <td>NaN</td>\n",
       "      <td>False</td>\n",
       "      <td>0</td>\n",
       "      <td>0.5</td>\n",
       "      <td>NaN</td>\n",
       "    </tr>\n",
       "    <tr>\n",
       "      <th>3</th>\n",
       "      <td>2021-01-07 19:44:43</td>\n",
       "      <td>82.5</td>\n",
       "      <td>727</td>\n",
       "      <td>0.00</td>\n",
       "      <td>1.12</td>\n",
       "      <td>0</td>\n",
       "      <td>0</td>\n",
       "      <td>0.0</td>\n",
       "      <td>0.0</td>\n",
       "      <td>0.0</td>\n",
       "      <td>0.0</td>\n",
       "      <td>NaN</td>\n",
       "      <td>False</td>\n",
       "      <td>0</td>\n",
       "      <td>0.5</td>\n",
       "      <td>NaN</td>\n",
       "    </tr>\n",
       "    <tr>\n",
       "      <th>4</th>\n",
       "      <td>2021-01-07 19:44:43</td>\n",
       "      <td>81.9</td>\n",
       "      <td>733</td>\n",
       "      <td>1.05</td>\n",
       "      <td>1.11</td>\n",
       "      <td>0</td>\n",
       "      <td>0</td>\n",
       "      <td>0.0</td>\n",
       "      <td>0.0</td>\n",
       "      <td>0.0</td>\n",
       "      <td>0.0</td>\n",
       "      <td>NaN</td>\n",
       "      <td>False</td>\n",
       "      <td>0</td>\n",
       "      <td>0.5</td>\n",
       "      <td>NaN</td>\n",
       "    </tr>\n",
       "  </tbody>\n",
       "</table>\n",
       "</div>"
      ],
      "text/plain": [
       "             TimeStamp    HR   RR   HRV  MicroSiemens  SCR  SCR_MIN  \\\n",
       "0  2021-01-07 19:44:40  81.7  734  0.10          1.12    0        0   \n",
       "1  2021-01-07 19:44:41  86.2  696  0.00          1.13    0        0   \n",
       "2  2021-01-07 19:44:42  82.8  725  0.00          1.12    0        0   \n",
       "3  2021-01-07 19:44:43  82.5  727  0.00          1.12    0        0   \n",
       "4  2021-01-07 19:44:43  81.9  733  1.05          1.11    0        0   \n",
       "\n",
       "   ArousalMean  ValenceMean  ArousalSD  ValenceSD PhaseName  MatchesSam  \\\n",
       "0          0.0          0.0        0.0        0.0       NaN       False   \n",
       "1          0.0          0.0        0.0        0.0       NaN       False   \n",
       "2          0.0          0.0        0.0        0.0       NaN       False   \n",
       "3          0.0          0.0        0.0        0.0       NaN       False   \n",
       "4          0.0          0.0        0.0        0.0       NaN       False   \n",
       "\n",
       "   HasValence  Valence  ImageName  \n",
       "0           0      0.5        NaN  \n",
       "1           0      0.5        NaN  \n",
       "2           0      0.5        NaN  \n",
       "3           0      0.5        NaN  \n",
       "4           0      0.5        NaN  "
      ]
     },
     "execution_count": 38,
     "metadata": {},
     "output_type": "execute_result"
    }
   ],
   "source": [
    "df_1 = pd.read_csv(\"..//resources//csv//data//sujeto1-rocio-2020-10-25-biometrics.csv\")\n",
    "df_2 = pd.read_csv(\"..//resources//csv//data//sujeto2-juan-2020-11-01-biometrics.csv\")\n",
    "df_3 = pd.read_csv(\"..//resources//csv//data//sujeto3-brenda-2020-11-16-biometrics.csv\")\n",
    "df_4 = pd.read_csv(\"..//resources//csv//data//sujeto4-matias-2020-11-16-biometrics.csv\")\n",
    "df_5 = pd.read_csv(\"..//resources//csv//data//sujeto5-sebastian-2021-01-05-biometrics.csv\")\n",
    "df_6 = pd.read_csv(\"..//resources//csv//data//sujeto6-rocio-2021-01-07-biometrics.csv\")\n",
    "\n",
    "df_valence = pd.read_csv(\"..//resources//csv//data//sujeto6-rocio-2021-01-07-biometrics-valence.csv\")\n",
    "\n",
    "df_to_predict = df_valence\n",
    "\n",
    "df_to_predict.head()"
   ]
  },
  {
   "cell_type": "code",
   "execution_count": 39,
   "metadata": {},
   "outputs": [],
   "source": [
    "def add_prev_values(df, col):\n",
    "    df.loc[0, f'{col}-4'] = df.loc[0, col]\n",
    "    df.loc[0, f'{col}-3'] = df.loc[0, col]\n",
    "    df.loc[0, f'{col}-2'] = df.loc[0, col]\n",
    "    df.loc[0, f'{col}-1'] = df.loc[0, col]\n",
    "\n",
    "    for i in range(0, len(df)):\n",
    "        if i >= 4:\n",
    "            df.loc[i, f'{col}-4'] = df.loc[i-4, col]\n",
    "            df.loc[i, f'{col}-3'] = df.loc[i-3, col]\n",
    "            df.loc[i, f'{col}-2'] = df.loc[i-2, col]\n",
    "            df.loc[i, f'{col}-1'] = df.loc[i-1, col]\n",
    "        else:\n",
    "            df.loc[i, f'{col}-4'] = df.loc[i, col]\n",
    "            df.loc[i, f'{col}-3'] = df.loc[i, col]\n",
    "            df.loc[i, f'{col}-2'] = df.loc[i, col]\n",
    "            df.loc[i, f'{col}-1'] = df.loc[i, col]"
   ]
  },
  {
   "cell_type": "code",
   "execution_count": 40,
   "metadata": {},
   "outputs": [],
   "source": [
    "# Función que determina cuando un sujeto se encuentra en un estado de excitación (1) o relajación (0) dado un valor de arousal.\n",
    "def isAroused(arousal):\n",
    "    return 0 if arousal < 5 else 1"
   ]
  },
  {
   "cell_type": "code",
   "execution_count": 41,
   "metadata": {},
   "outputs": [],
   "source": [
    "df_to_standarize = df_to_predict.copy()\n",
    "    \n",
    "# Se remueven las mediciones sin estímulo (previas al inicio de estímulos), para no ofuscar el entrenamiento\n",
    "filterNoArousalMeasurements = df_to_standarize['ArousalMean'] > 0\n",
    "df_to_standarize = df_to_standarize[filterNoArousalMeasurements]\n",
    "\n",
    "# remover las mediciones para las que el sam no coincidió antes de la estandarización, para no afectar la desviación\n",
    "# filterNoMatchesSAMMeasurements = filtered1['MatchesSam'] == True\n",
    "# df_to_standarize = df_to_standarize[filterNoMatchesSAMMeasurements]\n",
    "\n",
    "# Se agrega la columna Aroused (0/1) para la clasificación binaria\n",
    "df_to_standarize['Aroused'] = df_to_standarize['ArousalMean'].map(isAroused)\n",
    "\n",
    "columns_to_standarize = ['HR', 'RR', 'HRV', 'MicroSiemens']\n",
    "other_columns = ['SCR', 'SCR_MIN', 'PhaseName', 'ArousalMean', 'Aroused', 'TimeStamp', 'HasValence', 'Valence', 'ImageName']\n",
    "all_columns = columns_to_standarize + other_columns\n",
    "\n",
    "scaler = preprocessing.StandardScaler()\n",
    "standarized_df = scaler.fit_transform(df_to_standarize[columns_to_standarize])\n",
    "\n",
    "standarized_df_with_rest_of_data = np.append(standarized_df, df_to_standarize[other_columns], axis=1)\n",
    "\n",
    "# Se convierte a DataFrame\n",
    "standarized_df_with_rest_of_data = pd.DataFrame(standarized_df_with_rest_of_data, columns=all_columns)\n",
    "\n",
    "# Se agregan valores imperceptibles de valencia al primer y último registro para poder graficarlo y mantener la escala\n",
    "standarized_df_with_rest_of_data['HasValence'][0] = 1\n",
    "standarized_df_with_rest_of_data['Valence'][0] = 0.0001\n",
    "standarized_df_with_rest_of_data['ImageName'][0] = ''\n",
    "last_row_index = len(standarized_df_with_rest_of_data) - 1\n",
    "standarized_df_with_rest_of_data['HasValence'][last_row_index] = 1\n",
    "standarized_df_with_rest_of_data['Valence'][last_row_index] = 0.0001\n",
    "standarized_df_with_rest_of_data['ImageName'][last_row_index] = ''\n",
    "\n",
    "# Conversión de tipos\n",
    "standarized_df_with_rest_of_data['HR'] = standarized_df_with_rest_of_data['HR'].astype(float)\n",
    "standarized_df_with_rest_of_data['RR'] = standarized_df_with_rest_of_data['RR'].astype(float)\n",
    "standarized_df_with_rest_of_data['HRV'] = standarized_df_with_rest_of_data['HRV'].astype(float)\n",
    "standarized_df_with_rest_of_data['MicroSiemens'] = standarized_df_with_rest_of_data['MicroSiemens'].astype(float)\n",
    "standarized_df_with_rest_of_data['SCR'] = standarized_df_with_rest_of_data['SCR'].astype(int)\n",
    "standarized_df_with_rest_of_data['SCR_MIN'] = standarized_df_with_rest_of_data['SCR_MIN'].astype(int)\n",
    "standarized_df_with_rest_of_data['PhaseName'] = standarized_df_with_rest_of_data['PhaseName']\n",
    "standarized_df_with_rest_of_data['ArousalMean'] = standarized_df_with_rest_of_data['ArousalMean'].astype(float)\n",
    "standarized_df_with_rest_of_data['Aroused'] = standarized_df_with_rest_of_data['Aroused'].astype(int)\n",
    "standarized_df_with_rest_of_data['Aroused'] = standarized_df_with_rest_of_data['Aroused'].astype(int)\n",
    "standarized_df_with_rest_of_data['TimeStamp'] = standarized_df_with_rest_of_data['TimeStamp']\n",
    "standarized_df_with_rest_of_data['HasValence'] = standarized_df_with_rest_of_data['HasValence'].astype(int)\n",
    "standarized_df_with_rest_of_data['Valence'] = standarized_df_with_rest_of_data['Valence'].astype(float)\n",
    "standarized_df_with_rest_of_data['ImageName'] = standarized_df_with_rest_of_data['ImageName']\n",
    "\n",
    "# Se agregan a cada columna del dataset las X mediciones anteriores en el tiempo para cada una de las siguientes features.\n",
    "add_prev_values(standarized_df_with_rest_of_data, \"HR\")\n",
    "add_prev_values(standarized_df_with_rest_of_data, \"HRV\")\n",
    "add_prev_values(standarized_df_with_rest_of_data, \"MicroSiemens\")\n",
    "\n",
    "df_to_predict = standarized_df_with_rest_of_data"
   ]
  },
  {
   "cell_type": "code",
   "execution_count": 42,
   "metadata": {},
   "outputs": [],
   "source": [
    "y_pred = model.predict(df_to_predict[['MicroSiemens', 'HR', 'HRV', 'MicroSiemens-4', 'MicroSiemens-3', 'MicroSiemens-2', 'MicroSiemens-1', 'HR-4', 'HR-3', 'HR-2', 'HR-1', 'HRV-4','HRV-3','HRV-2','HRV-1']].values)"
   ]
  },
  {
   "cell_type": "code",
   "execution_count": 43,
   "metadata": {},
   "outputs": [
    {
     "data": {
      "image/png": "[encoded data removed]",
      "text/plain": [
       "<Figure size 432x288 with 1 Axes>"
      ]
     },
     "metadata": {
      "needs_background": "light"
     },
     "output_type": "display_data"
    }
   ],
   "source": [
    "plt.plot(y_pred)\n",
    "plt.show()"
   ]
  },
  {
   "cell_type": "code",
   "execution_count": 44,
   "metadata": {},
   "outputs": [
    {
     "data": {
      "text/plain": [
       "0.6567164179104478"
      ]
     },
     "execution_count": 44,
     "metadata": {},
     "output_type": "execute_result"
    }
   ],
   "source": [
    "model.score(df_to_predict[['MicroSiemens', 'HR', 'HRV', 'MicroSiemens-4', 'MicroSiemens-3', 'MicroSiemens-2', 'MicroSiemens-1', 'HR-4', 'HR-3', 'HR-2', 'HR-1', 'HRV-4','HRV-3','HRV-2','HRV-1']], df_to_predict[['Aroused']])"
   ]
  },
  {
   "cell_type": "code",
   "execution_count": 45,
   "metadata": {},
   "outputs": [],
   "source": [
    "df_to_predict['ArousalPred'] = y_pred\n",
    "\n",
    "df_to_predict.to_csv(r'./3_prediction.csv', date_format='%s', index = False)"
   ]
  },
  {
   "cell_type": "code",
   "execution_count": null,
   "metadata": {},
   "outputs": [],
   "source": []
  }
 ],
 "metadata": {
  "kernelspec": {
   "display_name": "Python 3",
   "language": "python",
   "name": "python3"
  },
  "language_info": {
   "codemirror_mode": {
    "name": "ipython",
    "version": 3
   },
   "file_extension": ".py",
   "mimetype": "text/x-python",
   "name": "python",
   "nbconvert_exporter": "python",
   "pygments_lexer": "ipython3",
   "version": "3.8.3"
  }
 },
 "nbformat": 4,
 "nbformat_minor": 4
}
